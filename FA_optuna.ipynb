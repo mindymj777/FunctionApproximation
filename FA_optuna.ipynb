{
 "cells": [
  {
   "cell_type": "code",
   "execution_count": 255,
   "metadata": {},
   "outputs": [],
   "source": [
    "import numpy as np \n",
    "import pandas as pd\n",
    "import torch\n",
    "import torch.nn as nn\n",
    "from torch.utils.data import DataLoader,random_split,Dataset\n",
    "import matplotlib.pyplot as plt\n",
    "from sklearn.preprocessing import StandardScaler"
   ]
  },
  {
   "cell_type": "code",
   "execution_count": 256,
   "metadata": {},
   "outputs": [],
   "source": [
    "# train = pd.read_csv('C:/Users/MJ/Desktop/FunctionApproximation/train.csv')\n",
    "# test =pd.read_csv('C:/Users/MJ/Desktop/FunctionApproximation/test.csv')\n",
    "# val_size = int(0.2 * len(train))\n",
    "# train_size=len(train)-val_size\n",
    "# train, valid = random_split(train,[train_size, val_size])"
   ]
  },
  {
   "cell_type": "code",
   "execution_count": 257,
   "metadata": {},
   "outputs": [],
   "source": [
    "cuda = True if torch.cuda.is_available() else False"
   ]
  },
  {
   "cell_type": "code",
   "execution_count": 258,
   "metadata": {},
   "outputs": [],
   "source": [
    "train=pd.read_csv(\"C:/Users/MJ/Desktop/FunctionApproximation/train.csv\")\n",
    "test=pd.read_csv(\"C:/Users/MJ/Desktop/FunctionApproximation/test.csv\")"
   ]
  },
  {
   "cell_type": "code",
   "execution_count": 259,
   "metadata": {},
   "outputs": [],
   "source": [
    "class FADataset(Dataset):\n",
    "    def __init__(self, data,train=True):\n",
    "        super().__init__()\n",
    "        if(train):\n",
    "            self.x=data.drop(['id','y'],axis=1).values\n",
    "            self.x=torch.tensor(self.x,dtype=torch.float32)\n",
    "            self.y=torch.tensor(data['y'].values,dtype=torch.float32)\n",
    "        else:\n",
    "            self.x=data.drop(['id'],axis=1).values\n",
    "            self.x=torch.tensor(self.x,dtype=torch.float32)\n",
    "    def __len__(self):\n",
    "        return len(self.x)\n",
    "    def __getitem__(self, idx):\n",
    "        data=self.x[idx]\n",
    "        target=self.y[idx]\n",
    "        return data,target,idx\n",
    "\n",
    "    # def update_loss_value(self, idx):\n",
    "    #     self.flag[idx] = True\n",
    "        "
   ]
  },
  {
   "cell_type": "code",
   "execution_count": 260,
   "metadata": {},
   "outputs": [],
   "source": [
    "batch_size=80\n",
    "dataset=FADataset(train,train=True)\n",
    "trainset, validset = random_split(dataset, [0.9, 0.1])\n",
    "train_dl= DataLoader(trainset, shuffle=True, batch_size=batch_size)\n",
    "valid_dl= DataLoader(validset, shuffle=True, batch_size=batch_size)\n",
    "testset=FADataset(test,train=False)\n",
    "test_dl=DataLoader(testset,shuffle=False, batch_size=batch_size)"
   ]
  },
  {
   "cell_type": "code",
   "execution_count": 261,
   "metadata": {},
   "outputs": [],
   "source": [
    "class MLP(nn.Module):\n",
    "    def __init__(self, input_dim, num_hidden1, num_hidden2,num_hidden3,num_hidden4,num_hidden5,num_hidden6, output_dim):\n",
    "        super().__init__()\n",
    "        self.model=nn.Sequential(nn.Linear(input_dim,num_hidden1),\n",
    "                                nn.ReLU(True),\n",
    "                                nn.Linear(num_hidden1,num_hidden2),\n",
    "                                nn.ReLU(True),\n",
    "                                nn.Linear(num_hidden2,num_hidden3),\n",
    "                                nn.ReLU(True),\n",
    "                                nn.Linear(num_hidden3,num_hidden4),\n",
    "                                nn.ReLU(True),  \n",
    "                                nn.Linear(num_hidden4,num_hidden5),\n",
    "                                nn.ReLU(True),  \n",
    "                                nn.Linear(num_hidden5,num_hidden6),\n",
    "                                nn.Linear(num_hidden6,output_dim)\n",
    "                                )\n",
    "    def forward(self, x):\n",
    "        return self.model(x)\n"
   ]
  },
  {
   "cell_type": "code",
   "execution_count": 262,
   "metadata": {},
   "outputs": [],
   "source": [
    "model= MLP(input_dim=2, num_hidden1=80,num_hidden2=128,num_hidden3=256,num_hidden4=512,num_hidden5=256,num_hidden6=128, output_dim=1)\n",
    "criterion = nn.MSELoss()\n",
    "optimizer = torch.optim.Adam(model.parameters(), lr=0.0001)"
   ]
  },
  {
   "cell_type": "code",
   "execution_count": 263,
   "metadata": {},
   "outputs": [
    {
     "name": "stdout",
     "output_type": "stream",
     "text": [
      "lossmean=: 0.8347115144133568\n",
      "lossmean=: 0.1383598893880844\n",
      "lossmean=: 0.1128661036491394\n",
      "lossmean=: 0.0947590321302414\n",
      "lossmean=: 0.08899831771850586\n",
      "lossmean=: 0.07309763133525848\n",
      "lossmean=: 0.06389287114143372\n",
      "lossmean=: 0.055696140974760056\n",
      "lossmean=: 0.0636394526809454\n",
      "lossmean=: 0.050134479999542236\n",
      "lossmean=: 0.04985796473920345\n",
      "lossmean=: 0.037437865510582924\n",
      "lossmean=: 0.03836698643863201\n",
      "lossmean=: 0.0347941629588604\n",
      "lossmean=: 0.0373261496424675\n",
      "lossmean=: 0.032818255946040154\n",
      "lossmean=: 0.025913610123097897\n",
      "lossmean=: 0.02568631526082754\n",
      "lossmean=: 0.025903836823999882\n",
      "lossmean=: 0.028533288277685642\n",
      "lossmean=: 0.026719513349235058\n",
      "lossmean=: 0.02163355704396963\n",
      "lossmean=: 0.024305399507284164\n",
      "lossmean=: 0.020626570098102093\n",
      "lossmean=: 0.02250686101615429\n",
      "lossmean=: 0.022948212921619415\n",
      "lossmean=: 0.023500023409724236\n",
      "lossmean=: 0.02962900511920452\n",
      "lossmean=: 0.024226967245340347\n",
      "lossmean=: 0.023135513998568058\n",
      "lossmean=: 0.024100403301417828\n",
      "lossmean=: 0.03323686495423317\n",
      "lossmean=: 0.027009377256035805\n",
      "lossmean=: 0.01957527082413435\n",
      "lossmean=: 0.021045244298875332\n",
      "lossmean=: 0.023451699875295162\n",
      "lossmean=: 0.03208211995661259\n",
      "lossmean=: 0.025693192146718502\n",
      "lossmean=: 0.022768788039684296\n",
      "lossmean=: 0.020328988321125507\n",
      "lossmean=: 0.025495322421193123\n",
      "lossmean=: 0.021459825336933136\n",
      "lossmean=: 0.021570157259702682\n",
      "lossmean=: 0.02081010490655899\n",
      "lossmean=: 0.021123865619301796\n",
      "lossmean=: 0.027869845740497112\n",
      "lossmean=: 0.030386566184461117\n",
      "lossmean=: 0.020381446927785873\n",
      "lossmean=: 0.02403300255537033\n",
      "lossmean=: 0.026468288153409958\n"
     ]
    }
   ],
   "source": [
    "num_epochs = 50\n",
    "losses=[]\n",
    "size = len(train_dl)\n",
    "model.train()\n",
    "for epoch in range(num_epochs):\n",
    "    losses=[]\n",
    "    for batch,(data, target,idx) in enumerate(train_dl):\n",
    "        outputs = model(data)\n",
    "        loss = criterion(outputs.reshape(-1), target.reshape(-1))\n",
    "        optimizer.zero_grad()\n",
    "        loss.backward()\n",
    "        optimizer.step()\n",
    "        if batch % 80 == 0: #每通過batch個數量的資料就輸出一次損失的值\n",
    "            # print(f\"loss: {loss.item():>7f} \")\n",
    "            losses.append(loss.item())\n",
    "        \n",
    "    print(\"lossmean=:\",sum(losses)/len(losses))"
   ]
  },
  {
   "cell_type": "code",
   "execution_count": 264,
   "metadata": {},
   "outputs": [
    {
     "data": {
      "text/plain": [
       "0.025691401213407516"
      ]
     },
     "execution_count": 264,
     "metadata": {},
     "output_type": "execute_result"
    }
   ],
   "source": [
    "min(losses)"
   ]
  },
  {
   "cell_type": "code",
   "execution_count": 265,
   "metadata": {},
   "outputs": [
    {
     "name": "stdout",
     "output_type": "stream",
     "text": [
      "loss: 0.023640 \n"
     ]
    }
   ],
   "source": [
    "model.eval()\n",
    "losses=[]\n",
    "for batch,(data, target,idx) in enumerate(valid_dl):\n",
    "    outputs = model(data)\n",
    "    loss = criterion(outputs.reshape(-1), target.reshape(-1))\n",
    "    losses.append(loss.item())\n",
    "print(f\"loss: {sum(losses)/len(losses):>7f} \")"
   ]
  },
  {
   "cell_type": "code",
   "execution_count": 266,
   "metadata": {},
   "outputs": [],
   "source": [
    "model.eval()\n",
    "output=[]\n",
    "for i in range(len(testset)):\n",
    "    output.append((model(testset.x[i])).item())"
   ]
  },
  {
   "cell_type": "code",
   "execution_count": 267,
   "metadata": {},
   "outputs": [
    {
     "data": {
      "text/plain": [
       "0.2990783452987671"
      ]
     },
     "execution_count": 267,
     "metadata": {},
     "output_type": "execute_result"
    }
   ],
   "source": [
    "min(output)"
   ]
  },
  {
   "cell_type": "code",
   "execution_count": 268,
   "metadata": {},
   "outputs": [],
   "source": [
    "sample_submission=pd.read_csv(\"C:/Users/MJ/Desktop/FunctionApproximation/sample_submission.csv\")\n",
    "sample_submission['y']=output\n",
    "sample_submission.to_csv(\"C:/Users/MJ/Desktop/sample_submission.csv\",index=False)"
   ]
  },
  {
   "cell_type": "code",
   "execution_count": 269,
   "metadata": {},
   "outputs": [],
   "source": [
    "import optuna"
   ]
  },
  {
   "cell_type": "code",
   "execution_count": 270,
   "metadata": {},
   "outputs": [],
   "source": [
    "def build_model(params):\n",
    "    \n",
    "    input_dim = 2\n",
    "    output_dim=1\n",
    "    return nn.Sequential(\n",
    "                            nn.Linear(input_dim,params['num_hidden1']),\n",
    "                            nn.ReLU(True),\n",
    "                            nn.Linear(params['num_hidden1'],params['num_hidden2']),\n",
    "                            nn.ReLU(True),\n",
    "                            nn.Linear(params['num_hidden2'],params['num_hidden3']),\n",
    "                            nn.ReLU(True),\n",
    "                            nn.Linear(params['num_hidden3'],params['num_hidden4']),\n",
    "                            nn.ReLU(True),  \n",
    "                            nn.Linear(params['num_hidden4'],params['num_hidden5']),\n",
    "                            nn.ReLU(True),  \n",
    "                            nn.Linear(params['num_hidden5'],params['num_hidden6']),\n",
    "                            nn.Linear(params['num_hidden6'],output_dim)\n",
    "                        )"
   ]
  },
  {
   "cell_type": "code",
   "execution_count": 271,
   "metadata": {},
   "outputs": [],
   "source": [
    "def train_and_evaluate(params,model):\n",
    "\n",
    "    optimizer = getattr(torch.optim, params['optimizer'])(model.parameters(), lr= params['learning_rate'])\n",
    "    \n",
    "\n",
    "    dataset=FADataset(train,train=True)\n",
    "    trainset, validset = random_split(dataset, [0.9, 0.1])\n",
    "    train_dl= DataLoader(trainset, shuffle=True, batch_size=params['batch_size'])\n",
    "    valid_dl= DataLoader(validset, shuffle=True, batch_size=params['batch_size'])\n",
    "    \n",
    "    criterion = nn.MSELoss()\n",
    "\n",
    "    losses=[]\n",
    "    num_epochs=50\n",
    "    model.train()\n",
    "    for epoch in range(num_epochs):\n",
    "        for batch,(data, target,idx) in enumerate(train_dl):\n",
    "            outputs = model(data)\n",
    "            loss = criterion(outputs.reshape(-1), target.reshape(-1))\n",
    "            optimizer.zero_grad()\n",
    "            loss.backward()\n",
    "            optimizer.step()\n",
    "\n",
    "\n",
    "    model.eval()\n",
    "    losses=[]\n",
    "    for batch,(data, target,idx) in enumerate(valid_dl):\n",
    "        outputs = model(data)\n",
    "        loss = criterion(outputs.reshape(-1), target.reshape(-1))\n",
    "        losses.append(loss.item())\n",
    "    print(f\"loss: {sum(losses)/len(losses):>7f} \")\n",
    "    loss=sum(losses)/len(losses)\n",
    "    \n",
    "    return loss\n"
   ]
  },
  {
   "cell_type": "code",
   "execution_count": 272,
   "metadata": {},
   "outputs": [],
   "source": [
    "\n",
    "def objective(trial):\n",
    "\n",
    "    params = {\n",
    "            'learning_rate': trial.suggest_float('learning_rate', 1e-5, 1e-1),\n",
    "            'optimizer': trial.suggest_categorical(\"optimizer\", [\"Adam\", \"SGD\"]),\n",
    "            'num_hidden1': trial.suggest_int(\"num_hidden1\", 4, 500),\n",
    "            'num_hidden2': trial.suggest_int(\"num_hidden2\", 4, 600),\n",
    "            'num_hidden3': trial.suggest_int(\"num_hidden3\", 4, 600),\n",
    "            'num_hidden4': trial.suggest_int(\"num_hidden4\", 4, 600),\n",
    "            'num_hidden5': trial.suggest_int(\"num_hidden5\", 4, 600),\n",
    "            'num_hidden6': trial.suggest_int(\"num_hidden6\", 4, 600),\n",
    "            'batch_size': trial.suggest_int(\"batch_size\", 64, 192,step=16)\n",
    "            }\n",
    "    \n",
    "    \n",
    "    model= build_model(params)\n",
    "    loss=train_and_evaluate(params,model)\n",
    "        \n",
    "    \n",
    "    return loss"
   ]
  },
  {
   "cell_type": "code",
   "execution_count": 273,
   "metadata": {},
   "outputs": [
    {
     "name": "stderr",
     "output_type": "stream",
     "text": [
      "\u001b[32m[I 2023-04-29 20:34:09,532]\u001b[0m A new study created in memory with name: no-name-e3d74531-0a02-4ffe-96e1-5304cdf7338d\u001b[0m\n",
      "\u001b[32m[I 2023-04-29 20:34:16,204]\u001b[0m Trial 0 finished with value: 0.10774971097707749 and parameters: {'learning_rate': 0.01815253213308689, 'optimizer': 'SGD', 'num_hidden1': 313, 'num_hidden2': 107, 'num_hidden3': 148, 'num_hidden4': 174, 'num_hidden5': 176, 'num_hidden6': 323, 'batch_size': 160}. Best is trial 0 with value: 0.10774971097707749.\u001b[0m\n"
     ]
    },
    {
     "name": "stdout",
     "output_type": "stream",
     "text": [
      "loss: 0.107750 \n"
     ]
    },
    {
     "name": "stderr",
     "output_type": "stream",
     "text": [
      "\u001b[32m[I 2023-04-29 20:34:32,957]\u001b[0m Trial 1 finished with value: 0.22592079937458037 and parameters: {'learning_rate': 0.08377454390492545, 'optimizer': 'Adam', 'num_hidden1': 498, 'num_hidden2': 69, 'num_hidden3': 578, 'num_hidden4': 214, 'num_hidden5': 570, 'num_hidden6': 303, 'batch_size': 192}. Best is trial 0 with value: 0.10774971097707749.\u001b[0m\n"
     ]
    },
    {
     "name": "stdout",
     "output_type": "stream",
     "text": [
      "loss: 0.225921 \n"
     ]
    },
    {
     "name": "stderr",
     "output_type": "stream",
     "text": [
      "\u001b[32m[I 2023-04-29 20:34:58,440]\u001b[0m Trial 2 finished with value: 0.1419107038527727 and parameters: {'learning_rate': 0.059293498092321574, 'optimizer': 'Adam', 'num_hidden1': 97, 'num_hidden2': 46, 'num_hidden3': 545, 'num_hidden4': 564, 'num_hidden5': 93, 'num_hidden6': 425, 'batch_size': 112}. Best is trial 0 with value: 0.10774971097707749.\u001b[0m\n"
     ]
    },
    {
     "name": "stdout",
     "output_type": "stream",
     "text": [
      "loss: 0.141911 \n"
     ]
    },
    {
     "name": "stderr",
     "output_type": "stream",
     "text": [
      "\u001b[32m[I 2023-04-29 20:35:08,272]\u001b[0m Trial 3 finished with value: 0.02719693361885018 and parameters: {'learning_rate': 0.050630359836992926, 'optimizer': 'SGD', 'num_hidden1': 479, 'num_hidden2': 278, 'num_hidden3': 424, 'num_hidden4': 53, 'num_hidden5': 153, 'num_hidden6': 170, 'batch_size': 96}. Best is trial 3 with value: 0.02719693361885018.\u001b[0m\n"
     ]
    },
    {
     "name": "stdout",
     "output_type": "stream",
     "text": [
      "loss: 0.027197 \n"
     ]
    },
    {
     "name": "stderr",
     "output_type": "stream",
     "text": [
      "\u001b[32m[I 2023-04-29 20:35:22,008]\u001b[0m Trial 4 finished with value: 0.07278765903578864 and parameters: {'learning_rate': 0.05973390178555178, 'optimizer': 'SGD', 'num_hidden1': 190, 'num_hidden2': 328, 'num_hidden3': 383, 'num_hidden4': 518, 'num_hidden5': 245, 'num_hidden6': 593, 'batch_size': 96}. Best is trial 3 with value: 0.02719693361885018.\u001b[0m\n"
     ]
    },
    {
     "name": "stdout",
     "output_type": "stream",
     "text": [
      "loss: 0.072788 \n"
     ]
    },
    {
     "name": "stderr",
     "output_type": "stream",
     "text": [
      "\u001b[32m[I 2023-04-29 20:35:32,183]\u001b[0m Trial 5 finished with value: 0.04569295942783356 and parameters: {'learning_rate': 0.08202903078152508, 'optimizer': 'SGD', 'num_hidden1': 225, 'num_hidden2': 86, 'num_hidden3': 516, 'num_hidden4': 203, 'num_hidden5': 577, 'num_hidden6': 450, 'batch_size': 176}. Best is trial 3 with value: 0.02719693361885018.\u001b[0m\n"
     ]
    },
    {
     "name": "stdout",
     "output_type": "stream",
     "text": [
      "loss: 0.045693 \n"
     ]
    },
    {
     "name": "stderr",
     "output_type": "stream",
     "text": [
      "\u001b[32m[I 2023-04-29 20:35:46,266]\u001b[0m Trial 6 finished with value: 0.03818526864051819 and parameters: {'learning_rate': 0.04222190888900117, 'optimizer': 'Adam', 'num_hidden1': 211, 'num_hidden2': 213, 'num_hidden3': 301, 'num_hidden4': 237, 'num_hidden5': 264, 'num_hidden6': 36, 'batch_size': 176}. Best is trial 3 with value: 0.02719693361885018.\u001b[0m\n"
     ]
    },
    {
     "name": "stdout",
     "output_type": "stream",
     "text": [
      "loss: 0.038185 \n"
     ]
    },
    {
     "name": "stderr",
     "output_type": "stream",
     "text": [
      "\u001b[32m[I 2023-04-29 20:36:19,987]\u001b[0m Trial 7 finished with value: 0.1464264750480652 and parameters: {'learning_rate': 0.09686911823204643, 'optimizer': 'Adam', 'num_hidden1': 311, 'num_hidden2': 518, 'num_hidden3': 129, 'num_hidden4': 141, 'num_hidden5': 366, 'num_hidden6': 492, 'batch_size': 80}. Best is trial 3 with value: 0.02719693361885018.\u001b[0m\n"
     ]
    },
    {
     "name": "stdout",
     "output_type": "stream",
     "text": [
      "loss: 0.146426 \n"
     ]
    },
    {
     "name": "stderr",
     "output_type": "stream",
     "text": [
      "\u001b[32m[I 2023-04-29 20:36:31,551]\u001b[0m Trial 8 finished with value: 0.037704831848923974 and parameters: {'learning_rate': 0.040831493464774625, 'optimizer': 'SGD', 'num_hidden1': 289, 'num_hidden2': 172, 'num_hidden3': 40, 'num_hidden4': 355, 'num_hidden5': 339, 'num_hidden6': 113, 'batch_size': 64}. Best is trial 3 with value: 0.02719693361885018.\u001b[0m\n"
     ]
    },
    {
     "name": "stdout",
     "output_type": "stream",
     "text": [
      "loss: 0.037705 \n"
     ]
    },
    {
     "name": "stderr",
     "output_type": "stream",
     "text": [
      "\u001b[32m[I 2023-04-29 20:36:49,857]\u001b[0m Trial 9 finished with value: 0.03160181020696958 and parameters: {'learning_rate': 0.010042903707165308, 'optimizer': 'Adam', 'num_hidden1': 142, 'num_hidden2': 392, 'num_hidden3': 114, 'num_hidden4': 225, 'num_hidden5': 33, 'num_hidden6': 122, 'batch_size': 96}. Best is trial 3 with value: 0.02719693361885018.\u001b[0m\n"
     ]
    },
    {
     "name": "stdout",
     "output_type": "stream",
     "text": [
      "loss: 0.031602 \n"
     ]
    },
    {
     "name": "stderr",
     "output_type": "stream",
     "text": [
      "\u001b[32m[I 2023-04-29 20:37:02,005]\u001b[0m Trial 10 finished with value: 0.05454057330886523 and parameters: {'learning_rate': 0.02667333625689811, 'optimizer': 'SGD', 'num_hidden1': 493, 'num_hidden2': 598, 'num_hidden3': 380, 'num_hidden4': 12, 'num_hidden5': 459, 'num_hidden6': 188, 'batch_size': 144}. Best is trial 3 with value: 0.02719693361885018.\u001b[0m\n"
     ]
    },
    {
     "name": "stdout",
     "output_type": "stream",
     "text": [
      "loss: 0.054541 \n"
     ]
    },
    {
     "name": "stderr",
     "output_type": "stream",
     "text": [
      "\u001b[32m[I 2023-04-29 20:37:13,150]\u001b[0m Trial 11 finished with value: 0.03561306023038924 and parameters: {'learning_rate': 0.002258250709498955, 'optimizer': 'Adam', 'num_hidden1': 19, 'num_hidden2': 342, 'num_hidden3': 245, 'num_hidden4': 48, 'num_hidden5': 8, 'num_hidden6': 183, 'batch_size': 112}. Best is trial 3 with value: 0.02719693361885018.\u001b[0m\n"
     ]
    },
    {
     "name": "stdout",
     "output_type": "stream",
     "text": [
      "loss: 0.035613 \n"
     ]
    },
    {
     "name": "stderr",
     "output_type": "stream",
     "text": [
      "\u001b[32m[I 2023-04-29 20:37:37,257]\u001b[0m Trial 12 finished with value: 0.025936122185417583 and parameters: {'learning_rate': 0.006759886458677327, 'optimizer': 'Adam', 'num_hidden1': 400, 'num_hidden2': 431, 'num_hidden3': 428, 'num_hidden4': 372, 'num_hidden5': 103, 'num_hidden6': 175, 'batch_size': 128}. Best is trial 12 with value: 0.025936122185417583.\u001b[0m\n"
     ]
    },
    {
     "name": "stdout",
     "output_type": "stream",
     "text": [
      "loss: 0.025936 \n"
     ]
    },
    {
     "name": "stderr",
     "output_type": "stream",
     "text": [
      "\u001b[32m[I 2023-04-29 20:37:49,608]\u001b[0m Trial 13 finished with value: 0.14595561580998556 and parameters: {'learning_rate': 0.0005230497452209156, 'optimizer': 'SGD', 'num_hidden1': 394, 'num_hidden2': 432, 'num_hidden3': 450, 'num_hidden4': 387, 'num_hidden5': 144, 'num_hidden6': 228, 'batch_size': 128}. Best is trial 12 with value: 0.025936122185417583.\u001b[0m\n"
     ]
    },
    {
     "name": "stdout",
     "output_type": "stream",
     "text": [
      "loss: 0.145956 \n"
     ]
    },
    {
     "name": "stderr",
     "output_type": "stream",
     "text": [
      "\u001b[32m[I 2023-04-29 20:38:14,295]\u001b[0m Trial 14 finished with value: 0.1368269185934748 and parameters: {'learning_rate': 0.028834086439340753, 'optimizer': 'Adam', 'num_hidden1': 413, 'num_hidden2': 228, 'num_hidden3': 445, 'num_hidden4': 442, 'num_hidden5': 199, 'num_hidden6': 65, 'batch_size': 128}. Best is trial 12 with value: 0.025936122185417583.\u001b[0m\n"
     ]
    },
    {
     "name": "stdout",
     "output_type": "stream",
     "text": [
      "loss: 0.136827 \n"
     ]
    },
    {
     "name": "stderr",
     "output_type": "stream",
     "text": [
      "\u001b[32m[I 2023-04-29 20:38:29,681]\u001b[0m Trial 15 finished with value: 0.046414864177887254 and parameters: {'learning_rate': 0.01982107385252874, 'optimizer': 'SGD', 'num_hidden1': 391, 'num_hidden2': 438, 'num_hidden3': 333, 'num_hidden4': 314, 'num_hidden5': 98, 'num_hidden6': 253, 'batch_size': 64}. Best is trial 12 with value: 0.025936122185417583.\u001b[0m\n"
     ]
    },
    {
     "name": "stdout",
     "output_type": "stream",
     "text": [
      "loss: 0.046415 \n"
     ]
    },
    {
     "name": "stderr",
     "output_type": "stream",
     "text": [
      "\u001b[32m[I 2023-04-29 20:38:38,186]\u001b[0m Trial 16 finished with value: 0.0483116681377093 and parameters: {'learning_rate': 0.03777894142590901, 'optimizer': 'SGD', 'num_hidden1': 433, 'num_hidden2': 261, 'num_hidden3': 452, 'num_hidden4': 88, 'num_hidden5': 95, 'num_hidden6': 358, 'batch_size': 144}. Best is trial 12 with value: 0.025936122185417583.\u001b[0m\n"
     ]
    },
    {
     "name": "stdout",
     "output_type": "stream",
     "text": [
      "loss: 0.048312 \n"
     ]
    },
    {
     "name": "stderr",
     "output_type": "stream",
     "text": [
      "\u001b[32m[I 2023-04-29 20:39:11,803]\u001b[0m Trial 17 finished with value: 0.13937349286344317 and parameters: {'learning_rate': 0.05227264886492606, 'optimizer': 'Adam', 'num_hidden1': 353, 'num_hidden2': 498, 'num_hidden3': 235, 'num_hidden4': 454, 'num_hidden5': 404, 'num_hidden6': 139, 'batch_size': 96}. Best is trial 12 with value: 0.025936122185417583.\u001b[0m\n"
     ]
    },
    {
     "name": "stdout",
     "output_type": "stream",
     "text": [
      "loss: 0.139373 \n"
     ]
    },
    {
     "name": "stderr",
     "output_type": "stream",
     "text": [
      "\u001b[32m[I 2023-04-29 20:39:21,865]\u001b[0m Trial 18 finished with value: 0.10946249837676685 and parameters: {'learning_rate': 0.013351344635855092, 'optimizer': 'SGD', 'num_hidden1': 428, 'num_hidden2': 298, 'num_hidden3': 492, 'num_hidden4': 297, 'num_hidden5': 240, 'num_hidden6': 5, 'batch_size': 144}. Best is trial 12 with value: 0.025936122185417583.\u001b[0m\n"
     ]
    },
    {
     "name": "stdout",
     "output_type": "stream",
     "text": [
      "loss: 0.109462 \n"
     ]
    },
    {
     "name": "stderr",
     "output_type": "stream",
     "text": [
      "\u001b[32m[I 2023-04-29 20:39:44,988]\u001b[0m Trial 19 finished with value: 0.14555515348911285 and parameters: {'learning_rate': 0.029866411905408237, 'optimizer': 'Adam', 'num_hidden1': 448, 'num_hidden2': 161, 'num_hidden3': 385, 'num_hidden4': 292, 'num_hidden5': 154, 'num_hidden6': 246, 'batch_size': 112}. Best is trial 12 with value: 0.025936122185417583.\u001b[0m\n"
     ]
    },
    {
     "name": "stdout",
     "output_type": "stream",
     "text": [
      "loss: 0.145555 \n"
     ]
    },
    {
     "name": "stderr",
     "output_type": "stream",
     "text": [
      "\u001b[32m[I 2023-04-29 20:40:10,923]\u001b[0m Trial 20 finished with value: 0.14475041702389718 and parameters: {'learning_rate': 0.05044109851037604, 'optimizer': 'Adam', 'num_hidden1': 358, 'num_hidden2': 371, 'num_hidden3': 272, 'num_hidden4': 113, 'num_hidden5': 52, 'num_hidden6': 81, 'batch_size': 80}. Best is trial 12 with value: 0.025936122185417583.\u001b[0m\n"
     ]
    },
    {
     "name": "stdout",
     "output_type": "stream",
     "text": [
      "loss: 0.144750 \n"
     ]
    },
    {
     "name": "stderr",
     "output_type": "stream",
     "text": [
      "\u001b[32m[I 2023-04-29 20:40:25,803]\u001b[0m Trial 21 finished with value: 0.08446095883846283 and parameters: {'learning_rate': 0.00936720860043359, 'optimizer': 'Adam', 'num_hidden1': 143, 'num_hidden2': 406, 'num_hidden3': 26, 'num_hidden4': 400, 'num_hidden5': 28, 'num_hidden6': 176, 'batch_size': 96}. Best is trial 12 with value: 0.025936122185417583.\u001b[0m\n"
     ]
    },
    {
     "name": "stdout",
     "output_type": "stream",
     "text": [
      "loss: 0.084461 \n"
     ]
    },
    {
     "name": "stderr",
     "output_type": "stream",
     "text": [
      "\u001b[32m[I 2023-04-29 20:40:49,861]\u001b[0m Trial 22 finished with value: 0.029838212952017783 and parameters: {'learning_rate': 0.008462970301017954, 'optimizer': 'Adam', 'num_hidden1': 89, 'num_hidden2': 487, 'num_hidden3': 176, 'num_hidden4': 258, 'num_hidden5': 66, 'num_hidden6': 128, 'batch_size': 80}. Best is trial 12 with value: 0.025936122185417583.\u001b[0m\n"
     ]
    },
    {
     "name": "stdout",
     "output_type": "stream",
     "text": [
      "loss: 0.029838 \n"
     ]
    },
    {
     "name": "stderr",
     "output_type": "stream",
     "text": [
      "\u001b[32m[I 2023-04-29 20:41:14,564]\u001b[0m Trial 23 finished with value: 0.029249218106269837 and parameters: {'learning_rate': 0.0005222840512715682, 'optimizer': 'Adam', 'num_hidden1': 62, 'num_hidden2': 513, 'num_hidden3': 203, 'num_hidden4': 503, 'num_hidden5': 139, 'num_hidden6': 145, 'batch_size': 80}. Best is trial 12 with value: 0.025936122185417583.\u001b[0m\n"
     ]
    },
    {
     "name": "stdout",
     "output_type": "stream",
     "text": [
      "loss: 0.029249 \n"
     ]
    },
    {
     "name": "stderr",
     "output_type": "stream",
     "text": [
      "\u001b[32m[I 2023-04-29 20:41:47,918]\u001b[0m Trial 24 finished with value: 0.028731566925461475 and parameters: {'learning_rate': 0.0007797156412504189, 'optimizer': 'Adam', 'num_hidden1': 14, 'num_hidden2': 544, 'num_hidden3': 336, 'num_hidden4': 470, 'num_hidden5': 132, 'num_hidden6': 222, 'batch_size': 64}. Best is trial 12 with value: 0.025936122185417583.\u001b[0m\n"
     ]
    },
    {
     "name": "stdout",
     "output_type": "stream",
     "text": [
      "loss: 0.028732 \n"
     ]
    },
    {
     "name": "stderr",
     "output_type": "stream",
     "text": [
      "\u001b[32m[I 2023-04-29 20:42:41,331]\u001b[0m Trial 25 finished with value: 0.146827332675457 and parameters: {'learning_rate': 0.01952965818308372, 'optimizer': 'Adam', 'num_hidden1': 357, 'num_hidden2': 592, 'num_hidden3': 329, 'num_hidden4': 577, 'num_hidden5': 294, 'num_hidden6': 226, 'batch_size': 64}. Best is trial 12 with value: 0.025936122185417583.\u001b[0m\n"
     ]
    },
    {
     "name": "stdout",
     "output_type": "stream",
     "text": [
      "loss: 0.146827 \n"
     ]
    },
    {
     "name": "stderr",
     "output_type": "stream",
     "text": [
      "\u001b[32m[I 2023-04-29 20:42:57,294]\u001b[0m Trial 26 finished with value: 0.06732673038329397 and parameters: {'learning_rate': 0.023868299183883453, 'optimizer': 'SGD', 'num_hidden1': 475, 'num_hidden2': 560, 'num_hidden3': 397, 'num_hidden4': 467, 'num_hidden5': 207, 'num_hidden6': 361, 'batch_size': 128}. Best is trial 12 with value: 0.025936122185417583.\u001b[0m\n"
     ]
    },
    {
     "name": "stdout",
     "output_type": "stream",
     "text": [
      "loss: 0.067327 \n"
     ]
    },
    {
     "name": "stderr",
     "output_type": "stream",
     "text": [
      "\u001b[32m[I 2023-04-29 20:43:24,588]\u001b[0m Trial 27 finished with value: 0.04279672773554921 and parameters: {'learning_rate': 0.012538788901115958, 'optimizer': 'Adam', 'num_hidden1': 261, 'num_hidden2': 456, 'num_hidden3': 339, 'num_hidden4': 350, 'num_hidden5': 146, 'num_hidden6': 279, 'batch_size': 112}. Best is trial 12 with value: 0.025936122185417583.\u001b[0m\n"
     ]
    },
    {
     "name": "stdout",
     "output_type": "stream",
     "text": [
      "loss: 0.042797 \n"
     ]
    },
    {
     "name": "stderr",
     "output_type": "stream",
     "text": [
      "\u001b[32m[I 2023-04-29 20:43:38,219]\u001b[0m Trial 28 finished with value: 0.03129450045526028 and parameters: {'learning_rate': 0.033321594217801793, 'optimizer': 'SGD', 'num_hidden1': 9, 'num_hidden2': 553, 'num_hidden3': 416, 'num_hidden4': 403, 'num_hidden5': 108, 'num_hidden6': 206, 'batch_size': 64}. Best is trial 12 with value: 0.025936122185417583.\u001b[0m\n"
     ]
    },
    {
     "name": "stdout",
     "output_type": "stream",
     "text": [
      "loss: 0.031295 \n"
     ]
    },
    {
     "name": "stderr",
     "output_type": "stream",
     "text": [
      "\u001b[32m[I 2023-04-29 20:43:48,247]\u001b[0m Trial 29 finished with value: 0.09745743721723557 and parameters: {'learning_rate': 0.018824891459769844, 'optimizer': 'SGD', 'num_hidden1': 457, 'num_hidden2': 300, 'num_hidden3': 481, 'num_hidden4': 168, 'num_hidden5': 194, 'num_hidden6': 319, 'batch_size': 160}. Best is trial 12 with value: 0.025936122185417583.\u001b[0m\n"
     ]
    },
    {
     "name": "stdout",
     "output_type": "stream",
     "text": [
      "loss: 0.097457 \n"
     ]
    }
   ],
   "source": [
    "study = optuna.create_study(direction=\"minimize\", sampler=optuna.samplers.TPESampler())\n",
    "study.optimize(objective, n_trials=30)"
   ]
  },
  {
   "cell_type": "code",
   "execution_count": 282,
   "metadata": {},
   "outputs": [
    {
     "data": {
      "text/plain": [
       "{'learning_rate': 0.006759886458677327,\n",
       " 'optimizer': 'Adam',\n",
       " 'num_hidden1': 400,\n",
       " 'num_hidden2': 431,\n",
       " 'num_hidden3': 428,\n",
       " 'num_hidden4': 372,\n",
       " 'num_hidden5': 103,\n",
       " 'num_hidden6': 175,\n",
       " 'batch_size': 128}"
      ]
     },
     "execution_count": 282,
     "metadata": {},
     "output_type": "execute_result"
    }
   ],
   "source": [
    "study.best_params"
   ]
  },
  {
   "cell_type": "code",
   "execution_count": 283,
   "metadata": {},
   "outputs": [
    {
     "data": {
      "text/plain": [
       "0.025936122185417583"
      ]
     },
     "execution_count": 283,
     "metadata": {},
     "output_type": "execute_result"
    }
   ],
   "source": [
    "study.best_value"
   ]
  },
  {
   "cell_type": "code",
   "execution_count": 284,
   "metadata": {},
   "outputs": [
    {
     "data": {
      "application/vnd.plotly.v1+json": {
       "config": {
        "plotlyServerURL": "https://plot.ly"
       },
       "data": [
        {
         "cliponaxis": false,
         "hovertemplate": [
          "batch_size (IntDistribution): 0.021719052488180644<extra></extra>",
          "num_hidden6 (IntDistribution): 0.050940749864539656<extra></extra>",
          "num_hidden4 (IntDistribution): 0.06911400550727437<extra></extra>",
          "num_hidden3 (IntDistribution): 0.07742556436077638<extra></extra>",
          "num_hidden2 (IntDistribution): 0.08522030773306737<extra></extra>",
          "num_hidden5 (IntDistribution): 0.08921260980124857<extra></extra>",
          "optimizer (CategoricalDistribution): 0.12385946447574851<extra></extra>",
          "learning_rate (FloatDistribution): 0.15200060081554628<extra></extra>",
          "num_hidden1 (IntDistribution): 0.3305076449536183<extra></extra>"
         ],
         "marker": {
          "color": "rgb(66,146,198)"
         },
         "orientation": "h",
         "text": [
          "0.02",
          "0.05",
          "0.07",
          "0.08",
          "0.09",
          "0.09",
          "0.12",
          "0.15",
          "0.33"
         ],
         "textposition": "outside",
         "type": "bar",
         "x": [
          0.021719052488180644,
          0.050940749864539656,
          0.06911400550727437,
          0.07742556436077638,
          0.08522030773306737,
          0.08921260980124857,
          0.12385946447574851,
          0.15200060081554628,
          0.3305076449536183
         ],
         "y": [
          "batch_size",
          "num_hidden6",
          "num_hidden4",
          "num_hidden3",
          "num_hidden2",
          "num_hidden5",
          "optimizer",
          "learning_rate",
          "num_hidden1"
         ]
        }
       ],
       "layout": {
        "showlegend": false,
        "template": {
         "data": {
          "bar": [
           {
            "error_x": {
             "color": "#2a3f5f"
            },
            "error_y": {
             "color": "#2a3f5f"
            },
            "marker": {
             "line": {
              "color": "#E5ECF6",
              "width": 0.5
             },
             "pattern": {
              "fillmode": "overlay",
              "size": 10,
              "solidity": 0.2
             }
            },
            "type": "bar"
           }
          ],
          "barpolar": [
           {
            "marker": {
             "line": {
              "color": "#E5ECF6",
              "width": 0.5
             },
             "pattern": {
              "fillmode": "overlay",
              "size": 10,
              "solidity": 0.2
             }
            },
            "type": "barpolar"
           }
          ],
          "carpet": [
           {
            "aaxis": {
             "endlinecolor": "#2a3f5f",
             "gridcolor": "white",
             "linecolor": "white",
             "minorgridcolor": "white",
             "startlinecolor": "#2a3f5f"
            },
            "baxis": {
             "endlinecolor": "#2a3f5f",
             "gridcolor": "white",
             "linecolor": "white",
             "minorgridcolor": "white",
             "startlinecolor": "#2a3f5f"
            },
            "type": "carpet"
           }
          ],
          "choropleth": [
           {
            "colorbar": {
             "outlinewidth": 0,
             "ticks": ""
            },
            "type": "choropleth"
           }
          ],
          "contour": [
           {
            "colorbar": {
             "outlinewidth": 0,
             "ticks": ""
            },
            "colorscale": [
             [
              0,
              "#0d0887"
             ],
             [
              0.1111111111111111,
              "#46039f"
             ],
             [
              0.2222222222222222,
              "#7201a8"
             ],
             [
              0.3333333333333333,
              "#9c179e"
             ],
             [
              0.4444444444444444,
              "#bd3786"
             ],
             [
              0.5555555555555556,
              "#d8576b"
             ],
             [
              0.6666666666666666,
              "#ed7953"
             ],
             [
              0.7777777777777778,
              "#fb9f3a"
             ],
             [
              0.8888888888888888,
              "#fdca26"
             ],
             [
              1,
              "#f0f921"
             ]
            ],
            "type": "contour"
           }
          ],
          "contourcarpet": [
           {
            "colorbar": {
             "outlinewidth": 0,
             "ticks": ""
            },
            "type": "contourcarpet"
           }
          ],
          "heatmap": [
           {
            "colorbar": {
             "outlinewidth": 0,
             "ticks": ""
            },
            "colorscale": [
             [
              0,
              "#0d0887"
             ],
             [
              0.1111111111111111,
              "#46039f"
             ],
             [
              0.2222222222222222,
              "#7201a8"
             ],
             [
              0.3333333333333333,
              "#9c179e"
             ],
             [
              0.4444444444444444,
              "#bd3786"
             ],
             [
              0.5555555555555556,
              "#d8576b"
             ],
             [
              0.6666666666666666,
              "#ed7953"
             ],
             [
              0.7777777777777778,
              "#fb9f3a"
             ],
             [
              0.8888888888888888,
              "#fdca26"
             ],
             [
              1,
              "#f0f921"
             ]
            ],
            "type": "heatmap"
           }
          ],
          "heatmapgl": [
           {
            "colorbar": {
             "outlinewidth": 0,
             "ticks": ""
            },
            "colorscale": [
             [
              0,
              "#0d0887"
             ],
             [
              0.1111111111111111,
              "#46039f"
             ],
             [
              0.2222222222222222,
              "#7201a8"
             ],
             [
              0.3333333333333333,
              "#9c179e"
             ],
             [
              0.4444444444444444,
              "#bd3786"
             ],
             [
              0.5555555555555556,
              "#d8576b"
             ],
             [
              0.6666666666666666,
              "#ed7953"
             ],
             [
              0.7777777777777778,
              "#fb9f3a"
             ],
             [
              0.8888888888888888,
              "#fdca26"
             ],
             [
              1,
              "#f0f921"
             ]
            ],
            "type": "heatmapgl"
           }
          ],
          "histogram": [
           {
            "marker": {
             "pattern": {
              "fillmode": "overlay",
              "size": 10,
              "solidity": 0.2
             }
            },
            "type": "histogram"
           }
          ],
          "histogram2d": [
           {
            "colorbar": {
             "outlinewidth": 0,
             "ticks": ""
            },
            "colorscale": [
             [
              0,
              "#0d0887"
             ],
             [
              0.1111111111111111,
              "#46039f"
             ],
             [
              0.2222222222222222,
              "#7201a8"
             ],
             [
              0.3333333333333333,
              "#9c179e"
             ],
             [
              0.4444444444444444,
              "#bd3786"
             ],
             [
              0.5555555555555556,
              "#d8576b"
             ],
             [
              0.6666666666666666,
              "#ed7953"
             ],
             [
              0.7777777777777778,
              "#fb9f3a"
             ],
             [
              0.8888888888888888,
              "#fdca26"
             ],
             [
              1,
              "#f0f921"
             ]
            ],
            "type": "histogram2d"
           }
          ],
          "histogram2dcontour": [
           {
            "colorbar": {
             "outlinewidth": 0,
             "ticks": ""
            },
            "colorscale": [
             [
              0,
              "#0d0887"
             ],
             [
              0.1111111111111111,
              "#46039f"
             ],
             [
              0.2222222222222222,
              "#7201a8"
             ],
             [
              0.3333333333333333,
              "#9c179e"
             ],
             [
              0.4444444444444444,
              "#bd3786"
             ],
             [
              0.5555555555555556,
              "#d8576b"
             ],
             [
              0.6666666666666666,
              "#ed7953"
             ],
             [
              0.7777777777777778,
              "#fb9f3a"
             ],
             [
              0.8888888888888888,
              "#fdca26"
             ],
             [
              1,
              "#f0f921"
             ]
            ],
            "type": "histogram2dcontour"
           }
          ],
          "mesh3d": [
           {
            "colorbar": {
             "outlinewidth": 0,
             "ticks": ""
            },
            "type": "mesh3d"
           }
          ],
          "parcoords": [
           {
            "line": {
             "colorbar": {
              "outlinewidth": 0,
              "ticks": ""
             }
            },
            "type": "parcoords"
           }
          ],
          "pie": [
           {
            "automargin": true,
            "type": "pie"
           }
          ],
          "scatter": [
           {
            "fillpattern": {
             "fillmode": "overlay",
             "size": 10,
             "solidity": 0.2
            },
            "type": "scatter"
           }
          ],
          "scatter3d": [
           {
            "line": {
             "colorbar": {
              "outlinewidth": 0,
              "ticks": ""
             }
            },
            "marker": {
             "colorbar": {
              "outlinewidth": 0,
              "ticks": ""
             }
            },
            "type": "scatter3d"
           }
          ],
          "scattercarpet": [
           {
            "marker": {
             "colorbar": {
              "outlinewidth": 0,
              "ticks": ""
             }
            },
            "type": "scattercarpet"
           }
          ],
          "scattergeo": [
           {
            "marker": {
             "colorbar": {
              "outlinewidth": 0,
              "ticks": ""
             }
            },
            "type": "scattergeo"
           }
          ],
          "scattergl": [
           {
            "marker": {
             "colorbar": {
              "outlinewidth": 0,
              "ticks": ""
             }
            },
            "type": "scattergl"
           }
          ],
          "scattermapbox": [
           {
            "marker": {
             "colorbar": {
              "outlinewidth": 0,
              "ticks": ""
             }
            },
            "type": "scattermapbox"
           }
          ],
          "scatterpolar": [
           {
            "marker": {
             "colorbar": {
              "outlinewidth": 0,
              "ticks": ""
             }
            },
            "type": "scatterpolar"
           }
          ],
          "scatterpolargl": [
           {
            "marker": {
             "colorbar": {
              "outlinewidth": 0,
              "ticks": ""
             }
            },
            "type": "scatterpolargl"
           }
          ],
          "scatterternary": [
           {
            "marker": {
             "colorbar": {
              "outlinewidth": 0,
              "ticks": ""
             }
            },
            "type": "scatterternary"
           }
          ],
          "surface": [
           {
            "colorbar": {
             "outlinewidth": 0,
             "ticks": ""
            },
            "colorscale": [
             [
              0,
              "#0d0887"
             ],
             [
              0.1111111111111111,
              "#46039f"
             ],
             [
              0.2222222222222222,
              "#7201a8"
             ],
             [
              0.3333333333333333,
              "#9c179e"
             ],
             [
              0.4444444444444444,
              "#bd3786"
             ],
             [
              0.5555555555555556,
              "#d8576b"
             ],
             [
              0.6666666666666666,
              "#ed7953"
             ],
             [
              0.7777777777777778,
              "#fb9f3a"
             ],
             [
              0.8888888888888888,
              "#fdca26"
             ],
             [
              1,
              "#f0f921"
             ]
            ],
            "type": "surface"
           }
          ],
          "table": [
           {
            "cells": {
             "fill": {
              "color": "#EBF0F8"
             },
             "line": {
              "color": "white"
             }
            },
            "header": {
             "fill": {
              "color": "#C8D4E3"
             },
             "line": {
              "color": "white"
             }
            },
            "type": "table"
           }
          ]
         },
         "layout": {
          "annotationdefaults": {
           "arrowcolor": "#2a3f5f",
           "arrowhead": 0,
           "arrowwidth": 1
          },
          "autotypenumbers": "strict",
          "coloraxis": {
           "colorbar": {
            "outlinewidth": 0,
            "ticks": ""
           }
          },
          "colorscale": {
           "diverging": [
            [
             0,
             "#8e0152"
            ],
            [
             0.1,
             "#c51b7d"
            ],
            [
             0.2,
             "#de77ae"
            ],
            [
             0.3,
             "#f1b6da"
            ],
            [
             0.4,
             "#fde0ef"
            ],
            [
             0.5,
             "#f7f7f7"
            ],
            [
             0.6,
             "#e6f5d0"
            ],
            [
             0.7,
             "#b8e186"
            ],
            [
             0.8,
             "#7fbc41"
            ],
            [
             0.9,
             "#4d9221"
            ],
            [
             1,
             "#276419"
            ]
           ],
           "sequential": [
            [
             0,
             "#0d0887"
            ],
            [
             0.1111111111111111,
             "#46039f"
            ],
            [
             0.2222222222222222,
             "#7201a8"
            ],
            [
             0.3333333333333333,
             "#9c179e"
            ],
            [
             0.4444444444444444,
             "#bd3786"
            ],
            [
             0.5555555555555556,
             "#d8576b"
            ],
            [
             0.6666666666666666,
             "#ed7953"
            ],
            [
             0.7777777777777778,
             "#fb9f3a"
            ],
            [
             0.8888888888888888,
             "#fdca26"
            ],
            [
             1,
             "#f0f921"
            ]
           ],
           "sequentialminus": [
            [
             0,
             "#0d0887"
            ],
            [
             0.1111111111111111,
             "#46039f"
            ],
            [
             0.2222222222222222,
             "#7201a8"
            ],
            [
             0.3333333333333333,
             "#9c179e"
            ],
            [
             0.4444444444444444,
             "#bd3786"
            ],
            [
             0.5555555555555556,
             "#d8576b"
            ],
            [
             0.6666666666666666,
             "#ed7953"
            ],
            [
             0.7777777777777778,
             "#fb9f3a"
            ],
            [
             0.8888888888888888,
             "#fdca26"
            ],
            [
             1,
             "#f0f921"
            ]
           ]
          },
          "colorway": [
           "#636efa",
           "#EF553B",
           "#00cc96",
           "#ab63fa",
           "#FFA15A",
           "#19d3f3",
           "#FF6692",
           "#B6E880",
           "#FF97FF",
           "#FECB52"
          ],
          "font": {
           "color": "#2a3f5f"
          },
          "geo": {
           "bgcolor": "white",
           "lakecolor": "white",
           "landcolor": "#E5ECF6",
           "showlakes": true,
           "showland": true,
           "subunitcolor": "white"
          },
          "hoverlabel": {
           "align": "left"
          },
          "hovermode": "closest",
          "mapbox": {
           "style": "light"
          },
          "paper_bgcolor": "white",
          "plot_bgcolor": "#E5ECF6",
          "polar": {
           "angularaxis": {
            "gridcolor": "white",
            "linecolor": "white",
            "ticks": ""
           },
           "bgcolor": "#E5ECF6",
           "radialaxis": {
            "gridcolor": "white",
            "linecolor": "white",
            "ticks": ""
           }
          },
          "scene": {
           "xaxis": {
            "backgroundcolor": "#E5ECF6",
            "gridcolor": "white",
            "gridwidth": 2,
            "linecolor": "white",
            "showbackground": true,
            "ticks": "",
            "zerolinecolor": "white"
           },
           "yaxis": {
            "backgroundcolor": "#E5ECF6",
            "gridcolor": "white",
            "gridwidth": 2,
            "linecolor": "white",
            "showbackground": true,
            "ticks": "",
            "zerolinecolor": "white"
           },
           "zaxis": {
            "backgroundcolor": "#E5ECF6",
            "gridcolor": "white",
            "gridwidth": 2,
            "linecolor": "white",
            "showbackground": true,
            "ticks": "",
            "zerolinecolor": "white"
           }
          },
          "shapedefaults": {
           "line": {
            "color": "#2a3f5f"
           }
          },
          "ternary": {
           "aaxis": {
            "gridcolor": "white",
            "linecolor": "white",
            "ticks": ""
           },
           "baxis": {
            "gridcolor": "white",
            "linecolor": "white",
            "ticks": ""
           },
           "bgcolor": "#E5ECF6",
           "caxis": {
            "gridcolor": "white",
            "linecolor": "white",
            "ticks": ""
           }
          },
          "title": {
           "x": 0.05
          },
          "xaxis": {
           "automargin": true,
           "gridcolor": "white",
           "linecolor": "white",
           "ticks": "",
           "title": {
            "standoff": 15
           },
           "zerolinecolor": "white",
           "zerolinewidth": 2
          },
          "yaxis": {
           "automargin": true,
           "gridcolor": "white",
           "linecolor": "white",
           "ticks": "",
           "title": {
            "standoff": 15
           },
           "zerolinecolor": "white",
           "zerolinewidth": 2
          }
         }
        },
        "title": {
         "text": "Hyperparameter Importances"
        },
        "xaxis": {
         "title": {
          "text": "Importance for Objective Value"
         }
        },
        "yaxis": {
         "title": {
          "text": "Hyperparameter"
         }
        }
       }
      }
     },
     "metadata": {},
     "output_type": "display_data"
    },
    {
     "data": {
      "application/vnd.plotly.v1+json": {
       "config": {
        "plotlyServerURL": "https://plot.ly"
       },
       "data": [
        {
         "dimensions": [
          {
           "label": "Objective Value",
           "range": [
            0.025936122185417583,
            0.22592079937458037
           ],
           "values": [
            0.10774971097707749,
            0.22592079937458037,
            0.1419107038527727,
            0.02719693361885018,
            0.07278765903578864,
            0.04569295942783356,
            0.03818526864051819,
            0.1464264750480652,
            0.037704831848923974,
            0.03160181020696958,
            0.05454057330886523,
            0.03561306023038924,
            0.025936122185417583,
            0.14595561580998556,
            0.1368269185934748,
            0.046414864177887254,
            0.0483116681377093,
            0.13937349286344317,
            0.10946249837676685,
            0.14555515348911285,
            0.14475041702389718,
            0.08446095883846283,
            0.029838212952017783,
            0.029249218106269837,
            0.028731566925461475,
            0.146827332675457,
            0.06732673038329397,
            0.04279672773554921,
            0.03129450045526028,
            0.09745743721723557
           ]
          },
          {
           "label": "batch_size",
           "range": [
            64,
            192
           ],
           "values": [
            160,
            192,
            112,
            96,
            96,
            176,
            176,
            80,
            64,
            96,
            144,
            112,
            128,
            128,
            128,
            64,
            144,
            96,
            144,
            112,
            80,
            96,
            80,
            80,
            64,
            64,
            128,
            112,
            64,
            160
           ]
          },
          {
           "label": "learning_rate",
           "range": [
            0.0005222840512715682,
            0.09686911823204643
           ],
           "values": [
            0.01815253213308689,
            0.08377454390492545,
            0.059293498092321574,
            0.050630359836992926,
            0.05973390178555178,
            0.08202903078152508,
            0.04222190888900117,
            0.09686911823204643,
            0.040831493464774625,
            0.010042903707165308,
            0.02667333625689811,
            0.002258250709498955,
            0.006759886458677327,
            0.0005230497452209156,
            0.028834086439340753,
            0.01982107385252874,
            0.03777894142590901,
            0.05227264886492606,
            0.013351344635855092,
            0.029866411905408237,
            0.05044109851037604,
            0.00936720860043359,
            0.008462970301017954,
            0.0005222840512715682,
            0.0007797156412504189,
            0.01952965818308372,
            0.023868299183883453,
            0.012538788901115958,
            0.033321594217801793,
            0.018824891459769844
           ]
          },
          {
           "label": "num_hidden1",
           "range": [
            9,
            498
           ],
           "values": [
            313,
            498,
            97,
            479,
            190,
            225,
            211,
            311,
            289,
            142,
            493,
            19,
            400,
            394,
            413,
            391,
            433,
            353,
            428,
            448,
            358,
            143,
            89,
            62,
            14,
            357,
            475,
            261,
            9,
            457
           ]
          },
          {
           "label": "num_hidden2",
           "range": [
            46,
            598
           ],
           "values": [
            107,
            69,
            46,
            278,
            328,
            86,
            213,
            518,
            172,
            392,
            598,
            342,
            431,
            432,
            228,
            438,
            261,
            498,
            298,
            161,
            371,
            406,
            487,
            513,
            544,
            592,
            560,
            456,
            553,
            300
           ]
          },
          {
           "label": "num_hidden3",
           "range": [
            26,
            578
           ],
           "values": [
            148,
            578,
            545,
            424,
            383,
            516,
            301,
            129,
            40,
            114,
            380,
            245,
            428,
            450,
            445,
            333,
            452,
            235,
            492,
            385,
            272,
            26,
            176,
            203,
            336,
            329,
            397,
            339,
            416,
            481
           ]
          },
          {
           "label": "num_hidden4",
           "range": [
            12,
            577
           ],
           "values": [
            174,
            214,
            564,
            53,
            518,
            203,
            237,
            141,
            355,
            225,
            12,
            48,
            372,
            387,
            442,
            314,
            88,
            454,
            297,
            292,
            113,
            400,
            258,
            503,
            470,
            577,
            467,
            350,
            403,
            168
           ]
          },
          {
           "label": "num_hidden5",
           "range": [
            8,
            577
           ],
           "values": [
            176,
            570,
            93,
            153,
            245,
            577,
            264,
            366,
            339,
            33,
            459,
            8,
            103,
            144,
            199,
            98,
            95,
            404,
            240,
            154,
            52,
            28,
            66,
            139,
            132,
            294,
            207,
            146,
            108,
            194
           ]
          },
          {
           "label": "num_hidden6",
           "range": [
            5,
            593
           ],
           "values": [
            323,
            303,
            425,
            170,
            593,
            450,
            36,
            492,
            113,
            122,
            188,
            183,
            175,
            228,
            65,
            253,
            358,
            139,
            5,
            246,
            81,
            176,
            128,
            145,
            222,
            226,
            361,
            279,
            206,
            319
           ]
          },
          {
           "label": "optimizer",
           "range": [
            0,
            1
           ],
           "ticktext": [
            "SGD",
            "Adam"
           ],
           "tickvals": [
            0,
            1
           ],
           "values": [
            0,
            1,
            1,
            0,
            0,
            0,
            1,
            1,
            0,
            1,
            0,
            1,
            1,
            0,
            1,
            0,
            0,
            1,
            0,
            1,
            1,
            1,
            1,
            1,
            1,
            1,
            0,
            1,
            0,
            0
           ]
          }
         ],
         "labelangle": 30,
         "labelside": "bottom",
         "line": {
          "color": [
           0.10774971097707749,
           0.22592079937458037,
           0.1419107038527727,
           0.02719693361885018,
           0.07278765903578864,
           0.04569295942783356,
           0.03818526864051819,
           0.1464264750480652,
           0.037704831848923974,
           0.03160181020696958,
           0.05454057330886523,
           0.03561306023038924,
           0.025936122185417583,
           0.14595561580998556,
           0.1368269185934748,
           0.046414864177887254,
           0.0483116681377093,
           0.13937349286344317,
           0.10946249837676685,
           0.14555515348911285,
           0.14475041702389718,
           0.08446095883846283,
           0.029838212952017783,
           0.029249218106269837,
           0.028731566925461475,
           0.146827332675457,
           0.06732673038329397,
           0.04279672773554921,
           0.03129450045526028,
           0.09745743721723557
          ],
          "colorbar": {
           "title": {
            "text": "Objective Value"
           }
          },
          "colorscale": [
           [
            0,
            "rgb(247,251,255)"
           ],
           [
            0.125,
            "rgb(222,235,247)"
           ],
           [
            0.25,
            "rgb(198,219,239)"
           ],
           [
            0.375,
            "rgb(158,202,225)"
           ],
           [
            0.5,
            "rgb(107,174,214)"
           ],
           [
            0.625,
            "rgb(66,146,198)"
           ],
           [
            0.75,
            "rgb(33,113,181)"
           ],
           [
            0.875,
            "rgb(8,81,156)"
           ],
           [
            1,
            "rgb(8,48,107)"
           ]
          ],
          "reversescale": true,
          "showscale": true
         },
         "type": "parcoords"
        }
       ],
       "layout": {
        "template": {
         "data": {
          "bar": [
           {
            "error_x": {
             "color": "#2a3f5f"
            },
            "error_y": {
             "color": "#2a3f5f"
            },
            "marker": {
             "line": {
              "color": "#E5ECF6",
              "width": 0.5
             },
             "pattern": {
              "fillmode": "overlay",
              "size": 10,
              "solidity": 0.2
             }
            },
            "type": "bar"
           }
          ],
          "barpolar": [
           {
            "marker": {
             "line": {
              "color": "#E5ECF6",
              "width": 0.5
             },
             "pattern": {
              "fillmode": "overlay",
              "size": 10,
              "solidity": 0.2
             }
            },
            "type": "barpolar"
           }
          ],
          "carpet": [
           {
            "aaxis": {
             "endlinecolor": "#2a3f5f",
             "gridcolor": "white",
             "linecolor": "white",
             "minorgridcolor": "white",
             "startlinecolor": "#2a3f5f"
            },
            "baxis": {
             "endlinecolor": "#2a3f5f",
             "gridcolor": "white",
             "linecolor": "white",
             "minorgridcolor": "white",
             "startlinecolor": "#2a3f5f"
            },
            "type": "carpet"
           }
          ],
          "choropleth": [
           {
            "colorbar": {
             "outlinewidth": 0,
             "ticks": ""
            },
            "type": "choropleth"
           }
          ],
          "contour": [
           {
            "colorbar": {
             "outlinewidth": 0,
             "ticks": ""
            },
            "colorscale": [
             [
              0,
              "#0d0887"
             ],
             [
              0.1111111111111111,
              "#46039f"
             ],
             [
              0.2222222222222222,
              "#7201a8"
             ],
             [
              0.3333333333333333,
              "#9c179e"
             ],
             [
              0.4444444444444444,
              "#bd3786"
             ],
             [
              0.5555555555555556,
              "#d8576b"
             ],
             [
              0.6666666666666666,
              "#ed7953"
             ],
             [
              0.7777777777777778,
              "#fb9f3a"
             ],
             [
              0.8888888888888888,
              "#fdca26"
             ],
             [
              1,
              "#f0f921"
             ]
            ],
            "type": "contour"
           }
          ],
          "contourcarpet": [
           {
            "colorbar": {
             "outlinewidth": 0,
             "ticks": ""
            },
            "type": "contourcarpet"
           }
          ],
          "heatmap": [
           {
            "colorbar": {
             "outlinewidth": 0,
             "ticks": ""
            },
            "colorscale": [
             [
              0,
              "#0d0887"
             ],
             [
              0.1111111111111111,
              "#46039f"
             ],
             [
              0.2222222222222222,
              "#7201a8"
             ],
             [
              0.3333333333333333,
              "#9c179e"
             ],
             [
              0.4444444444444444,
              "#bd3786"
             ],
             [
              0.5555555555555556,
              "#d8576b"
             ],
             [
              0.6666666666666666,
              "#ed7953"
             ],
             [
              0.7777777777777778,
              "#fb9f3a"
             ],
             [
              0.8888888888888888,
              "#fdca26"
             ],
             [
              1,
              "#f0f921"
             ]
            ],
            "type": "heatmap"
           }
          ],
          "heatmapgl": [
           {
            "colorbar": {
             "outlinewidth": 0,
             "ticks": ""
            },
            "colorscale": [
             [
              0,
              "#0d0887"
             ],
             [
              0.1111111111111111,
              "#46039f"
             ],
             [
              0.2222222222222222,
              "#7201a8"
             ],
             [
              0.3333333333333333,
              "#9c179e"
             ],
             [
              0.4444444444444444,
              "#bd3786"
             ],
             [
              0.5555555555555556,
              "#d8576b"
             ],
             [
              0.6666666666666666,
              "#ed7953"
             ],
             [
              0.7777777777777778,
              "#fb9f3a"
             ],
             [
              0.8888888888888888,
              "#fdca26"
             ],
             [
              1,
              "#f0f921"
             ]
            ],
            "type": "heatmapgl"
           }
          ],
          "histogram": [
           {
            "marker": {
             "pattern": {
              "fillmode": "overlay",
              "size": 10,
              "solidity": 0.2
             }
            },
            "type": "histogram"
           }
          ],
          "histogram2d": [
           {
            "colorbar": {
             "outlinewidth": 0,
             "ticks": ""
            },
            "colorscale": [
             [
              0,
              "#0d0887"
             ],
             [
              0.1111111111111111,
              "#46039f"
             ],
             [
              0.2222222222222222,
              "#7201a8"
             ],
             [
              0.3333333333333333,
              "#9c179e"
             ],
             [
              0.4444444444444444,
              "#bd3786"
             ],
             [
              0.5555555555555556,
              "#d8576b"
             ],
             [
              0.6666666666666666,
              "#ed7953"
             ],
             [
              0.7777777777777778,
              "#fb9f3a"
             ],
             [
              0.8888888888888888,
              "#fdca26"
             ],
             [
              1,
              "#f0f921"
             ]
            ],
            "type": "histogram2d"
           }
          ],
          "histogram2dcontour": [
           {
            "colorbar": {
             "outlinewidth": 0,
             "ticks": ""
            },
            "colorscale": [
             [
              0,
              "#0d0887"
             ],
             [
              0.1111111111111111,
              "#46039f"
             ],
             [
              0.2222222222222222,
              "#7201a8"
             ],
             [
              0.3333333333333333,
              "#9c179e"
             ],
             [
              0.4444444444444444,
              "#bd3786"
             ],
             [
              0.5555555555555556,
              "#d8576b"
             ],
             [
              0.6666666666666666,
              "#ed7953"
             ],
             [
              0.7777777777777778,
              "#fb9f3a"
             ],
             [
              0.8888888888888888,
              "#fdca26"
             ],
             [
              1,
              "#f0f921"
             ]
            ],
            "type": "histogram2dcontour"
           }
          ],
          "mesh3d": [
           {
            "colorbar": {
             "outlinewidth": 0,
             "ticks": ""
            },
            "type": "mesh3d"
           }
          ],
          "parcoords": [
           {
            "line": {
             "colorbar": {
              "outlinewidth": 0,
              "ticks": ""
             }
            },
            "type": "parcoords"
           }
          ],
          "pie": [
           {
            "automargin": true,
            "type": "pie"
           }
          ],
          "scatter": [
           {
            "fillpattern": {
             "fillmode": "overlay",
             "size": 10,
             "solidity": 0.2
            },
            "type": "scatter"
           }
          ],
          "scatter3d": [
           {
            "line": {
             "colorbar": {
              "outlinewidth": 0,
              "ticks": ""
             }
            },
            "marker": {
             "colorbar": {
              "outlinewidth": 0,
              "ticks": ""
             }
            },
            "type": "scatter3d"
           }
          ],
          "scattercarpet": [
           {
            "marker": {
             "colorbar": {
              "outlinewidth": 0,
              "ticks": ""
             }
            },
            "type": "scattercarpet"
           }
          ],
          "scattergeo": [
           {
            "marker": {
             "colorbar": {
              "outlinewidth": 0,
              "ticks": ""
             }
            },
            "type": "scattergeo"
           }
          ],
          "scattergl": [
           {
            "marker": {
             "colorbar": {
              "outlinewidth": 0,
              "ticks": ""
             }
            },
            "type": "scattergl"
           }
          ],
          "scattermapbox": [
           {
            "marker": {
             "colorbar": {
              "outlinewidth": 0,
              "ticks": ""
             }
            },
            "type": "scattermapbox"
           }
          ],
          "scatterpolar": [
           {
            "marker": {
             "colorbar": {
              "outlinewidth": 0,
              "ticks": ""
             }
            },
            "type": "scatterpolar"
           }
          ],
          "scatterpolargl": [
           {
            "marker": {
             "colorbar": {
              "outlinewidth": 0,
              "ticks": ""
             }
            },
            "type": "scatterpolargl"
           }
          ],
          "scatterternary": [
           {
            "marker": {
             "colorbar": {
              "outlinewidth": 0,
              "ticks": ""
             }
            },
            "type": "scatterternary"
           }
          ],
          "surface": [
           {
            "colorbar": {
             "outlinewidth": 0,
             "ticks": ""
            },
            "colorscale": [
             [
              0,
              "#0d0887"
             ],
             [
              0.1111111111111111,
              "#46039f"
             ],
             [
              0.2222222222222222,
              "#7201a8"
             ],
             [
              0.3333333333333333,
              "#9c179e"
             ],
             [
              0.4444444444444444,
              "#bd3786"
             ],
             [
              0.5555555555555556,
              "#d8576b"
             ],
             [
              0.6666666666666666,
              "#ed7953"
             ],
             [
              0.7777777777777778,
              "#fb9f3a"
             ],
             [
              0.8888888888888888,
              "#fdca26"
             ],
             [
              1,
              "#f0f921"
             ]
            ],
            "type": "surface"
           }
          ],
          "table": [
           {
            "cells": {
             "fill": {
              "color": "#EBF0F8"
             },
             "line": {
              "color": "white"
             }
            },
            "header": {
             "fill": {
              "color": "#C8D4E3"
             },
             "line": {
              "color": "white"
             }
            },
            "type": "table"
           }
          ]
         },
         "layout": {
          "annotationdefaults": {
           "arrowcolor": "#2a3f5f",
           "arrowhead": 0,
           "arrowwidth": 1
          },
          "autotypenumbers": "strict",
          "coloraxis": {
           "colorbar": {
            "outlinewidth": 0,
            "ticks": ""
           }
          },
          "colorscale": {
           "diverging": [
            [
             0,
             "#8e0152"
            ],
            [
             0.1,
             "#c51b7d"
            ],
            [
             0.2,
             "#de77ae"
            ],
            [
             0.3,
             "#f1b6da"
            ],
            [
             0.4,
             "#fde0ef"
            ],
            [
             0.5,
             "#f7f7f7"
            ],
            [
             0.6,
             "#e6f5d0"
            ],
            [
             0.7,
             "#b8e186"
            ],
            [
             0.8,
             "#7fbc41"
            ],
            [
             0.9,
             "#4d9221"
            ],
            [
             1,
             "#276419"
            ]
           ],
           "sequential": [
            [
             0,
             "#0d0887"
            ],
            [
             0.1111111111111111,
             "#46039f"
            ],
            [
             0.2222222222222222,
             "#7201a8"
            ],
            [
             0.3333333333333333,
             "#9c179e"
            ],
            [
             0.4444444444444444,
             "#bd3786"
            ],
            [
             0.5555555555555556,
             "#d8576b"
            ],
            [
             0.6666666666666666,
             "#ed7953"
            ],
            [
             0.7777777777777778,
             "#fb9f3a"
            ],
            [
             0.8888888888888888,
             "#fdca26"
            ],
            [
             1,
             "#f0f921"
            ]
           ],
           "sequentialminus": [
            [
             0,
             "#0d0887"
            ],
            [
             0.1111111111111111,
             "#46039f"
            ],
            [
             0.2222222222222222,
             "#7201a8"
            ],
            [
             0.3333333333333333,
             "#9c179e"
            ],
            [
             0.4444444444444444,
             "#bd3786"
            ],
            [
             0.5555555555555556,
             "#d8576b"
            ],
            [
             0.6666666666666666,
             "#ed7953"
            ],
            [
             0.7777777777777778,
             "#fb9f3a"
            ],
            [
             0.8888888888888888,
             "#fdca26"
            ],
            [
             1,
             "#f0f921"
            ]
           ]
          },
          "colorway": [
           "#636efa",
           "#EF553B",
           "#00cc96",
           "#ab63fa",
           "#FFA15A",
           "#19d3f3",
           "#FF6692",
           "#B6E880",
           "#FF97FF",
           "#FECB52"
          ],
          "font": {
           "color": "#2a3f5f"
          },
          "geo": {
           "bgcolor": "white",
           "lakecolor": "white",
           "landcolor": "#E5ECF6",
           "showlakes": true,
           "showland": true,
           "subunitcolor": "white"
          },
          "hoverlabel": {
           "align": "left"
          },
          "hovermode": "closest",
          "mapbox": {
           "style": "light"
          },
          "paper_bgcolor": "white",
          "plot_bgcolor": "#E5ECF6",
          "polar": {
           "angularaxis": {
            "gridcolor": "white",
            "linecolor": "white",
            "ticks": ""
           },
           "bgcolor": "#E5ECF6",
           "radialaxis": {
            "gridcolor": "white",
            "linecolor": "white",
            "ticks": ""
           }
          },
          "scene": {
           "xaxis": {
            "backgroundcolor": "#E5ECF6",
            "gridcolor": "white",
            "gridwidth": 2,
            "linecolor": "white",
            "showbackground": true,
            "ticks": "",
            "zerolinecolor": "white"
           },
           "yaxis": {
            "backgroundcolor": "#E5ECF6",
            "gridcolor": "white",
            "gridwidth": 2,
            "linecolor": "white",
            "showbackground": true,
            "ticks": "",
            "zerolinecolor": "white"
           },
           "zaxis": {
            "backgroundcolor": "#E5ECF6",
            "gridcolor": "white",
            "gridwidth": 2,
            "linecolor": "white",
            "showbackground": true,
            "ticks": "",
            "zerolinecolor": "white"
           }
          },
          "shapedefaults": {
           "line": {
            "color": "#2a3f5f"
           }
          },
          "ternary": {
           "aaxis": {
            "gridcolor": "white",
            "linecolor": "white",
            "ticks": ""
           },
           "baxis": {
            "gridcolor": "white",
            "linecolor": "white",
            "ticks": ""
           },
           "bgcolor": "#E5ECF6",
           "caxis": {
            "gridcolor": "white",
            "linecolor": "white",
            "ticks": ""
           }
          },
          "title": {
           "x": 0.05
          },
          "xaxis": {
           "automargin": true,
           "gridcolor": "white",
           "linecolor": "white",
           "ticks": "",
           "title": {
            "standoff": 15
           },
           "zerolinecolor": "white",
           "zerolinewidth": 2
          },
          "yaxis": {
           "automargin": true,
           "gridcolor": "white",
           "linecolor": "white",
           "ticks": "",
           "title": {
            "standoff": 15
           },
           "zerolinecolor": "white",
           "zerolinewidth": 2
          }
         }
        },
        "title": {
         "text": "Parallel Coordinate Plot"
        }
       }
      }
     },
     "metadata": {},
     "output_type": "display_data"
    },
    {
     "data": {
      "application/vnd.plotly.v1+json": {
       "config": {
        "plotlyServerURL": "https://plot.ly"
       },
       "data": [
        {
         "mode": "markers",
         "name": "Objective Value",
         "type": "scatter",
         "x": [
          0,
          1,
          2,
          3,
          4,
          5,
          6,
          7,
          8,
          9,
          10,
          11,
          12,
          13,
          14,
          15,
          16,
          17,
          18,
          19,
          20,
          21,
          22,
          23,
          24,
          25,
          26,
          27,
          28,
          29
         ],
         "y": [
          0.10774971097707749,
          0.22592079937458037,
          0.1419107038527727,
          0.02719693361885018,
          0.07278765903578864,
          0.04569295942783356,
          0.03818526864051819,
          0.1464264750480652,
          0.037704831848923974,
          0.03160181020696958,
          0.05454057330886523,
          0.03561306023038924,
          0.025936122185417583,
          0.14595561580998556,
          0.1368269185934748,
          0.046414864177887254,
          0.0483116681377093,
          0.13937349286344317,
          0.10946249837676685,
          0.14555515348911285,
          0.14475041702389718,
          0.08446095883846283,
          0.029838212952017783,
          0.029249218106269837,
          0.028731566925461475,
          0.146827332675457,
          0.06732673038329397,
          0.04279672773554921,
          0.03129450045526028,
          0.09745743721723557
         ]
        },
        {
         "name": "Best Value",
         "type": "scatter",
         "x": [
          0,
          1,
          2,
          3,
          4,
          5,
          6,
          7,
          8,
          9,
          10,
          11,
          12,
          13,
          14,
          15,
          16,
          17,
          18,
          19,
          20,
          21,
          22,
          23,
          24,
          25,
          26,
          27,
          28,
          29
         ],
         "y": [
          0.10774971097707749,
          0.10774971097707749,
          0.10774971097707749,
          0.02719693361885018,
          0.02719693361885018,
          0.02719693361885018,
          0.02719693361885018,
          0.02719693361885018,
          0.02719693361885018,
          0.02719693361885018,
          0.02719693361885018,
          0.02719693361885018,
          0.025936122185417583,
          0.025936122185417583,
          0.025936122185417583,
          0.025936122185417583,
          0.025936122185417583,
          0.025936122185417583,
          0.025936122185417583,
          0.025936122185417583,
          0.025936122185417583,
          0.025936122185417583,
          0.025936122185417583,
          0.025936122185417583,
          0.025936122185417583,
          0.025936122185417583,
          0.025936122185417583,
          0.025936122185417583,
          0.025936122185417583,
          0.025936122185417583
         ]
        }
       ],
       "layout": {
        "template": {
         "data": {
          "bar": [
           {
            "error_x": {
             "color": "#2a3f5f"
            },
            "error_y": {
             "color": "#2a3f5f"
            },
            "marker": {
             "line": {
              "color": "#E5ECF6",
              "width": 0.5
             },
             "pattern": {
              "fillmode": "overlay",
              "size": 10,
              "solidity": 0.2
             }
            },
            "type": "bar"
           }
          ],
          "barpolar": [
           {
            "marker": {
             "line": {
              "color": "#E5ECF6",
              "width": 0.5
             },
             "pattern": {
              "fillmode": "overlay",
              "size": 10,
              "solidity": 0.2
             }
            },
            "type": "barpolar"
           }
          ],
          "carpet": [
           {
            "aaxis": {
             "endlinecolor": "#2a3f5f",
             "gridcolor": "white",
             "linecolor": "white",
             "minorgridcolor": "white",
             "startlinecolor": "#2a3f5f"
            },
            "baxis": {
             "endlinecolor": "#2a3f5f",
             "gridcolor": "white",
             "linecolor": "white",
             "minorgridcolor": "white",
             "startlinecolor": "#2a3f5f"
            },
            "type": "carpet"
           }
          ],
          "choropleth": [
           {
            "colorbar": {
             "outlinewidth": 0,
             "ticks": ""
            },
            "type": "choropleth"
           }
          ],
          "contour": [
           {
            "colorbar": {
             "outlinewidth": 0,
             "ticks": ""
            },
            "colorscale": [
             [
              0,
              "#0d0887"
             ],
             [
              0.1111111111111111,
              "#46039f"
             ],
             [
              0.2222222222222222,
              "#7201a8"
             ],
             [
              0.3333333333333333,
              "#9c179e"
             ],
             [
              0.4444444444444444,
              "#bd3786"
             ],
             [
              0.5555555555555556,
              "#d8576b"
             ],
             [
              0.6666666666666666,
              "#ed7953"
             ],
             [
              0.7777777777777778,
              "#fb9f3a"
             ],
             [
              0.8888888888888888,
              "#fdca26"
             ],
             [
              1,
              "#f0f921"
             ]
            ],
            "type": "contour"
           }
          ],
          "contourcarpet": [
           {
            "colorbar": {
             "outlinewidth": 0,
             "ticks": ""
            },
            "type": "contourcarpet"
           }
          ],
          "heatmap": [
           {
            "colorbar": {
             "outlinewidth": 0,
             "ticks": ""
            },
            "colorscale": [
             [
              0,
              "#0d0887"
             ],
             [
              0.1111111111111111,
              "#46039f"
             ],
             [
              0.2222222222222222,
              "#7201a8"
             ],
             [
              0.3333333333333333,
              "#9c179e"
             ],
             [
              0.4444444444444444,
              "#bd3786"
             ],
             [
              0.5555555555555556,
              "#d8576b"
             ],
             [
              0.6666666666666666,
              "#ed7953"
             ],
             [
              0.7777777777777778,
              "#fb9f3a"
             ],
             [
              0.8888888888888888,
              "#fdca26"
             ],
             [
              1,
              "#f0f921"
             ]
            ],
            "type": "heatmap"
           }
          ],
          "heatmapgl": [
           {
            "colorbar": {
             "outlinewidth": 0,
             "ticks": ""
            },
            "colorscale": [
             [
              0,
              "#0d0887"
             ],
             [
              0.1111111111111111,
              "#46039f"
             ],
             [
              0.2222222222222222,
              "#7201a8"
             ],
             [
              0.3333333333333333,
              "#9c179e"
             ],
             [
              0.4444444444444444,
              "#bd3786"
             ],
             [
              0.5555555555555556,
              "#d8576b"
             ],
             [
              0.6666666666666666,
              "#ed7953"
             ],
             [
              0.7777777777777778,
              "#fb9f3a"
             ],
             [
              0.8888888888888888,
              "#fdca26"
             ],
             [
              1,
              "#f0f921"
             ]
            ],
            "type": "heatmapgl"
           }
          ],
          "histogram": [
           {
            "marker": {
             "pattern": {
              "fillmode": "overlay",
              "size": 10,
              "solidity": 0.2
             }
            },
            "type": "histogram"
           }
          ],
          "histogram2d": [
           {
            "colorbar": {
             "outlinewidth": 0,
             "ticks": ""
            },
            "colorscale": [
             [
              0,
              "#0d0887"
             ],
             [
              0.1111111111111111,
              "#46039f"
             ],
             [
              0.2222222222222222,
              "#7201a8"
             ],
             [
              0.3333333333333333,
              "#9c179e"
             ],
             [
              0.4444444444444444,
              "#bd3786"
             ],
             [
              0.5555555555555556,
              "#d8576b"
             ],
             [
              0.6666666666666666,
              "#ed7953"
             ],
             [
              0.7777777777777778,
              "#fb9f3a"
             ],
             [
              0.8888888888888888,
              "#fdca26"
             ],
             [
              1,
              "#f0f921"
             ]
            ],
            "type": "histogram2d"
           }
          ],
          "histogram2dcontour": [
           {
            "colorbar": {
             "outlinewidth": 0,
             "ticks": ""
            },
            "colorscale": [
             [
              0,
              "#0d0887"
             ],
             [
              0.1111111111111111,
              "#46039f"
             ],
             [
              0.2222222222222222,
              "#7201a8"
             ],
             [
              0.3333333333333333,
              "#9c179e"
             ],
             [
              0.4444444444444444,
              "#bd3786"
             ],
             [
              0.5555555555555556,
              "#d8576b"
             ],
             [
              0.6666666666666666,
              "#ed7953"
             ],
             [
              0.7777777777777778,
              "#fb9f3a"
             ],
             [
              0.8888888888888888,
              "#fdca26"
             ],
             [
              1,
              "#f0f921"
             ]
            ],
            "type": "histogram2dcontour"
           }
          ],
          "mesh3d": [
           {
            "colorbar": {
             "outlinewidth": 0,
             "ticks": ""
            },
            "type": "mesh3d"
           }
          ],
          "parcoords": [
           {
            "line": {
             "colorbar": {
              "outlinewidth": 0,
              "ticks": ""
             }
            },
            "type": "parcoords"
           }
          ],
          "pie": [
           {
            "automargin": true,
            "type": "pie"
           }
          ],
          "scatter": [
           {
            "fillpattern": {
             "fillmode": "overlay",
             "size": 10,
             "solidity": 0.2
            },
            "type": "scatter"
           }
          ],
          "scatter3d": [
           {
            "line": {
             "colorbar": {
              "outlinewidth": 0,
              "ticks": ""
             }
            },
            "marker": {
             "colorbar": {
              "outlinewidth": 0,
              "ticks": ""
             }
            },
            "type": "scatter3d"
           }
          ],
          "scattercarpet": [
           {
            "marker": {
             "colorbar": {
              "outlinewidth": 0,
              "ticks": ""
             }
            },
            "type": "scattercarpet"
           }
          ],
          "scattergeo": [
           {
            "marker": {
             "colorbar": {
              "outlinewidth": 0,
              "ticks": ""
             }
            },
            "type": "scattergeo"
           }
          ],
          "scattergl": [
           {
            "marker": {
             "colorbar": {
              "outlinewidth": 0,
              "ticks": ""
             }
            },
            "type": "scattergl"
           }
          ],
          "scattermapbox": [
           {
            "marker": {
             "colorbar": {
              "outlinewidth": 0,
              "ticks": ""
             }
            },
            "type": "scattermapbox"
           }
          ],
          "scatterpolar": [
           {
            "marker": {
             "colorbar": {
              "outlinewidth": 0,
              "ticks": ""
             }
            },
            "type": "scatterpolar"
           }
          ],
          "scatterpolargl": [
           {
            "marker": {
             "colorbar": {
              "outlinewidth": 0,
              "ticks": ""
             }
            },
            "type": "scatterpolargl"
           }
          ],
          "scatterternary": [
           {
            "marker": {
             "colorbar": {
              "outlinewidth": 0,
              "ticks": ""
             }
            },
            "type": "scatterternary"
           }
          ],
          "surface": [
           {
            "colorbar": {
             "outlinewidth": 0,
             "ticks": ""
            },
            "colorscale": [
             [
              0,
              "#0d0887"
             ],
             [
              0.1111111111111111,
              "#46039f"
             ],
             [
              0.2222222222222222,
              "#7201a8"
             ],
             [
              0.3333333333333333,
              "#9c179e"
             ],
             [
              0.4444444444444444,
              "#bd3786"
             ],
             [
              0.5555555555555556,
              "#d8576b"
             ],
             [
              0.6666666666666666,
              "#ed7953"
             ],
             [
              0.7777777777777778,
              "#fb9f3a"
             ],
             [
              0.8888888888888888,
              "#fdca26"
             ],
             [
              1,
              "#f0f921"
             ]
            ],
            "type": "surface"
           }
          ],
          "table": [
           {
            "cells": {
             "fill": {
              "color": "#EBF0F8"
             },
             "line": {
              "color": "white"
             }
            },
            "header": {
             "fill": {
              "color": "#C8D4E3"
             },
             "line": {
              "color": "white"
             }
            },
            "type": "table"
           }
          ]
         },
         "layout": {
          "annotationdefaults": {
           "arrowcolor": "#2a3f5f",
           "arrowhead": 0,
           "arrowwidth": 1
          },
          "autotypenumbers": "strict",
          "coloraxis": {
           "colorbar": {
            "outlinewidth": 0,
            "ticks": ""
           }
          },
          "colorscale": {
           "diverging": [
            [
             0,
             "#8e0152"
            ],
            [
             0.1,
             "#c51b7d"
            ],
            [
             0.2,
             "#de77ae"
            ],
            [
             0.3,
             "#f1b6da"
            ],
            [
             0.4,
             "#fde0ef"
            ],
            [
             0.5,
             "#f7f7f7"
            ],
            [
             0.6,
             "#e6f5d0"
            ],
            [
             0.7,
             "#b8e186"
            ],
            [
             0.8,
             "#7fbc41"
            ],
            [
             0.9,
             "#4d9221"
            ],
            [
             1,
             "#276419"
            ]
           ],
           "sequential": [
            [
             0,
             "#0d0887"
            ],
            [
             0.1111111111111111,
             "#46039f"
            ],
            [
             0.2222222222222222,
             "#7201a8"
            ],
            [
             0.3333333333333333,
             "#9c179e"
            ],
            [
             0.4444444444444444,
             "#bd3786"
            ],
            [
             0.5555555555555556,
             "#d8576b"
            ],
            [
             0.6666666666666666,
             "#ed7953"
            ],
            [
             0.7777777777777778,
             "#fb9f3a"
            ],
            [
             0.8888888888888888,
             "#fdca26"
            ],
            [
             1,
             "#f0f921"
            ]
           ],
           "sequentialminus": [
            [
             0,
             "#0d0887"
            ],
            [
             0.1111111111111111,
             "#46039f"
            ],
            [
             0.2222222222222222,
             "#7201a8"
            ],
            [
             0.3333333333333333,
             "#9c179e"
            ],
            [
             0.4444444444444444,
             "#bd3786"
            ],
            [
             0.5555555555555556,
             "#d8576b"
            ],
            [
             0.6666666666666666,
             "#ed7953"
            ],
            [
             0.7777777777777778,
             "#fb9f3a"
            ],
            [
             0.8888888888888888,
             "#fdca26"
            ],
            [
             1,
             "#f0f921"
            ]
           ]
          },
          "colorway": [
           "#636efa",
           "#EF553B",
           "#00cc96",
           "#ab63fa",
           "#FFA15A",
           "#19d3f3",
           "#FF6692",
           "#B6E880",
           "#FF97FF",
           "#FECB52"
          ],
          "font": {
           "color": "#2a3f5f"
          },
          "geo": {
           "bgcolor": "white",
           "lakecolor": "white",
           "landcolor": "#E5ECF6",
           "showlakes": true,
           "showland": true,
           "subunitcolor": "white"
          },
          "hoverlabel": {
           "align": "left"
          },
          "hovermode": "closest",
          "mapbox": {
           "style": "light"
          },
          "paper_bgcolor": "white",
          "plot_bgcolor": "#E5ECF6",
          "polar": {
           "angularaxis": {
            "gridcolor": "white",
            "linecolor": "white",
            "ticks": ""
           },
           "bgcolor": "#E5ECF6",
           "radialaxis": {
            "gridcolor": "white",
            "linecolor": "white",
            "ticks": ""
           }
          },
          "scene": {
           "xaxis": {
            "backgroundcolor": "#E5ECF6",
            "gridcolor": "white",
            "gridwidth": 2,
            "linecolor": "white",
            "showbackground": true,
            "ticks": "",
            "zerolinecolor": "white"
           },
           "yaxis": {
            "backgroundcolor": "#E5ECF6",
            "gridcolor": "white",
            "gridwidth": 2,
            "linecolor": "white",
            "showbackground": true,
            "ticks": "",
            "zerolinecolor": "white"
           },
           "zaxis": {
            "backgroundcolor": "#E5ECF6",
            "gridcolor": "white",
            "gridwidth": 2,
            "linecolor": "white",
            "showbackground": true,
            "ticks": "",
            "zerolinecolor": "white"
           }
          },
          "shapedefaults": {
           "line": {
            "color": "#2a3f5f"
           }
          },
          "ternary": {
           "aaxis": {
            "gridcolor": "white",
            "linecolor": "white",
            "ticks": ""
           },
           "baxis": {
            "gridcolor": "white",
            "linecolor": "white",
            "ticks": ""
           },
           "bgcolor": "#E5ECF6",
           "caxis": {
            "gridcolor": "white",
            "linecolor": "white",
            "ticks": ""
           }
          },
          "title": {
           "x": 0.05
          },
          "xaxis": {
           "automargin": true,
           "gridcolor": "white",
           "linecolor": "white",
           "ticks": "",
           "title": {
            "standoff": 15
           },
           "zerolinecolor": "white",
           "zerolinewidth": 2
          },
          "yaxis": {
           "automargin": true,
           "gridcolor": "white",
           "linecolor": "white",
           "ticks": "",
           "title": {
            "standoff": 15
           },
           "zerolinecolor": "white",
           "zerolinewidth": 2
          }
         }
        },
        "title": {
         "text": "Optimization History Plot"
        },
        "xaxis": {
         "title": {
          "text": "Trial"
         }
        },
        "yaxis": {
         "title": {
          "text": "Objective Value"
         }
        }
       }
      }
     },
     "metadata": {},
     "output_type": "display_data"
    }
   ],
   "source": [
    "display(optuna.visualization.plot_param_importances(study))\n",
    "display(optuna.visualization.plot_parallel_coordinate(study))\n",
    "display(optuna.visualization.plot_optimization_history(study))"
   ]
  },
  {
   "cell_type": "code",
   "execution_count": 285,
   "metadata": {},
   "outputs": [],
   "source": [
    "def best(params):\n",
    " \n",
    "    model= build_model(params)\n",
    "    optimizer = getattr(torch.optim, params['optimizer'])(model.parameters(), lr= params['learning_rate'])\n",
    "    \n",
    "\n",
    "    dataset=FADataset(train,train=True)\n",
    "    trainset, validset = random_split(dataset, [0.9, 0.1])\n",
    "    train_dl= DataLoader(trainset, shuffle=True, batch_size=params['batch_size'])\n",
    "    valid_dl= DataLoader(validset, shuffle=True, batch_size=params['batch_size'])\n",
    "\n",
    "   \n",
    "    criterion = nn.MSELoss()\n",
    "\n",
    "    losses=[]\n",
    "    size = len(train_dl)\n",
    "    model.train()\n",
    "    for epoch in range(num_epochs):\n",
    "        for batch,(data, target,idx) in enumerate(train_dl):\n",
    "            outputs = model(data)\n",
    "            loss = criterion(outputs.reshape(-1), target.reshape(-1))\n",
    "            optimizer.zero_grad()\n",
    "            loss.backward()\n",
    "            optimizer.step()\n",
    "\n",
    "\n",
    "    model.eval()\n",
    "    losses=[]\n",
    "    for batch,(data, target,idx) in enumerate(valid_dl):\n",
    "        outputs = model(data)\n",
    "        loss = criterion(outputs.reshape(-1), target.reshape(-1))\n",
    "        losses.append(loss.item())\n",
    "    print(f\"loss: {sum(losses)/len(losses):>7f} \")\n",
    "    loss=sum(losses)/len(losses)\n",
    "    return model"
   ]
  },
  {
   "cell_type": "code",
   "execution_count": 287,
   "metadata": {},
   "outputs": [
    {
     "data": {
      "text/plain": [
       "'Adam'"
      ]
     },
     "execution_count": 287,
     "metadata": {},
     "output_type": "execute_result"
    }
   ],
   "source": [
    "study.best_params['optimizer']"
   ]
  },
  {
   "cell_type": "code",
   "execution_count": 291,
   "metadata": {},
   "outputs": [
    {
     "name": "stdout",
     "output_type": "stream",
     "text": [
      "loss: 0.039615 \n"
     ]
    }
   ],
   "source": [
    "model=best(study.best_params)"
   ]
  },
  {
   "cell_type": "code",
   "execution_count": 289,
   "metadata": {},
   "outputs": [],
   "source": [
    "model.eval()\n",
    "output=[]\n",
    "for i in range(len(testset)):\n",
    "    output.append((model(testset.x[i])).item())"
   ]
  },
  {
   "cell_type": "code",
   "execution_count": 290,
   "metadata": {},
   "outputs": [],
   "source": [
    "sample_submission=pd.read_csv(\"C:/Users/MJ/Desktop/FunctionApproximation/sample_submission.csv\")\n",
    "sample_submission['y']=output\n",
    "sample_submission.to_csv(\"C:/Users/MJ/Desktop/sample_submission.csv\",index=False)"
   ]
  }
 ],
 "metadata": {
  "kernelspec": {
   "display_name": "MJ",
   "language": "python",
   "name": "python3"
  },
  "language_info": {
   "codemirror_mode": {
    "name": "ipython",
    "version": 3
   },
   "file_extension": ".py",
   "mimetype": "text/x-python",
   "name": "python",
   "nbconvert_exporter": "python",
   "pygments_lexer": "ipython3",
   "version": "3.10.6"
  },
  "orig_nbformat": 4
 },
 "nbformat": 4,
 "nbformat_minor": 2
}
