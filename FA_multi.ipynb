{
 "cells": [
  {
   "cell_type": "code",
   "execution_count": 725,
   "metadata": {},
   "outputs": [],
   "source": [
    "import numpy as np \n",
    "import pandas as pd\n",
    "import torch\n",
    "import torch.nn as nn\n",
    "from torch.utils.data import DataLoader,random_split,Dataset,Subset\n",
    "import torchvision.transforms as transforms\n",
    "import torchvision.models as models\n",
    "from d2l import torch as d2l\n",
    "import matplotlib.pyplot as plt\n",
    "from sklearn.preprocessing import LabelEncoder"
   ]
  },
  {
   "cell_type": "code",
   "execution_count": 726,
   "metadata": {},
   "outputs": [],
   "source": [
    "# train = pd.read_csv('C:/Users/MJ/Desktop/FunctionApproximation/train.csv')\n",
    "# test =pd.read_csv('C:/Users/MJ/Desktop/FunctionApproximation/test.csv')\n",
    "# val_size = int(0.2 * len(train))\n",
    "# train_size=len(train)-val_size\n",
    "# train, valid = random_split(train,[train_size, val_size])"
   ]
  },
  {
   "cell_type": "code",
   "execution_count": 727,
   "metadata": {},
   "outputs": [],
   "source": [
    "cuda = True if torch.cuda.is_available() else False"
   ]
  },
  {
   "cell_type": "code",
   "execution_count": 728,
   "metadata": {},
   "outputs": [],
   "source": [
    "train=pd.read_csv(\"C:/Users/MJ/Desktop/FunctionApproximation/train.csv\")\n",
    "test=pd.read_csv(\"C:/Users/MJ/Desktop/FunctionApproximation/test.csv\")\n",
    "test_x=torch.tensor(test.drop(['id'],axis=1).values,dtype=torch.float32)"
   ]
  },
  {
   "cell_type": "code",
   "execution_count": 762,
   "metadata": {},
   "outputs": [],
   "source": [
    "class FADataset(Dataset):\n",
    "    def __init__(self, data,train=True):\n",
    "        super().__init__()\n",
    "\n",
    "        if(train):\n",
    "            self.x=data.drop(['id','y'],axis=1).values\n",
    "            self.x=torch.tensor(self.x,dtype=torch.float32)\n",
    "            self.y=torch.tensor(data['y'].values,dtype=torch.float32)\n",
    "        else:\n",
    "            self.x=data.drop(['id'],axis=1).values\n",
    "            self.x=torch.tensor(self.x,dtype=torch.float32)\n",
    "        \n",
    "        self.flag= [\"F\"] * len(self.x)\n",
    "    def __len__(self):\n",
    "        return len(self.x)\n",
    "    def __getitem__(self, idx):\n",
    "        data=self.x[idx]\n",
    "        target=self.y[idx]\n",
    "        return data,target,idx\n",
    "\n",
    "    def update_flag(self, idx):\n",
    "        self.flag[idx] = \"T\"\n",
    "            "
   ]
  },
  {
   "cell_type": "code",
   "execution_count": 763,
   "metadata": {},
   "outputs": [],
   "source": [
    "batch_size=96\n",
    "dataset=FADataset(train,train=True)\n",
    "trainset, validset = random_split(dataset, [0.9, 0.1])\n",
    "train_dl= DataLoader(trainset, shuffle=True, batch_size=batch_size)\n",
    "valid_dl= DataLoader(validset, shuffle=True, batch_size=batch_size)\n",
    "testset=FADataset(test,train=False)\n",
    "test_dl=DataLoader(testset,shuffle=False, batch_size=batch_size)"
   ]
  },
  {
   "cell_type": "code",
   "execution_count": 764,
   "metadata": {},
   "outputs": [],
   "source": [
    "class MLP(nn.Module):\n",
    "    def __init__(self, input_dim, num_hidden1, num_hidden2,num_hidden3,num_hidden4,num_hidden5,num_hidden6, output_dim):\n",
    "        super().__init__()\n",
    "        self.model=nn.Sequential(nn.Linear(input_dim,num_hidden1),\n",
    "                                nn.ReLU(True),\n",
    "                                \n",
    "                                nn.Linear(num_hidden1,num_hidden2),\n",
    "                                nn.ReLU(True),\n",
    "                                nn.Linear(num_hidden2,num_hidden3),\n",
    "                                nn.ReLU(True),\n",
    "                                nn.Linear(num_hidden3,num_hidden4),\n",
    "                                nn.ReLU(True),\n",
    "                                nn.Linear(num_hidden4,num_hidden5),\n",
    "                                nn.ReLU(True),  \n",
    "                                nn.Linear(num_hidden5,num_hidden6),\n",
    "                                nn.Linear(num_hidden6,output_dim)\n",
    "                                )\n",
    "    def forward(self, x):\n",
    "        return self.model(x)\n"
   ]
  },
  {
   "cell_type": "code",
   "execution_count": 765,
   "metadata": {},
   "outputs": [],
   "source": [
    "model=[]\n",
    "optimizer=[]\n",
    "\n",
    "for i in range(3):\n",
    "    model.append(MLP(input_dim=2, num_hidden1=380,num_hidden2=155,num_hidden3=22,num_hidden4=467,num_hidden5=27,num_hidden6=130, output_dim=1))\n",
    "    optimizer.append(torch.optim.SGD(model[i].parameters(), lr=0.08115999290485583))\n",
    "criterion = nn.MSELoss()"
   ]
  },
  {
   "cell_type": "code",
   "execution_count": 766,
   "metadata": {},
   "outputs": [
    {
     "name": "stdout",
     "output_type": "stream",
     "text": [
      "loss: 1.355514 \n",
      "loss: 0.103689 \n",
      "loss: 0.144284 \n",
      "loss: 0.131756 \n",
      "loss: 0.130159 \n",
      "loss: 0.129291 \n",
      "loss: 0.129488 \n",
      "loss: 0.115375 \n",
      "loss: 0.094800 \n",
      "loss: 0.128036 \n",
      "loss: 0.080307 \n",
      "loss: 0.042399 \n",
      "loss: 0.103679 \n",
      "loss: 0.075736 \n",
      "loss: 0.049909 \n",
      "loss: 0.040917 \n",
      "loss: 0.057134 \n",
      "loss: 0.039701 \n",
      "loss: 0.063739 \n",
      "loss: 0.050379 \n",
      "loss: 0.051256 \n",
      "loss: 0.065027 \n",
      "loss: 0.036719 \n",
      "loss: 0.043055 \n",
      "loss: 0.045320 \n",
      "loss: 0.041237 \n",
      "loss: 0.028709 \n",
      "loss: 0.035119 \n",
      "loss: 0.026754 \n",
      "loss: 0.021610 \n",
      "loss: 0.028244 \n",
      "loss: 0.027040 \n",
      "loss: 0.027176 \n",
      "loss: 0.028952 \n",
      "loss: 0.033809 \n",
      "loss: 0.028403 \n",
      "loss: 0.024223 \n",
      "loss: 0.031506 \n",
      "loss: 0.027018 \n",
      "loss: 0.017029 \n",
      "loss: 0.036325 \n",
      "loss: 0.059733 \n",
      "loss: 0.033827 \n",
      "loss: 0.028661 \n",
      "loss: 0.020733 \n",
      "loss: 0.031587 \n",
      "loss: 0.033165 \n",
      "loss: 0.020084 \n",
      "loss: 0.024704 \n",
      "loss: 0.025350 \n"
     ]
    }
   ],
   "source": [
    "num_epochs = 50\n",
    "losses=[]\n",
    "size = len(train_dl)\n",
    "model[0].train()\n",
    "for epoch in range(num_epochs):\n",
    "    for batch,(data, target,idx) in enumerate(train_dl):\n",
    "        outputs = model[0](data)\n",
    "        loss = criterion(outputs.reshape(-1), target.reshape(-1))\n",
    "        optimizer[0].zero_grad()\n",
    "        loss.backward()\n",
    "        optimizer[0].step()\n",
    "        if batch % 80 == 0: #每通過batch個數量的資料就輸出一次損失的值\n",
    "            print(f\"loss: {loss.item():>7f} \")\n",
    "            losses.append(loss.item())\n"
   ]
  },
  {
   "cell_type": "code",
   "execution_count": 767,
   "metadata": {},
   "outputs": [
    {
     "data": {
      "text/plain": [
       "[<matplotlib.lines.Line2D at 0x1860aaa2e90>]"
      ]
     },
     "execution_count": 767,
     "metadata": {},
     "output_type": "execute_result"
    },
    {
     "data": {
      "image/png": "[encoded data removed]",
      "text/plain": [
       "<Figure size 640x480 with 1 Axes>"
      ]
     },
     "metadata": {},
     "output_type": "display_data"
    }
   ],
   "source": [
    "plt.plot(losses)"
   ]
  },
  {
   "cell_type": "code",
   "execution_count": 768,
   "metadata": {},
   "outputs": [
    {
     "name": "stdout",
     "output_type": "stream",
     "text": [
      "loss: 0.021988 \n"
     ]
    }
   ],
   "source": [
    "model[0].eval()\n",
    "\n",
    "for batch,(data, target,idx) in enumerate(valid_dl):\n",
    "    outputs = model[0](data)\n",
    "    loss = criterion(outputs.reshape(-1), target.reshape(-1))\n",
    "print(f\"loss: {loss.item():>7f} \")"
   ]
  },
  {
   "cell_type": "code",
   "execution_count": 779,
   "metadata": {},
   "outputs": [],
   "source": [
    "model[0].eval()\n",
    "indexF=[]\n",
    "indexT=[]\n",
    "for i in range(len(trainset)):\n",
    "    outputs = model[0](trainset.dataset.x[i])\n",
    "    loss = criterion(outputs,trainset.dataset.y[i].reshape(1))\n",
    "    if(loss>0.08):\n",
    "        indexF.append(i)\n",
    "    else:\n",
    "        indexT.append(i)\n",
    "        trainset.dataset.update_flag(i)"
   ]
  },
  {
   "cell_type": "code",
   "execution_count": 780,
   "metadata": {},
   "outputs": [],
   "source": [
    "Fdataset=torch.utils.data.Subset(trainset, indexF)\n",
    "Tdataset=torch.utils.data.Subset(trainset, indexT)\n",
    "Fdl=DataLoader(Fdataset, shuffle=True, batch_size=batch_size)\n",
    "Tdl=DataLoader(Tdataset, shuffle=True, batch_size=batch_size)\n"
   ]
  },
  {
   "cell_type": "code",
   "execution_count": 783,
   "metadata": {},
   "outputs": [
    {
     "data": {
      "text/plain": [
       "585"
      ]
     },
     "execution_count": 783,
     "metadata": {},
     "output_type": "execute_result"
    }
   ],
   "source": [
    "len(Fdataset)"
   ]
  },
  {
   "cell_type": "code",
   "execution_count": 784,
   "metadata": {},
   "outputs": [],
   "source": [
    "class Decision(nn.Module):\n",
    "    def __init__(self, input_dim, num_hidden1, num_hidden2,num_hidden3, output_dim):\n",
    "        super().__init__()\n",
    "        self.model=nn.Sequential(nn.Linear(input_dim,num_hidden1),\n",
    "                                nn.Linear(num_hidden1,num_hidden2),\n",
    "                                nn.Linear(num_hidden2,num_hidden3),\n",
    "                                nn.Linear(num_hidden3,output_dim)\n",
    "                                )\n",
    "    def forward(self, x):\n",
    "        return self.model(x)"
   ]
  },
  {
   "cell_type": "code",
   "execution_count": 785,
   "metadata": {},
   "outputs": [],
   "source": [
    "model_decision=Decision(input_dim=2,num_hidden1=80,num_hidden2=128,num_hidden3=100,output_dim=2)\n",
    "criterion_d = nn.CrossEntropyLoss()\n",
    "optimizer_d= torch.optim.Adam(model_decision.parameters(), lr=0.001)"
   ]
  },
  {
   "cell_type": "code",
   "execution_count": 786,
   "metadata": {},
   "outputs": [],
   "source": [
    "class Newdata(Dataset):\n",
    "    def __init__(self,x,y):\n",
    "        super().__init__()\n",
    "        self.x=x\n",
    "        self.y=torch.LongTensor(LabelEncoder().fit_transform(y))\n",
    "        \n",
    "    def __len__(self):\n",
    "        return len(self.x)\n",
    "    \n",
    "    def __getitem__(self, idx):\n",
    "        data=self.x[idx]\n",
    "        target=self.y[idx]\n",
    "        return data,target\n"
   ]
  },
  {
   "cell_type": "code",
   "execution_count": 787,
   "metadata": {},
   "outputs": [],
   "source": [
    "decisionset=Newdata(trainset.dataset.x,trainset.dataset.flag)\n",
    "decision_dl=DataLoader(decisionset, shuffle=True, batch_size=batch_size)"
   ]
  },
  {
   "cell_type": "code",
   "execution_count": 794,
   "metadata": {},
   "outputs": [
    {
     "name": "stdout",
     "output_type": "stream",
     "text": [
      "loss: 0.383106 \n",
      "loss: 0.287597 \n",
      "loss: 0.382473 \n",
      "loss: 0.262256 \n",
      "loss: 0.261396 \n",
      "loss: 0.333763 \n",
      "loss: 0.196947 \n",
      "loss: 0.265573 \n",
      "loss: 0.382633 \n",
      "loss: 0.355428 \n",
      "loss: 0.354783 \n",
      "loss: 0.270953 \n",
      "loss: 0.288752 \n",
      "loss: 0.288929 \n",
      "loss: 0.286596 \n",
      "loss: 0.310832 \n",
      "loss: 0.459382 \n",
      "loss: 0.259839 \n",
      "loss: 0.383187 \n",
      "loss: 0.337682 \n",
      "loss: 0.335005 \n",
      "loss: 0.285847 \n",
      "loss: 0.192738 \n",
      "loss: 0.292262 \n",
      "loss: 0.528873 \n",
      "loss: 0.334590 \n",
      "loss: 0.400327 \n",
      "loss: 0.248292 \n",
      "loss: 0.314726 \n",
      "loss: 0.231510 \n",
      "loss: 0.356891 \n",
      "loss: 0.360304 \n",
      "loss: 0.488922 \n",
      "loss: 0.433440 \n",
      "loss: 0.335540 \n",
      "loss: 0.430935 \n",
      "loss: 0.310773 \n",
      "loss: 0.265197 \n",
      "loss: 0.218011 \n",
      "loss: 0.241696 \n",
      "loss: 0.406913 \n",
      "loss: 0.383637 \n",
      "loss: 0.432024 \n",
      "loss: 0.334597 \n",
      "loss: 0.289403 \n",
      "loss: 0.335787 \n",
      "loss: 0.463711 \n",
      "loss: 0.291327 \n",
      "loss: 0.377218 \n",
      "loss: 0.335300 \n",
      "loss: 0.261276 \n",
      "loss: 0.291039 \n",
      "loss: 0.259902 \n",
      "loss: 0.289827 \n",
      "loss: 0.285660 \n",
      "loss: 0.335594 \n",
      "loss: 0.357433 \n",
      "loss: 0.286312 \n",
      "loss: 0.334408 \n",
      "loss: 0.286429 \n"
     ]
    }
   ],
   "source": [
    "#decision model train\n",
    "num_epochs = 30\n",
    "size = len(decision_dl)\n",
    "model_decision.train()\n",
    "for epoch in range(num_epochs):\n",
    "    for batch,(data, target) in enumerate(decision_dl):\n",
    "        outputs = model_decision(data)\n",
    "        \n",
    "        loss = criterion_d(outputs, target)\n",
    "        optimizer_d.zero_grad()\n",
    "        loss.backward()\n",
    "        optimizer_d.step()\n",
    "        \n",
    "        if batch % 80 == 0: #每通過batch個數量的資料就輸出一次損失的值\n",
    "            print(f\"loss: {loss.item():>7f} \")\n",
    "            losses.append(loss.item())"
   ]
  },
  {
   "cell_type": "code",
   "execution_count": 795,
   "metadata": {},
   "outputs": [
    {
     "name": "stdout",
     "output_type": "stream",
     "text": [
      "loss: 1.403926 \n",
      "loss: 0.145117 \n",
      "loss: 0.122063 \n",
      "loss: 0.145248 \n",
      "loss: 0.167777 \n",
      "loss: 0.146081 \n",
      "loss: 0.117421 \n",
      "loss: 0.130672 \n",
      "loss: 0.103916 \n",
      "loss: 0.114915 \n",
      "loss: 0.091051 \n",
      "loss: 0.083840 \n",
      "loss: 0.078059 \n",
      "loss: 0.097304 \n",
      "loss: 0.070772 \n",
      "loss: 0.065781 \n",
      "loss: 0.052548 \n",
      "loss: 0.063790 \n",
      "loss: 0.103071 \n",
      "loss: 0.054051 \n",
      "loss: 0.047498 \n",
      "loss: 0.059645 \n",
      "loss: 0.072323 \n",
      "loss: 0.047457 \n",
      "loss: 0.055061 \n",
      "loss: 0.063629 \n",
      "loss: 0.055575 \n",
      "loss: 0.042559 \n",
      "loss: 0.052892 \n",
      "loss: 0.031534 \n",
      "loss: 0.050874 \n",
      "loss: 0.147829 \n",
      "loss: 0.020177 \n",
      "loss: 0.028691 \n",
      "loss: 0.049284 \n",
      "loss: 0.038876 \n",
      "loss: 0.028600 \n",
      "loss: 0.041120 \n",
      "loss: 0.066758 \n",
      "loss: 0.038351 \n",
      "loss: 0.028430 \n",
      "loss: 0.031321 \n",
      "loss: 0.032435 \n",
      "loss: 0.023078 \n",
      "loss: 0.027784 \n",
      "loss: 0.023815 \n",
      "loss: 0.022945 \n",
      "loss: 0.025141 \n",
      "loss: 0.034551 \n",
      "loss: 0.027743 \n",
      "loss: 0.023385 \n",
      "loss: 0.018576 \n",
      "loss: 0.029349 \n",
      "loss: 0.023937 \n",
      "loss: 0.020400 \n",
      "loss: 0.036497 \n",
      "loss: 0.020416 \n",
      "loss: 0.034967 \n",
      "loss: 0.023428 \n",
      "loss: 0.035070 \n",
      "loss: 0.027262 \n",
      "loss: 0.027681 \n",
      "loss: 0.025751 \n",
      "loss: 0.028299 \n",
      "loss: 0.020543 \n",
      "loss: 0.028738 \n",
      "loss: 0.019777 \n",
      "loss: 0.019180 \n",
      "loss: 0.019166 \n",
      "loss: 0.023224 \n",
      "loss: 0.021999 \n",
      "loss: 0.021919 \n",
      "loss: 0.025358 \n",
      "loss: 0.029556 \n",
      "loss: 0.026275 \n",
      "loss: 0.024310 \n",
      "loss: 0.021476 \n",
      "loss: 0.030587 \n",
      "loss: 0.028834 \n",
      "loss: 0.022873 \n"
     ]
    }
   ],
   "source": [
    "num_epochs = 80\n",
    "size = len(Tdl)\n",
    "model[1].train()\n",
    "for epoch in range(num_epochs):\n",
    "    for batch,(data, target,idx) in enumerate(Tdl):\n",
    "        outputs = model[1](data)\n",
    "        loss = criterion(outputs.reshape(-1), target.reshape(-1))\n",
    "        optimizer[1].zero_grad()\n",
    "        loss.backward()\n",
    "        optimizer[1].step()\n",
    "        if batch % 80 == 0: #每通過batch個數量的資料就輸出一次損失的值\n",
    "            print(f\"loss: {loss.item():>7f} \")\n",
    "            losses.append(loss.item())"
   ]
  },
  {
   "cell_type": "code",
   "execution_count": 796,
   "metadata": {},
   "outputs": [
    {
     "name": "stdout",
     "output_type": "stream",
     "text": [
      "loss: 1.218249 \n",
      "loss: 0.172909 \n",
      "loss: 0.152757 \n",
      "loss: 0.183008 \n",
      "loss: 0.146900 \n",
      "loss: 0.141969 \n",
      "loss: 0.159974 \n",
      "loss: 0.134968 \n",
      "loss: 0.156591 \n",
      "loss: 0.125313 \n",
      "loss: 0.150517 \n",
      "loss: 0.143838 \n",
      "loss: 0.140292 \n",
      "loss: 0.149054 \n",
      "loss: 0.145816 \n",
      "loss: 0.136573 \n",
      "loss: 0.171110 \n",
      "loss: 0.180602 \n",
      "loss: 0.145312 \n",
      "loss: 0.149634 \n",
      "loss: 0.140755 \n",
      "loss: 0.154502 \n",
      "loss: 0.150215 \n",
      "loss: 0.147216 \n",
      "loss: 0.162165 \n",
      "loss: 0.151326 \n",
      "loss: 0.143691 \n",
      "loss: 0.153550 \n",
      "loss: 0.125410 \n",
      "loss: 0.132045 \n"
     ]
    }
   ],
   "source": [
    "num_epochs = 30\n",
    "size = len(Fdl)\n",
    "model[2].train()\n",
    "for epoch in range(num_epochs):\n",
    "    for batch,(data, target,idx) in enumerate(Fdl):\n",
    "        outputs = model[2](data)\n",
    "        loss = criterion(outputs.reshape(-1), target.reshape(-1))\n",
    "        optimizer[2].zero_grad()\n",
    "        loss.backward()\n",
    "        optimizer[2].step()\n",
    "        if batch % 80 == 0: #每通過batch個數量的資料就輸出一次損失的值\n",
    "            print(f\"loss: {loss.item():>7f} \")\n",
    "            losses.append(loss.item())"
   ]
  },
  {
   "cell_type": "code",
   "execution_count": null,
   "metadata": {},
   "outputs": [],
   "source": [
    "model[1].eval()\n",
    "\n",
    "for batch,(data, target,idx) in enumerate(valid_dl):\n",
    "    out = model_decision(data)\n",
    " \n",
    "    _, y_pred_tag = torch.max(out, dim = 1)\n",
    "\n",
    "\n",
    "    if(y_pred_tag==0):\n",
    "        outputs=model[1](data)\n",
    "    else:\n",
    "        outputs=model[2](data)\n",
    "    loss = criterion(outputs.reshape(-1), target.reshape(-1))\n",
    "print(f\"loss: {loss.item():>7f} \")"
   ]
  },
  {
   "cell_type": "code",
   "execution_count": null,
   "metadata": {},
   "outputs": [
    {
     "name": "stdout",
     "output_type": "stream",
     "text": [
      "loss: 0.028074 \n"
     ]
    }
   ],
   "source": [
    "model[1].eval()\n",
    "\n",
    "for batch,(data, target,idx) in enumerate(valid_dl):\n",
    "    outputs = model[1](data)\n",
    "    loss = criterion(outputs.reshape(-1), target.reshape(-1))\n",
    "print(f\"loss: {loss.item():>7f} \")"
   ]
  },
  {
   "cell_type": "code",
   "execution_count": null,
   "metadata": {},
   "outputs": [],
   "source": [
    "model[1].eval()\n",
    "output=[]\n",
    "for i in range(len(test_x)):\n",
    "    output.append((model[1](test_x[i])).item())"
   ]
  },
  {
   "cell_type": "code",
   "execution_count": null,
   "metadata": {},
   "outputs": [
    {
     "data": {
      "text/plain": [
       "0.3848611116409302"
      ]
     },
     "execution_count": 721,
     "metadata": {},
     "output_type": "execute_result"
    }
   ],
   "source": [
    "min(output)"
   ]
  },
  {
   "cell_type": "code",
   "execution_count": null,
   "metadata": {},
   "outputs": [],
   "source": [
    "sample_submission=pd.read_csv(\"C:/Users/MJ/Desktop/FunctionApproximation/sample_submission.csv\")\n",
    "sample_submission['y']=output\n",
    "sample_submission.to_csv(\"C:/Users/MJ/Desktop/sample_submission.csv\",index=False)"
   ]
  }
 ],
 "metadata": {
  "kernelspec": {
   "display_name": "MJ",
   "language": "python",
   "name": "python3"
  },
  "language_info": {
   "codemirror_mode": {
    "name": "ipython",
    "version": 3
   },
   "file_extension": ".py",
   "mimetype": "text/x-python",
   "name": "python",
   "nbconvert_exporter": "python",
   "pygments_lexer": "ipython3",
   "version": "3.10.6"
  },
  "orig_nbformat": 4
 },
 "nbformat": 4,
 "nbformat_minor": 2
}
