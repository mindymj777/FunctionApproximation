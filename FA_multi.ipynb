{
 "cells": [
  {
   "cell_type": "code",
   "execution_count": 66,
   "metadata": {},
   "outputs": [],
   "source": [
    "import numpy as np \n",
    "import pandas as pd\n",
    "import torch\n",
    "import torch.nn as nn\n",
    "from torch.utils.data import DataLoader,random_split,Dataset,Subset\n",
    "import torchvision.transforms as transforms\n",
    "import torchvision.models as models\n",
    "from d2l import torch as d2l\n",
    "import matplotlib.pyplot as plt\n",
    "from sklearn.preprocessing import LabelEncoder"
   ]
  },
  {
   "cell_type": "code",
   "execution_count": 67,
   "metadata": {},
   "outputs": [],
   "source": [
    "# train = pd.read_csv('C:/Users/MJ/Desktop/FunctionApproximation/train.csv')\n",
    "# test =pd.read_csv('C:/Users/MJ/Desktop/FunctionApproximation/test.csv')\n",
    "# val_size = int(0.2 * len(train))\n",
    "# train_size=len(train)-val_size\n",
    "# train, valid = random_split(train,[train_size, val_size])"
   ]
  },
  {
   "cell_type": "code",
   "execution_count": 68,
   "metadata": {},
   "outputs": [],
   "source": [
    "cuda = True if torch.cuda.is_available() else False"
   ]
  },
  {
   "cell_type": "code",
   "execution_count": 69,
   "metadata": {},
   "outputs": [],
   "source": [
    "train=pd.read_csv(\"C:/Users/MJ/Desktop/FunctionApproximation/train.csv\")\n",
    "test=pd.read_csv(\"C:/Users/MJ/Desktop/FunctionApproximation/test.csv\")\n",
    "test_x=torch.tensor(test.drop(['id'],axis=1).values,dtype=torch.float32)"
   ]
  },
  {
   "cell_type": "code",
   "execution_count": 70,
   "metadata": {},
   "outputs": [],
   "source": [
    "class FADataset(Dataset):\n",
    "    def __init__(self, data):\n",
    "        super().__init__()\n",
    "        self.x=torch.tensor(data.drop(['id','y'],axis=1).values,dtype=torch.float32)\n",
    "        self.y=torch.tensor(data['y'].values,dtype=torch.float32)\n",
    "        self.flag=[\"F\"]*len(self.x)\n",
    "    def __len__(self):\n",
    "        return len(self.x)\n",
    "    def __getitem__(self, idx):\n",
    "        data=self.x[idx]\n",
    "        target=self.y[idx]\n",
    "        return data,target,idx\n",
    "\n",
    "    def update_flag(self, idx):\n",
    "        self.flag[idx] = \"T\"\n",
    "            "
   ]
  },
  {
   "cell_type": "code",
   "execution_count": 71,
   "metadata": {},
   "outputs": [],
   "source": [
    "batch_size=80\n",
    "dataset=FADataset(train)\n",
    "trainset, validset = random_split(dataset, [0.9, 0.1])\n",
    "train_dl= DataLoader(trainset, shuffle=True, batch_size=batch_size)\n",
    "valid_dl= DataLoader(validset, shuffle=True, batch_size=batch_size)\n",
    "test_dl=DataLoader(test_x,shuffle=False, batch_size=batch_size)\n"
   ]
  },
  {
   "cell_type": "code",
   "execution_count": 72,
   "metadata": {},
   "outputs": [],
   "source": [
    "class MLP(nn.Module):\n",
    "    def __init__(self, input_dim, num_hidden1, num_hidden2,num_hidden3,num_hidden4,num_hidden5,num_hidden6, output_dim):\n",
    "        super().__init__()\n",
    "        self.model=nn.Sequential(nn.Linear(input_dim,num_hidden1),\n",
    "                                nn.ReLU(True),\n",
    "                                nn.Linear(num_hidden1,num_hidden2),\n",
    "                                nn.ReLU(True),\n",
    "                                nn.Linear(num_hidden2,num_hidden3),\n",
    "                                nn.ReLU(True),\n",
    "                                nn.Linear(num_hidden3,num_hidden4),\n",
    "                                nn.ReLU(True),  \n",
    "                                nn.Linear(num_hidden4,num_hidden5),\n",
    "                                nn.ReLU(True),  \n",
    "                                nn.Linear(num_hidden5,num_hidden6),\n",
    "                                nn.Linear(num_hidden6,output_dim)\n",
    "                                )\n",
    "    def forward(self, x):\n",
    "        return self.model(x)\n"
   ]
  },
  {
   "cell_type": "code",
   "execution_count": 73,
   "metadata": {},
   "outputs": [],
   "source": [
    "model=[]\n",
    "optimizer=[]\n",
    "\n",
    "for i in range(3):\n",
    "    model.append(MLP(input_dim=2, num_hidden1=80,num_hidden2=128,num_hidden3=256,num_hidden4=512,num_hidden5=256,num_hidden6=128, output_dim=1))\n",
    "    optimizer.append(torch.optim.Adam(model[i].parameters(), lr=0.0001))\n",
    "criterion = nn.MSELoss()"
   ]
  },
  {
   "cell_type": "code",
   "execution_count": 74,
   "metadata": {},
   "outputs": [
    {
     "name": "stdout",
     "output_type": "stream",
     "text": [
      "loss: 1.430140 \n",
      "loss: 0.156024 \n",
      "loss: 0.138100 \n",
      "loss: 0.107474 \n",
      "loss: 0.131290 \n",
      "loss: 0.093947 \n",
      "loss: 0.092248 \n",
      "loss: 0.086461 \n",
      "loss: 0.098303 \n",
      "loss: 0.098729 \n",
      "loss: 0.067815 \n",
      "loss: 0.072668 \n",
      "loss: 0.064067 \n",
      "loss: 0.115648 \n",
      "loss: 0.074427 \n",
      "loss: 0.048258 \n",
      "loss: 0.082293 \n",
      "loss: 0.067706 \n",
      "loss: 0.056780 \n",
      "loss: 0.051836 \n",
      "loss: 0.045116 \n",
      "loss: 0.029589 \n",
      "loss: 0.045536 \n",
      "loss: 0.029413 \n",
      "loss: 0.034377 \n",
      "loss: 0.037046 \n",
      "loss: 0.042528 \n",
      "loss: 0.030160 \n",
      "loss: 0.029014 \n",
      "loss: 0.042294 \n",
      "loss: 0.023863 \n",
      "loss: 0.029627 \n",
      "loss: 0.025498 \n",
      "loss: 0.028202 \n",
      "loss: 0.019009 \n",
      "loss: 0.023598 \n",
      "loss: 0.029320 \n",
      "loss: 0.028273 \n",
      "loss: 0.024797 \n",
      "loss: 0.031352 \n",
      "loss: 0.024938 \n",
      "loss: 0.026069 \n",
      "loss: 0.032231 \n",
      "loss: 0.036813 \n",
      "loss: 0.021668 \n",
      "loss: 0.025228 \n",
      "loss: 0.020586 \n",
      "loss: 0.024699 \n",
      "loss: 0.026758 \n",
      "loss: 0.019334 \n",
      "loss: 0.028905 \n",
      "loss: 0.024609 \n",
      "loss: 0.024346 \n",
      "loss: 0.027277 \n",
      "loss: 0.026452 \n",
      "loss: 0.024277 \n",
      "loss: 0.021715 \n",
      "loss: 0.027861 \n",
      "loss: 0.029227 \n",
      "loss: 0.021122 \n"
     ]
    }
   ],
   "source": [
    "num_epochs = 30\n",
    "losses=[]\n",
    "size = len(train_dl)\n",
    "model[0].train()\n",
    "for epoch in range(num_epochs):\n",
    "    for batch,(data, target,idx) in enumerate(train_dl):\n",
    "        outputs = model[0](data)\n",
    "        loss = criterion(outputs.reshape(-1), target.reshape(-1))\n",
    "        optimizer[0].zero_grad()\n",
    "        loss.backward()\n",
    "        optimizer[0].step()\n",
    "        if batch % 80 == 0: #每通過batch個數量的資料就輸出一次損失的值\n",
    "            print(f\"loss: {loss.item():>7f} \")\n",
    "            losses.append(loss.item())\n"
   ]
  },
  {
   "cell_type": "code",
   "execution_count": 75,
   "metadata": {},
   "outputs": [
    {
     "data": {
      "text/plain": [
       "[<matplotlib.lines.Line2D at 0x18601189ab0>]"
      ]
     },
     "execution_count": 75,
     "metadata": {},
     "output_type": "execute_result"
    },
    {
     "data": {
      "image/png": "[encoded data removed]",
      "text/plain": [
       "<Figure size 640x480 with 1 Axes>"
      ]
     },
     "metadata": {},
     "output_type": "display_data"
    }
   ],
   "source": [
    "plt.plot(losses)"
   ]
  },
  {
   "cell_type": "code",
   "execution_count": 76,
   "metadata": {},
   "outputs": [
    {
     "name": "stdout",
     "output_type": "stream",
     "text": [
      "loss: 0.019536 \n"
     ]
    }
   ],
   "source": [
    "model[0].eval()\n",
    "\n",
    "for batch,(data, target,idx) in enumerate(valid_dl):\n",
    "    outputs = model[0](data)\n",
    "    loss = criterion(outputs.reshape(-1), target.reshape(-1))\n",
    "print(f\"loss: {loss.item():>7f} \")"
   ]
  },
  {
   "cell_type": "code",
   "execution_count": 79,
   "metadata": {},
   "outputs": [],
   "source": [
    "model[0].eval()\n",
    "indexF=[]\n",
    "indexT=[]\n",
    "for i in range(len(trainset)):\n",
    "    outputs = model[0](trainset.dataset.x[i])\n",
    "    loss = criterion(outputs,trainset.dataset.y[i].reshape(1))\n",
    "    if(loss>0.4):\n",
    "        indexF.append(i)\n",
    "    else:\n",
    "        indexT.append(i)\n",
    "        trainset.dataset.update_flag(i)"
   ]
  },
  {
   "cell_type": "code",
   "execution_count": 80,
   "metadata": {},
   "outputs": [],
   "source": [
    "Fdataset=torch.utils.data.Subset(trainset, indexF)\n",
    "Tdataset=torch.utils.data.Subset(trainset, indexT)\n",
    "Fdl=DataLoader(Fdataset, shuffle=True, batch_size=batch_size)\n",
    "Tdl=DataLoader(Tdataset, shuffle=True, batch_size=batch_size)\n"
   ]
  },
  {
   "cell_type": "code",
   "execution_count": 81,
   "metadata": {},
   "outputs": [
    {
     "data": {
      "text/plain": [
       "1"
      ]
     },
     "execution_count": 81,
     "metadata": {},
     "output_type": "execute_result"
    }
   ],
   "source": [
    "len(Fdl)"
   ]
  },
  {
   "cell_type": "code",
   "execution_count": 82,
   "metadata": {},
   "outputs": [],
   "source": [
    "class Decision(nn.Module):\n",
    "    def __init__(self, input_dim, num_hidden1, num_hidden2,num_hidden3, output_dim):\n",
    "        super().__init__()\n",
    "        self.model=nn.Sequential(nn.Linear(input_dim,num_hidden1),\n",
    "                                nn.Linear(num_hidden1,num_hidden2),\n",
    "                                nn.Linear(num_hidden2,num_hidden3),\n",
    "                                nn.Linear(num_hidden3,output_dim)\n",
    "                                )\n",
    "    def forward(self, x):\n",
    "        return self.model(x)"
   ]
  },
  {
   "cell_type": "code",
   "execution_count": 83,
   "metadata": {},
   "outputs": [],
   "source": [
    "model_decision=Decision(input_dim=2,num_hidden1=80,num_hidden2=128,num_hidden3=100,output_dim=2)\n",
    "criterion_d = nn.CrossEntropyLoss()\n",
    "optimizer_d= torch.optim.Adam(model_decision.parameters(), lr=0.001)"
   ]
  },
  {
   "cell_type": "code",
   "execution_count": null,
   "metadata": {},
   "outputs": [],
   "source": [
    "class Newdata(Dataset):\n",
    "    def __init__(self,x,y):\n",
    "        super().__init__()\n",
    "        self.x=x\n",
    "        self.y=torch.LongTensor(LabelEncoder().fit_transform(y))\n",
    "        \n",
    "    def __len__(self):\n",
    "        return len(self.x)\n",
    "    \n",
    "    def __getitem__(self, idx):\n",
    "        data=self.x[idx]\n",
    "        target=self.y[idx]\n",
    "        return data,target\n"
   ]
  },
  {
   "cell_type": "code",
   "execution_count": null,
   "metadata": {},
   "outputs": [],
   "source": [
    "decisionset=Newdata(trainset.dataset.x,trainset.dataset.flag)\n",
    "decision_dl=DataLoader(decisionset, shuffle=True, batch_size=batch_size)"
   ]
  },
  {
   "cell_type": "code",
   "execution_count": null,
   "metadata": {},
   "outputs": [],
   "source": [
    "#decision model train\n",
    "num_epochs = 30\n",
    "size = len(decision_dl)\n",
    "model_decision.train()\n",
    "for epoch in range(num_epochs):\n",
    "    for batch,(data, target) in enumerate(decision_dl):\n",
    "        outputs = model_decision(data)\n",
    "        print(outputs)\n",
    "        \n",
    "        # loss = criterion_d(outputs, target)\n",
    "        # optimizer_d.zero_grad()\n",
    "        # loss.backward()\n",
    "        # optimizer_d.step()\n",
    "        # if batch % 80 == 0: #每通過batch個數量的資料就輸出一次損失的值\n",
    "        #     print(f\"loss: {loss.item():>7f} \")\n",
    "        #     losses.append(loss.item())"
   ]
  },
  {
   "cell_type": "code",
   "execution_count": 89,
   "metadata": {},
   "outputs": [
    {
     "name": "stdout",
     "output_type": "stream",
     "text": [
      "loss: 0.016873 \n",
      "loss: 0.024102 \n",
      "loss: 0.021323 \n",
      "loss: 0.022574 \n",
      "loss: 0.020237 \n",
      "loss: 0.028235 \n",
      "loss: 0.021002 \n",
      "loss: 0.021150 \n",
      "loss: 0.024423 \n",
      "loss: 0.018357 \n",
      "loss: 0.025482 \n",
      "loss: 0.020411 \n",
      "loss: 0.030280 \n",
      "loss: 0.019680 \n",
      "loss: 0.026254 \n",
      "loss: 0.029132 \n",
      "loss: 0.020958 \n",
      "loss: 0.023402 \n",
      "loss: 0.021722 \n",
      "loss: 0.024789 \n",
      "loss: 0.021162 \n",
      "loss: 0.024318 \n",
      "loss: 0.021809 \n",
      "loss: 0.023697 \n",
      "loss: 0.019776 \n",
      "loss: 0.018305 \n",
      "loss: 0.018153 \n",
      "loss: 0.029676 \n",
      "loss: 0.026468 \n",
      "loss: 0.021957 \n",
      "loss: 0.022602 \n",
      "loss: 0.025203 \n",
      "loss: 0.028088 \n",
      "loss: 0.027070 \n",
      "loss: 0.021164 \n",
      "loss: 0.026070 \n",
      "loss: 0.019363 \n",
      "loss: 0.024675 \n",
      "loss: 0.023342 \n",
      "loss: 0.018394 \n",
      "loss: 0.024454 \n",
      "loss: 0.026120 \n",
      "loss: 0.016704 \n",
      "loss: 0.025037 \n",
      "loss: 0.024557 \n",
      "loss: 0.020120 \n",
      "loss: 0.015572 \n",
      "loss: 0.023350 \n",
      "loss: 0.019123 \n",
      "loss: 0.024298 \n",
      "loss: 0.025213 \n",
      "loss: 0.014955 \n",
      "loss: 0.018143 \n",
      "loss: 0.029756 \n",
      "loss: 0.027271 \n",
      "loss: 0.022997 \n",
      "loss: 0.019608 \n",
      "loss: 0.021790 \n",
      "loss: 0.023900 \n",
      "loss: 0.024839 \n",
      "loss: 0.027241 \n",
      "loss: 0.021518 \n",
      "loss: 0.022233 \n",
      "loss: 0.021096 \n",
      "loss: 0.016722 \n",
      "loss: 0.018369 \n",
      "loss: 0.023034 \n",
      "loss: 0.021859 \n",
      "loss: 0.027548 \n",
      "loss: 0.024351 \n",
      "loss: 0.030762 \n",
      "loss: 0.017516 \n",
      "loss: 0.026339 \n",
      "loss: 0.018045 \n",
      "loss: 0.025879 \n",
      "loss: 0.024258 \n",
      "loss: 0.024577 \n",
      "loss: 0.024859 \n",
      "loss: 0.022137 \n",
      "loss: 0.024641 \n",
      "loss: 0.020126 \n",
      "loss: 0.020009 \n",
      "loss: 0.019608 \n",
      "loss: 0.029151 \n",
      "loss: 0.021294 \n",
      "loss: 0.016413 \n",
      "loss: 0.022293 \n",
      "loss: 0.019301 \n",
      "loss: 0.018615 \n",
      "loss: 0.026381 \n",
      "loss: 0.028309 \n",
      "loss: 0.020277 \n",
      "loss: 0.023805 \n",
      "loss: 0.021822 \n",
      "loss: 0.024084 \n",
      "loss: 0.020113 \n",
      "loss: 0.019269 \n",
      "loss: 0.023107 \n",
      "loss: 0.026786 \n",
      "loss: 0.021616 \n"
     ]
    }
   ],
   "source": [
    "num_epochs = 50\n",
    "size = len(Tdl)\n",
    "model[1].train()\n",
    "for epoch in range(num_epochs):\n",
    "    for batch,(data, target,idx) in enumerate(Tdl):\n",
    "        outputs = model[1](data)\n",
    "        loss = criterion(outputs.reshape(-1), target.reshape(-1))\n",
    "        optimizer[1].zero_grad()\n",
    "        loss.backward()\n",
    "        optimizer[1].step()\n",
    "        if batch % 80 == 0: #每通過batch個數量的資料就輸出一次損失的值\n",
    "            print(f\"loss: {loss.item():>7f} \")\n",
    "            losses.append(loss.item())"
   ]
  },
  {
   "cell_type": "code",
   "execution_count": null,
   "metadata": {},
   "outputs": [],
   "source": [
    "num_epochs = 30\n",
    "size = len(Fdl)\n",
    "model[2].train()\n",
    "for epoch in range(num_epochs):\n",
    "    for batch,(data, target,idx) in enumerate(Fdl):\n",
    "        outputs = model[2](data)\n",
    "        loss = criterion(outputs.reshape(-1), target.reshape(-1))\n",
    "        optimizer[2].zero_grad()\n",
    "        loss.backward()\n",
    "        optimizer[2].step()\n",
    "        if batch % 80 == 0: #每通過batch個數量的資料就輸出一次損失的值\n",
    "            print(f\"loss: {loss.item():>7f} \")\n",
    "            losses.append(loss.item())"
   ]
  },
  {
   "cell_type": "code",
   "execution_count": null,
   "metadata": {},
   "outputs": [],
   "source": [
    "plt.plot(losses)"
   ]
  },
  {
   "cell_type": "code",
   "execution_count": null,
   "metadata": {},
   "outputs": [],
   "source": [
    "model[1].eval()\n",
    "\n",
    "for batch,(data, target,idx) in enumerate(valid_dl):\n",
    "    out = model_decision(data)\n",
    "    print(out)\n",
    "    # _, y_pred_tag = torch.max(out, dim = 1)\n",
    "\n",
    "\n",
    "#     if(y_pred_tag==0):\n",
    "#         outputs=model[1](data)\n",
    "#     else:\n",
    "#         outputs=model[2](data)\n",
    "#     loss = criterion(outputs.reshape(-1), target.reshape(-1))\n",
    "# print(f\"loss: {loss.item():>7f} \")"
   ]
  },
  {
   "cell_type": "code",
   "execution_count": null,
   "metadata": {},
   "outputs": [],
   "source": [
    "model[1].eval()\n",
    "\n",
    "for batch,(data, target,idx) in enumerate(valid_dl):\n",
    "    outputs = model[1](data)\n",
    "    loss = criterion(outputs.reshape(-1), target.reshape(-1))\n",
    "print(f\"loss: {loss.item():>7f} \")"
   ]
  },
  {
   "cell_type": "code",
   "execution_count": 86,
   "metadata": {},
   "outputs": [],
   "source": [
    "model[1].eval()\n",
    "output=[]\n",
    "for i in range(len(test_x)):\n",
    "    output.append((model[1](test_x[i])).item())"
   ]
  },
  {
   "cell_type": "code",
   "execution_count": 87,
   "metadata": {},
   "outputs": [
    {
     "data": {
      "text/plain": [
       "0.35943859815597534"
      ]
     },
     "execution_count": 87,
     "metadata": {},
     "output_type": "execute_result"
    }
   ],
   "source": [
    "min(output)"
   ]
  },
  {
   "cell_type": "code",
   "execution_count": 88,
   "metadata": {},
   "outputs": [],
   "source": [
    "sample_submission=pd.read_csv(\"C:/Users/MJ/Desktop/FunctionApproximation/sample_submission.csv\")\n",
    "sample_submission['y']=output\n",
    "sample_submission.to_csv(\"C:/Users/MJ/Desktop/sample_submission.csv\",index=False)"
   ]
  }
 ],
 "metadata": {
  "kernelspec": {
   "display_name": "MJ",
   "language": "python",
   "name": "python3"
  },
  "language_info": {
   "codemirror_mode": {
    "name": "ipython",
    "version": 3
   },
   "file_extension": ".py",
   "mimetype": "text/x-python",
   "name": "python",
   "nbconvert_exporter": "python",
   "pygments_lexer": "ipython3",
   "version": "3.10.6"
  },
  "orig_nbformat": 4
 },
 "nbformat": 4,
 "nbformat_minor": 2
}
