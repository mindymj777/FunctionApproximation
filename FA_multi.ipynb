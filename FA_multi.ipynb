{
 "cells": [
  {
   "cell_type": "code",
   "execution_count": 1,
   "metadata": {},
   "outputs": [],
   "source": [
    "import numpy as np \n",
    "import pandas as pd\n",
    "import torch\n",
    "import torch.nn as nn\n",
    "from torch.utils.data import DataLoader,random_split,Dataset,Subset\n",
    "import torchvision.transforms as transforms\n",
    "import torchvision.models as models\n",
    "from d2l import torch as d2l\n",
    "import matplotlib.pyplot as plt"
   ]
  },
  {
   "cell_type": "code",
   "execution_count": 2,
   "metadata": {},
   "outputs": [],
   "source": [
    "# train = pd.read_csv('C:/Users/MJ/Desktop/FunctionApproximation/train.csv')\n",
    "# test =pd.read_csv('C:/Users/MJ/Desktop/FunctionApproximation/test.csv')\n",
    "# val_size = int(0.2 * len(train))\n",
    "# train_size=len(train)-val_size\n",
    "# train, valid = random_split(train,[train_size, val_size])"
   ]
  },
  {
   "cell_type": "code",
   "execution_count": 3,
   "metadata": {},
   "outputs": [],
   "source": [
    "cuda = True if torch.cuda.is_available() else False"
   ]
  },
  {
   "cell_type": "code",
   "execution_count": 4,
   "metadata": {},
   "outputs": [],
   "source": [
    "train=pd.read_csv(\"C:/Users/MJ/Desktop/FunctionApproximation/train.csv\")\n",
    "test=pd.read_csv(\"C:/Users/MJ/Desktop/FunctionApproximation/test.csv\")\n",
    "train_x=train.drop(['id','y'],axis=1).values\n",
    "train_y=train['y'].values\n"
   ]
  },
  {
   "cell_type": "code",
   "execution_count": 5,
   "metadata": {},
   "outputs": [],
   "source": [
    "class FADataset(Dataset):\n",
    "    def __init__(self, x,y):\n",
    "        super().__init__()\n",
    "        self.x=torch.tensor(x,dtype=torch.float32)\n",
    "        self.y=torch.tensor(y,dtype=torch.float32)\n",
    "        self.flag= [False] * len(self.x)\n",
    "    def __len__(self):\n",
    "        return len(self.x)\n",
    "    def __getitem__(self, idx):\n",
    "        data=self.x[idx]\n",
    "        target=self.y[idx]\n",
    "        return data,target,idx\n",
    "\n",
    "    def update_loss_value(self, idx):\n",
    "        self.flag[idx] = True\n",
    "        "
   ]
  },
  {
   "cell_type": "code",
   "execution_count": 6,
   "metadata": {},
   "outputs": [],
   "source": [
    "batch_size=80\n",
    "para={\n",
    "    \"shuffle\":True,\n",
    "    \"batch_size\":batch_size\n",
    "}\n",
    "dataset=FADataset(train_x,train_y)\n",
    "trainset, validset = random_split(dataset, [0.8, 0.2])\n",
    "train_dl= DataLoader(trainset, **para)\n",
    "valid_dl= DataLoader(validset,**para)\n",
    "test_dl= DataLoader(test, **para)\n"
   ]
  },
  {
   "cell_type": "code",
   "execution_count": 7,
   "metadata": {},
   "outputs": [],
   "source": [
    "class MLP(nn.Module):\n",
    "    def __init__(self, input_dim, num_hidden1, num_hidden2,num_hidden3,num_hidden4, output_dim):\n",
    "        super().__init__()\n",
    "        self.model=nn.Sequential(nn.Linear(input_dim,num_hidden1),\n",
    "                                nn.Linear(num_hidden1,num_hidden2),\n",
    "                                nn.ReLU(True),\n",
    "                                nn.Linear(num_hidden2,num_hidden3),\n",
    "                                nn.ReLU(True),\n",
    "                                nn.Linear(num_hidden3,num_hidden4),\n",
    "                                nn.Linear(num_hidden4,output_dim)\n",
    "                                )\n",
    "    def forward(self, x):\n",
    "        return self.model(x)\n"
   ]
  },
  {
   "cell_type": "code",
   "execution_count": 8,
   "metadata": {},
   "outputs": [],
   "source": [
    "model=[]\n",
    "optimizer=[]\n",
    "for i in range(3):\n",
    "    model.append(MLP(input_dim=2, num_hidden1=80,num_hidden2=128,num_hidden3=256,num_hidden4=128, output_dim=1))\n",
    "    optimizer.append(torch.optim.Adam(model[i].parameters(), lr=0.001))\n",
    "criterion = nn.MSELoss()\n",
    "\n"
   ]
  },
  {
   "cell_type": "code",
   "execution_count": 9,
   "metadata": {},
   "outputs": [
    {
     "name": "stdout",
     "output_type": "stream",
     "text": [
      "loss: 1.216267 \n",
      "loss: 0.101991 \n",
      "loss: 0.093449 \n",
      "loss: 0.071041 \n",
      "loss: 0.082841 \n",
      "loss: 0.040018 \n",
      "loss: 0.037706 \n",
      "loss: 0.039817 \n",
      "loss: 0.031286 \n",
      "loss: 0.023831 \n",
      "loss: 0.034237 \n",
      "loss: 0.025733 \n",
      "loss: 0.035751 \n",
      "loss: 0.043008 \n",
      "loss: 0.032537 \n",
      "loss: 0.030046 \n",
      "loss: 0.037366 \n",
      "loss: 0.020520 \n",
      "loss: 0.021840 \n",
      "loss: 0.025248 \n",
      "loss: 0.037702 \n",
      "loss: 0.025132 \n",
      "loss: 0.028542 \n",
      "loss: 0.028713 \n",
      "loss: 0.022549 \n",
      "loss: 0.026596 \n",
      "loss: 0.025752 \n",
      "loss: 0.027867 \n",
      "loss: 0.032578 \n",
      "loss: 0.023332 \n"
     ]
    }
   ],
   "source": [
    "num_epochs = 30\n",
    "losses=[]\n",
    "size = len(train_dl)\n",
    "model[0].train()\n",
    "for epoch in range(num_epochs):\n",
    "    for batch,(data, target,idx) in enumerate(train_dl):\n",
    "        outputs = model[0](data)\n",
    "        loss = criterion(outputs.reshape(-1), target.reshape(-1))\n",
    "        optimizer[0].zero_grad()\n",
    "        loss.backward()\n",
    "        optimizer[0].step()\n",
    "        if batch % 80 == 0: #每通過batch個數量的資料就輸出一次損失的值\n",
    "            print(f\"loss: {loss.item():>7f} \")\n",
    "            losses.append(loss.item())\n"
   ]
  },
  {
   "cell_type": "code",
   "execution_count": 10,
   "metadata": {},
   "outputs": [
    {
     "data": {
      "text/plain": [
       "[<matplotlib.lines.Line2D at 0x14b800c0f40>]"
      ]
     },
     "execution_count": 10,
     "metadata": {},
     "output_type": "execute_result"
    },
    {
     "data": {
      "image/png": "[encoded data removed]",
      "text/plain": [
       "<Figure size 640x480 with 1 Axes>"
      ]
     },
     "metadata": {},
     "output_type": "display_data"
    }
   ],
   "source": [
    "plt.plot(losses)"
   ]
  },
  {
   "cell_type": "code",
   "execution_count": 11,
   "metadata": {},
   "outputs": [
    {
     "name": "stdout",
     "output_type": "stream",
     "text": [
      "loss: 0.250956 \n"
     ]
    },
    {
     "name": "stderr",
     "output_type": "stream",
     "text": [
      "c:\\Users\\MJ\\anaconda3\\envs\\MJ\\lib\\site-packages\\torch\\nn\\modules\\loss.py:536: UserWarning: Using a target size (torch.Size([80])) that is different to the input size (torch.Size([80, 1])). This will likely lead to incorrect results due to broadcasting. Please ensure they have the same size.\n",
      "  return F.mse_loss(input, target, reduction=self.reduction)\n"
     ]
    }
   ],
   "source": [
    "model[0].eval()\n",
    "\n",
    "for batch,(data, target,idx) in enumerate(valid_dl):\n",
    "    outputs = model[0](data)\n",
    "    loss = criterion(outputs, target)\n",
    "print(f\"loss: {loss.item():>7f} \")"
   ]
  },
  {
   "cell_type": "code",
   "execution_count": 12,
   "metadata": {},
   "outputs": [],
   "source": [
    "model[0].eval()\n",
    "indexF=[]\n",
    "indexT=[]\n",
    "for i in range(len(trainset)):\n",
    "    outputs = model[0](trainset.dataset.x[i])\n",
    "    loss = criterion(outputs,trainset.dataset.y[i].reshape(1))\n",
    "    if(loss>0.17):\n",
    "        indexF.append(i)\n",
    "    else:\n",
    "        indexT.append(i)"
   ]
  },
  {
   "cell_type": "code",
   "execution_count": 13,
   "metadata": {},
   "outputs": [],
   "source": [
    "Fdataset=torch.utils.data.Subset(trainset, indexF)\n",
    "Tdataset=torch.utils.data.Subset(trainset, indexT)\n",
    "Fdl=DataLoader(Fdataset,**para)\n",
    "Tdl=DataLoader(Tdataset,**para)\n"
   ]
  },
  {
   "cell_type": "code",
   "execution_count": 14,
   "metadata": {},
   "outputs": [
    {
     "name": "stdout",
     "output_type": "stream",
     "text": [
      "loss: 1.062196 \n",
      "loss: 0.560935 \n",
      "loss: 0.233882 \n",
      "loss: 0.185426 \n",
      "loss: 0.269411 \n",
      "loss: 0.185709 \n",
      "loss: 0.152082 \n",
      "loss: 0.188709 \n",
      "loss: 0.218089 \n",
      "loss: 0.204476 \n",
      "loss: 0.180325 \n",
      "loss: 0.148394 \n",
      "loss: 0.140372 \n",
      "loss: 0.165249 \n",
      "loss: 0.180450 \n",
      "loss: 0.159095 \n",
      "loss: 0.133626 \n",
      "loss: 0.143140 \n",
      "loss: 0.143721 \n",
      "loss: 0.148302 \n",
      "loss: 0.139898 \n",
      "loss: 0.136884 \n",
      "loss: 0.136334 \n",
      "loss: 0.136337 \n",
      "loss: 0.134569 \n",
      "loss: 0.137535 \n",
      "loss: 0.128570 \n",
      "loss: 0.127338 \n",
      "loss: 0.124240 \n",
      "loss: 0.117230 \n"
     ]
    }
   ],
   "source": [
    "num_epochs = 30\n",
    "size = len(train_dl)\n",
    "model[1].train()\n",
    "for epoch in range(num_epochs):\n",
    "    for batch,(data, target,idx) in enumerate(Fdl):\n",
    "        outputs = model[1](data)\n",
    "        loss = criterion(outputs.reshape(-1), target.reshape(-1))\n",
    "        optimizer[1].zero_grad()\n",
    "        loss.backward()\n",
    "        optimizer[1].step()\n",
    "        if batch % 80 == 0: #每通過batch個數量的資料就輸出一次損失的值\n",
    "            print(f\"loss: {loss.item():>7f} \")\n",
    "            losses.append(loss.item())"
   ]
  },
  {
   "cell_type": "code",
   "execution_count": 15,
   "metadata": {},
   "outputs": [
    {
     "data": {
      "text/plain": [
       "[<matplotlib.lines.Line2D at 0x14b859ca1d0>]"
      ]
     },
     "execution_count": 15,
     "metadata": {},
     "output_type": "execute_result"
    },
    {
     "data": {
      "image/png": "[encoded data removed]",
      "text/plain": [
       "<Figure size 640x480 with 1 Axes>"
      ]
     },
     "metadata": {},
     "output_type": "display_data"
    }
   ],
   "source": [
    "plt.plot(losses)"
   ]
  },
  {
   "cell_type": "code",
   "execution_count": 16,
   "metadata": {},
   "outputs": [
    {
     "name": "stdout",
     "output_type": "stream",
     "text": [
      "loss: 0.179505 \n"
     ]
    }
   ],
   "source": [
    "model[1].eval()\n",
    "\n",
    "for batch,(data, target,idx) in enumerate(valid_dl):\n",
    "    outputs = model[1](data)\n",
    "    loss = criterion(outputs, target)\n",
    "print(f\"loss: {loss.item():>7f} \")"
   ]
  }
 ],
 "metadata": {
  "kernelspec": {
   "display_name": "MJ",
   "language": "python",
   "name": "python3"
  },
  "language_info": {
   "codemirror_mode": {
    "name": "ipython",
    "version": 3
   },
   "file_extension": ".py",
   "mimetype": "text/x-python",
   "name": "python",
   "nbconvert_exporter": "python",
   "pygments_lexer": "ipython3",
   "version": "3.10.6"
  },
  "orig_nbformat": 4
 },
 "nbformat": 4,
 "nbformat_minor": 2
}
