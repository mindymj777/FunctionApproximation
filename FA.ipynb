{
 "cells": [
  {
   "cell_type": "code",
   "execution_count": 71,
   "metadata": {},
   "outputs": [],
   "source": [
    "import numpy as np \n",
    "import pandas as pd\n",
    "import torch\n",
    "import torch.nn as nn\n",
    "from torch.utils.data import DataLoader,random_split,Dataset\n",
    "import matplotlib.pyplot as plt\n",
    "from sklearn.preprocessing import StandardScaler"
   ]
  },
  {
   "cell_type": "code",
   "execution_count": 72,
   "metadata": {},
   "outputs": [],
   "source": [
    "# train = pd.read_csv('C:/Users/MJ/Desktop/FunctionApproximation/train.csv')\n",
    "# test =pd.read_csv('C:/Users/MJ/Desktop/FunctionApproximation/test.csv')\n",
    "# val_size = int(0.2 * len(train))\n",
    "# train_size=len(train)-val_size\n",
    "# train, valid = random_split(train,[train_size, val_size])"
   ]
  },
  {
   "cell_type": "code",
   "execution_count": 73,
   "metadata": {},
   "outputs": [],
   "source": [
    "cuda = True if torch.cuda.is_available() else False"
   ]
  },
  {
   "cell_type": "code",
   "execution_count": 74,
   "metadata": {},
   "outputs": [],
   "source": [
    "train=pd.read_csv(\"C:/Users/MJ/Desktop/FunctionApproximation/train.csv\")\n",
    "test=pd.read_csv(\"C:/Users/MJ/Desktop/FunctionApproximation/test.csv\")\n",
    "test_x=torch.tensor(test.drop(['id'],axis=1).values,dtype=torch.float32)\n"
   ]
  },
  {
   "cell_type": "code",
   "execution_count": 75,
   "metadata": {},
   "outputs": [],
   "source": [
    "class FADataset(Dataset):\n",
    "    def __init__(self, data):\n",
    "        super().__init__()\n",
    "        self.x=torch.tensor(data.drop(['id','y'],axis=1).values,dtype=torch.float32)\n",
    "        self.y=torch.tensor(data['y'].values,dtype=torch.float32)\n",
    "        \n",
    "    def __len__(self):\n",
    "        return len(self.x)\n",
    "    def __getitem__(self, idx):\n",
    "        data=self.x[idx]\n",
    "        target=self.y[idx]\n",
    "        return data,target,idx\n",
    "\n",
    "    # def update_loss_value(self, idx):\n",
    "    #     self.flag[idx] = True\n",
    "        "
   ]
  },
  {
   "cell_type": "code",
   "execution_count": 76,
   "metadata": {},
   "outputs": [],
   "source": [
    "batch_size=80\n",
    "dataset=FADataset(train)\n",
    "trainset, validset = random_split(dataset, [0.9, 0.1])\n",
    "train_dl= DataLoader(trainset, shuffle=True, batch_size=batch_size)\n",
    "valid_dl= DataLoader(validset, shuffle=True, batch_size=batch_size)\n",
    "test_dl=DataLoader(test_x,shuffle=False, batch_size=batch_size)"
   ]
  },
  {
   "cell_type": "code",
   "execution_count": 77,
   "metadata": {},
   "outputs": [],
   "source": [
    "class MLP(nn.Module):\n",
    "    def __init__(self, input_dim, num_hidden1, num_hidden2,num_hidden3,num_hidden4,num_hidden5,num_hidden6, output_dim):\n",
    "        super().__init__()\n",
    "        self.model=nn.Sequential(nn.Linear(input_dim,num_hidden1),\n",
    "                                nn.ReLU(True),\n",
    "                                nn.Linear(num_hidden1,num_hidden2),\n",
    "                                nn.ReLU(True),\n",
    "                                nn.Linear(num_hidden2,num_hidden3),\n",
    "                                nn.ReLU(True),\n",
    "                                nn.Linear(num_hidden3,num_hidden4),\n",
    "                                nn.ReLU(True),  \n",
    "                                nn.Linear(num_hidden4,num_hidden5),\n",
    "                                nn.ReLU(True),  \n",
    "                                nn.Linear(num_hidden5,num_hidden6),\n",
    "                                nn.Linear(num_hidden6,output_dim)\n",
    "                                )\n",
    "    def forward(self, x):\n",
    "        return self.model(x)\n"
   ]
  },
  {
   "cell_type": "code",
   "execution_count": 78,
   "metadata": {},
   "outputs": [],
   "source": [
    "model= MLP(input_dim=2, num_hidden1=80,num_hidden2=128,num_hidden3=256,num_hidden4=512,num_hidden5=256,num_hidden6=128, output_dim=1)\n",
    "criterion = nn.MSELoss()\n",
    "optimizer = torch.optim.Adam(model.parameters(), lr=0.0001)"
   ]
  },
  {
   "cell_type": "code",
   "execution_count": 79,
   "metadata": {},
   "outputs": [
    {
     "name": "stdout",
     "output_type": "stream",
     "text": [
      "loss: 1.412792 \n",
      "loss: 0.166250 \n",
      "loss: 0.179806 \n",
      "loss: 0.135935 \n",
      "loss: 0.127486 \n",
      "loss: 0.101417 \n",
      "loss: 0.100172 \n",
      "loss: 0.092434 \n",
      "loss: 0.081978 \n",
      "loss: 0.077765 \n",
      "loss: 0.087840 \n",
      "loss: 0.067440 \n",
      "loss: 0.059052 \n",
      "loss: 0.065866 \n",
      "loss: 0.074490 \n",
      "loss: 0.070376 \n",
      "loss: 0.074862 \n",
      "loss: 0.046051 \n",
      "loss: 0.049635 \n",
      "loss: 0.040066 \n",
      "loss: 0.036002 \n",
      "loss: 0.029811 \n",
      "loss: 0.033117 \n",
      "loss: 0.038316 \n",
      "loss: 0.033137 \n",
      "loss: 0.027633 \n",
      "loss: 0.024387 \n",
      "loss: 0.026560 \n",
      "loss: 0.030171 \n",
      "loss: 0.026912 \n",
      "loss: 0.023375 \n",
      "loss: 0.024244 \n",
      "loss: 0.023898 \n",
      "loss: 0.031107 \n",
      "loss: 0.028445 \n",
      "loss: 0.023673 \n",
      "loss: 0.025229 \n",
      "loss: 0.026233 \n",
      "loss: 0.023469 \n",
      "loss: 0.028228 \n",
      "loss: 0.048679 \n",
      "loss: 0.023715 \n",
      "loss: 0.036218 \n",
      "loss: 0.026468 \n",
      "loss: 0.025996 \n",
      "loss: 0.020741 \n",
      "loss: 0.025975 \n",
      "loss: 0.026585 \n",
      "loss: 0.023845 \n",
      "loss: 0.026558 \n",
      "loss: 0.029390 \n",
      "loss: 0.025313 \n",
      "loss: 0.026847 \n",
      "loss: 0.024886 \n",
      "loss: 0.017367 \n",
      "loss: 0.017824 \n",
      "loss: 0.022259 \n",
      "loss: 0.022133 \n",
      "loss: 0.020862 \n",
      "loss: 0.023432 \n",
      "loss: 0.021675 \n",
      "loss: 0.024091 \n",
      "loss: 0.017176 \n",
      "loss: 0.023073 \n",
      "loss: 0.028943 \n",
      "loss: 0.034416 \n",
      "loss: 0.022713 \n",
      "loss: 0.016833 \n",
      "loss: 0.022272 \n",
      "loss: 0.016682 \n",
      "loss: 0.021817 \n",
      "loss: 0.026350 \n",
      "loss: 0.023698 \n",
      "loss: 0.028666 \n",
      "loss: 0.028954 \n",
      "loss: 0.021601 \n",
      "loss: 0.018228 \n",
      "loss: 0.025905 \n",
      "loss: 0.025792 \n",
      "loss: 0.031412 \n",
      "loss: 0.029205 \n",
      "loss: 0.025313 \n",
      "loss: 0.022703 \n",
      "loss: 0.020869 \n",
      "loss: 0.017241 \n",
      "loss: 0.024563 \n",
      "loss: 0.019490 \n",
      "loss: 0.026199 \n",
      "loss: 0.022462 \n",
      "loss: 0.022365 \n",
      "loss: 0.022378 \n",
      "loss: 0.023824 \n",
      "loss: 0.021805 \n",
      "loss: 0.021009 \n",
      "loss: 0.025005 \n",
      "loss: 0.016922 \n",
      "loss: 0.025122 \n",
      "loss: 0.027222 \n",
      "loss: 0.025269 \n",
      "loss: 0.026763 \n"
     ]
    }
   ],
   "source": [
    "num_epochs = 50\n",
    "losses=[]\n",
    "outlier_x= []\n",
    "outlier_y= []\n",
    "size = len(train_dl)\n",
    "model.train()\n",
    "for epoch in range(num_epochs):\n",
    "    for batch,(data, target,idx) in enumerate(train_dl):\n",
    "        outputs = model(data)\n",
    "        loss = criterion(outputs.reshape(-1), target.reshape(-1))\n",
    "        optimizer.zero_grad()\n",
    "        loss.backward()\n",
    "        optimizer.step()\n",
    "        if batch % 80 == 0: #每通過batch個數量的資料就輸出一次損失的值\n",
    "            print(f\"loss: {loss.item():>7f} \")\n",
    "            losses.append(loss.item())\n"
   ]
  },
  {
   "cell_type": "code",
   "execution_count": 80,
   "metadata": {},
   "outputs": [
    {
     "data": {
      "text/plain": [
       "0.05136777644976973"
      ]
     },
     "execution_count": 80,
     "metadata": {},
     "output_type": "execute_result"
    }
   ],
   "source": [
    "sum(losses)/len(losses)"
   ]
  },
  {
   "cell_type": "code",
   "execution_count": 81,
   "metadata": {},
   "outputs": [
    {
     "data": {
      "text/plain": [
       "0.01668204367160797"
      ]
     },
     "execution_count": 81,
     "metadata": {},
     "output_type": "execute_result"
    }
   ],
   "source": [
    "min(losses)"
   ]
  },
  {
   "cell_type": "code",
   "execution_count": 82,
   "metadata": {},
   "outputs": [
    {
     "data": {
      "text/plain": [
       "[<matplotlib.lines.Line2D at 0x1466c4940a0>]"
      ]
     },
     "execution_count": 82,
     "metadata": {},
     "output_type": "execute_result"
    },
    {
     "data": {
      "image/png": "[encoded data removed]",
      "text/plain": [
       "<Figure size 640x480 with 1 Axes>"
      ]
     },
     "metadata": {},
     "output_type": "display_data"
    }
   ],
   "source": [
    "plt.plot(losses)"
   ]
  },
  {
   "cell_type": "code",
   "execution_count": 83,
   "metadata": {},
   "outputs": [
    {
     "name": "stdout",
     "output_type": "stream",
     "text": [
      "loss: 0.018972 \n"
     ]
    }
   ],
   "source": [
    "model.eval()\n",
    "for batch,(data, target,idx) in enumerate(valid_dl):\n",
    "    outputs = model(data)\n",
    "    loss = criterion(outputs.reshape(-1), target.reshape(-1))\n",
    "print(f\"loss: {loss.item():>7f} \")"
   ]
  },
  {
   "cell_type": "code",
   "execution_count": 84,
   "metadata": {},
   "outputs": [],
   "source": [
    "model.eval()\n",
    "output=[]\n",
    "for i in range(len(test_x)):\n",
    "    output.append((model(test_x[i])).item())"
   ]
  },
  {
   "cell_type": "code",
   "execution_count": 85,
   "metadata": {},
   "outputs": [
    {
     "data": {
      "text/plain": [
       "0.31118911504745483"
      ]
     },
     "execution_count": 85,
     "metadata": {},
     "output_type": "execute_result"
    }
   ],
   "source": [
    "min(output)"
   ]
  },
  {
   "cell_type": "code",
   "execution_count": 86,
   "metadata": {},
   "outputs": [],
   "source": [
    "sample_submission=pd.read_csv(\"C:/Users/MJ/Desktop/FunctionApproximation/sample_submission.csv\")\n",
    "sample_submission['y']=output\n",
    "sample_submission.to_csv(\"C:/Users/MJ/Desktop/sample_submission.csv\",index=False)"
   ]
  }
 ],
 "metadata": {
  "kernelspec": {
   "display_name": "MJ",
   "language": "python",
   "name": "python3"
  },
  "language_info": {
   "codemirror_mode": {
    "name": "ipython",
    "version": 3
   },
   "file_extension": ".py",
   "mimetype": "text/x-python",
   "name": "python",
   "nbconvert_exporter": "python",
   "pygments_lexer": "ipython3",
   "version": "3.10.6"
  },
  "orig_nbformat": 4
 },
 "nbformat": 4,
 "nbformat_minor": 2
}
