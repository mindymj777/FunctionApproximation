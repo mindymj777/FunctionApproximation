{
 "cells": [
  {
   "cell_type": "code",
   "execution_count": 269,
   "metadata": {},
   "outputs": [],
   "source": [
    "import numpy as np \n",
    "import pandas as pd\n",
    "import torch\n",
    "import torch.nn as nn\n",
    "from torch.utils.data import DataLoader,random_split,Dataset\n",
    "import torchvision.transforms as transforms\n",
    "import torchvision.models as models\n",
    "from d2l import torch as d2l\n",
    "import matplotlib.pyplot as plt"
   ]
  },
  {
   "cell_type": "code",
   "execution_count": 270,
   "metadata": {},
   "outputs": [],
   "source": [
    "# train = pd.read_csv('C:/Users/MJ/Desktop/FunctionApproximation/train.csv')\n",
    "# test =pd.read_csv('C:/Users/MJ/Desktop/FunctionApproximation/test.csv')\n",
    "# val_size = int(0.2 * len(train))\n",
    "# train_size=len(train)-val_size\n",
    "# train, valid = random_split(train,[train_size, val_size])"
   ]
  },
  {
   "cell_type": "code",
   "execution_count": 271,
   "metadata": {},
   "outputs": [],
   "source": [
    "cuda = True if torch.cuda.is_available() else False"
   ]
  },
  {
   "cell_type": "code",
   "execution_count": 272,
   "metadata": {},
   "outputs": [],
   "source": [
    "train=pd.read_csv(\"C:/Users/MJ/Desktop/FunctionApproximation/train.csv\")\n",
    "test=pd.read_csv(\"C:/Users/MJ/Desktop/FunctionApproximation/test.csv\")\n",
    "test_x=torch.tensor(test.drop(['id'],axis=1).values,dtype=torch.float32)\n"
   ]
  },
  {
   "cell_type": "code",
   "execution_count": 273,
   "metadata": {},
   "outputs": [],
   "source": [
    "class FADataset(Dataset):\n",
    "    def __init__(self, data):\n",
    "        super().__init__()\n",
    "        self.x=torch.tensor(data.drop(['id','y'],axis=1).values,dtype=torch.float32)\n",
    "        self.y=torch.tensor(data['y'].values,dtype=torch.float32)\n",
    "       \n",
    "    def __len__(self):\n",
    "        return len(self.x)\n",
    "    def __getitem__(self, idx):\n",
    "        data=self.x[idx]\n",
    "        target=self.y[idx]\n",
    "        return data,target,idx\n",
    "\n",
    "    # def update_loss_value(self, idx):\n",
    "    #     self.flag[idx] = True\n",
    "        "
   ]
  },
  {
   "cell_type": "code",
   "execution_count": 274,
   "metadata": {},
   "outputs": [],
   "source": [
    "batch_size=80\n",
    "dataset=FADataset(train)\n",
    "trainset, validset = random_split(dataset, [0.9, 0.1])\n",
    "train_dl= DataLoader(trainset, shuffle=True, batch_size=batch_size)\n",
    "valid_dl= DataLoader(validset, shuffle=True, batch_size=batch_size)\n",
    "test_dl=DataLoader(test_x,shuffle=False, batch_size=batch_size)"
   ]
  },
  {
   "cell_type": "code",
   "execution_count": 283,
   "metadata": {},
   "outputs": [],
   "source": [
    "class MLP(nn.Module):\n",
    "    def __init__(self, input_dim, num_hidden1, num_hidden2,num_hidden3,num_hidden4,num_hidden5,num_hidden6, output_dim):\n",
    "        super().__init__()\n",
    "        self.model=nn.Sequential(nn.Linear(input_dim,num_hidden1),\n",
    "                                nn.ReLU(True),\n",
    "                                nn.Linear(num_hidden1,num_hidden2),\n",
    "                                nn.ReLU(True),\n",
    "                                nn.Linear(num_hidden2,num_hidden3),\n",
    "                                nn.ReLU(True),\n",
    "                                nn.Linear(num_hidden3,num_hidden4),\n",
    "                                nn.ReLU(True),  \n",
    "                                nn.Linear(num_hidden4,num_hidden5),\n",
    "                                nn.ReLU(True),  \n",
    "                                nn.Linear(num_hidden5,num_hidden6),\n",
    "                                nn.Linear(num_hidden6,output_dim)\n",
    "                                )\n",
    "    def forward(self, x):\n",
    "        return self.model(x)\n"
   ]
  },
  {
   "cell_type": "code",
   "execution_count": 304,
   "metadata": {},
   "outputs": [],
   "source": [
    "model= MLP(input_dim=2, num_hidden1=80,num_hidden2=128,num_hidden3=256,num_hidden4=512,num_hidden5=256,num_hidden6=128, output_dim=1)\n",
    "criterion = nn.MSELoss()\n",
    "optimizer = torch.optim.Adam(model.parameters(), lr=0.0001)"
   ]
  },
  {
   "cell_type": "code",
   "execution_count": 307,
   "metadata": {},
   "outputs": [
    {
     "name": "stdout",
     "output_type": "stream",
     "text": [
      "loss: 0.026543 \n",
      "loss: 0.023278 \n",
      "loss: 0.016796 \n",
      "loss: 0.027432 \n",
      "loss: 0.018290 \n",
      "loss: 0.021814 \n",
      "loss: 0.019749 \n",
      "loss: 0.029895 \n",
      "loss: 0.021943 \n",
      "loss: 0.030781 \n",
      "loss: 0.022257 \n",
      "loss: 0.020146 \n",
      "loss: 0.021553 \n",
      "loss: 0.020168 \n",
      "loss: 0.025629 \n",
      "loss: 0.017460 \n",
      "loss: 0.022870 \n",
      "loss: 0.023115 \n",
      "loss: 0.023999 \n",
      "loss: 0.020280 \n",
      "loss: 0.024556 \n",
      "loss: 0.029066 \n",
      "loss: 0.022896 \n",
      "loss: 0.022250 \n",
      "loss: 0.019346 \n",
      "loss: 0.025653 \n",
      "loss: 0.025092 \n",
      "loss: 0.017400 \n",
      "loss: 0.020518 \n",
      "loss: 0.023493 \n",
      "loss: 0.020871 \n",
      "loss: 0.022402 \n",
      "loss: 0.027778 \n",
      "loss: 0.027869 \n",
      "loss: 0.024510 \n",
      "loss: 0.020706 \n",
      "loss: 0.028830 \n",
      "loss: 0.026926 \n",
      "loss: 0.028752 \n",
      "loss: 0.019793 \n",
      "loss: 0.021971 \n",
      "loss: 0.029571 \n",
      "loss: 0.031323 \n",
      "loss: 0.022609 \n",
      "loss: 0.027225 \n",
      "loss: 0.024986 \n",
      "loss: 0.033846 \n",
      "loss: 0.027271 \n",
      "loss: 0.022023 \n",
      "loss: 0.020860 \n",
      "loss: 0.021928 \n",
      "loss: 0.030333 \n",
      "loss: 0.027051 \n",
      "loss: 0.025527 \n",
      "loss: 0.023327 \n",
      "loss: 0.023937 \n",
      "loss: 0.025301 \n",
      "loss: 0.022963 \n",
      "loss: 0.023208 \n",
      "loss: 0.020857 \n",
      "loss: 0.021996 \n",
      "loss: 0.018072 \n",
      "loss: 0.021666 \n",
      "loss: 0.029907 \n",
      "loss: 0.019783 \n",
      "loss: 0.021864 \n",
      "loss: 0.024101 \n",
      "loss: 0.017173 \n",
      "loss: 0.019140 \n",
      "loss: 0.024747 \n",
      "loss: 0.019362 \n",
      "loss: 0.022489 \n",
      "loss: 0.019809 \n",
      "loss: 0.025837 \n",
      "loss: 0.024705 \n",
      "loss: 0.029225 \n",
      "loss: 0.022434 \n",
      "loss: 0.023375 \n",
      "loss: 0.029592 \n",
      "loss: 0.024280 \n",
      "loss: 0.025453 \n",
      "loss: 0.019752 \n",
      "loss: 0.026628 \n",
      "loss: 0.026174 \n",
      "loss: 0.024691 \n",
      "loss: 0.020592 \n",
      "loss: 0.022526 \n",
      "loss: 0.021263 \n",
      "loss: 0.025402 \n",
      "loss: 0.025461 \n",
      "loss: 0.020284 \n",
      "loss: 0.024120 \n",
      "loss: 0.028382 \n",
      "loss: 0.024444 \n",
      "loss: 0.024728 \n",
      "loss: 0.029093 \n",
      "loss: 0.021467 \n",
      "loss: 0.024161 \n",
      "loss: 0.025490 \n",
      "loss: 0.020332 \n"
     ]
    }
   ],
   "source": [
    "num_epochs = 50\n",
    "losses=[]\n",
    "outlier_x= []\n",
    "outlier_y= []\n",
    "size = len(train_dl)\n",
    "model.train()\n",
    "for epoch in range(num_epochs):\n",
    "    for batch,(data, target,idx) in enumerate(train_dl):\n",
    "        outputs = model(data)\n",
    "        loss = criterion(outputs.reshape(-1), target.reshape(-1))\n",
    "        optimizer.zero_grad()\n",
    "        loss.backward()\n",
    "        optimizer.step()\n",
    "        if batch % 80 == 0: #每通過batch個數量的資料就輸出一次損失的值\n",
    "            print(f\"loss: {loss.item():>7f} \")\n",
    "            losses.append(loss.item())\n"
   ]
  },
  {
   "cell_type": "code",
   "execution_count": 309,
   "metadata": {},
   "outputs": [
    {
     "data": {
      "text/plain": [
       "[<matplotlib.lines.Line2D at 0x163bd964760>]"
      ]
     },
     "execution_count": 309,
     "metadata": {},
     "output_type": "execute_result"
    },
    {
     "data": {
      "image/png": "[encoded data removed]",
      "text/plain": [
       "<Figure size 640x480 with 1 Axes>"
      ]
     },
     "metadata": {},
     "output_type": "display_data"
    }
   ],
   "source": [
    "plt.plot(losses)"
   ]
  },
  {
   "cell_type": "code",
   "execution_count": 310,
   "metadata": {},
   "outputs": [
    {
     "name": "stdout",
     "output_type": "stream",
     "text": [
      "loss: 0.019861 \n"
     ]
    }
   ],
   "source": [
    "model.eval()\n",
    "for batch,(data, target,idx) in enumerate(valid_dl):\n",
    "    outputs = model(data)\n",
    "    loss = criterion(outputs.reshape(-1), target.reshape(-1))\n",
    "print(f\"loss: {loss.item():>7f} \")"
   ]
  },
  {
   "cell_type": "code",
   "execution_count": 311,
   "metadata": {},
   "outputs": [],
   "source": [
    "model.eval()\n",
    "output=[]\n",
    "for i in range(len(test_x)):\n",
    "    output.append((model(test_x[i])).item())"
   ]
  },
  {
   "cell_type": "code",
   "execution_count": 312,
   "metadata": {},
   "outputs": [
    {
     "data": {
      "text/plain": [
       "0.37483519315719604"
      ]
     },
     "execution_count": 312,
     "metadata": {},
     "output_type": "execute_result"
    }
   ],
   "source": [
    "min(output)"
   ]
  },
  {
   "cell_type": "code",
   "execution_count": 303,
   "metadata": {},
   "outputs": [],
   "source": [
    "sample_submission=pd.read_csv(\"C:/Users/MJ/Desktop/FunctionApproximation/sample_submission.csv\")\n",
    "sample_submission['y']=output\n",
    "sample_submission.to_csv(\"C:/Users/MJ/Desktop/sample_submission.csv\",index=False)"
   ]
  }
 ],
 "metadata": {
  "kernelspec": {
   "display_name": "MJ",
   "language": "python",
   "name": "python3"
  },
  "language_info": {
   "codemirror_mode": {
    "name": "ipython",
    "version": 3
   },
   "file_extension": ".py",
   "mimetype": "text/x-python",
   "name": "python",
   "nbconvert_exporter": "python",
   "pygments_lexer": "ipython3",
   "version": "3.10.6"
  },
  "orig_nbformat": 4
 },
 "nbformat": 4,
 "nbformat_minor": 2
}
