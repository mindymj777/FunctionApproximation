{
 "cells": [
  {
   "cell_type": "code",
   "execution_count": 118,
   "metadata": {},
   "outputs": [],
   "source": [
    "import numpy as np \n",
    "import pandas as pd\n",
    "import torch\n",
    "import torch.nn as nn\n",
    "from torch.utils.data import DataLoader,random_split,Dataset\n",
    "import matplotlib.pyplot as plt\n",
    "from sklearn.preprocessing import StandardScaler"
   ]
  },
  {
   "cell_type": "code",
   "execution_count": 119,
   "metadata": {},
   "outputs": [],
   "source": [
    "# train = pd.read_csv('C:/Users/MJ/Desktop/FunctionApproximation/train.csv')\n",
    "# test =pd.read_csv('C:/Users/MJ/Desktop/FunctionApproximation/test.csv')\n",
    "# val_size = int(0.2 * len(train))\n",
    "# train_size=len(train)-val_size\n",
    "# train, valid = random_split(train,[train_size, val_size])"
   ]
  },
  {
   "cell_type": "code",
   "execution_count": 120,
   "metadata": {},
   "outputs": [],
   "source": [
    "cuda = True if torch.cuda.is_available() else False"
   ]
  },
  {
   "cell_type": "code",
   "execution_count": 121,
   "metadata": {},
   "outputs": [],
   "source": [
    "train=pd.read_csv(\"C:/Users/MJ/Desktop/FunctionApproximation/train.csv\")\n",
    "test=pd.read_csv(\"C:/Users/MJ/Desktop/FunctionApproximation/test.csv\")\n",
    "test_x=torch.tensor(test.drop(['id'],axis=1).values,dtype=torch.float32)\n"
   ]
  },
  {
   "cell_type": "code",
   "execution_count": 122,
   "metadata": {},
   "outputs": [],
   "source": [
    "class FADataset(Dataset):\n",
    "    def __init__(self, data):\n",
    "        super().__init__()\n",
    "        self.x=torch.tensor(data.drop(['id','y'],axis=1).values,dtype=torch.float32)\n",
    "        self.y=torch.tensor(data['y'].values,dtype=torch.float32)\n",
    "        \n",
    "    def __len__(self):\n",
    "        return len(self.x)\n",
    "    def __getitem__(self, idx):\n",
    "        data=self.x[idx]\n",
    "        target=self.y[idx]\n",
    "        return data,target,idx\n",
    "\n",
    "    # def update_loss_value(self, idx):\n",
    "    #     self.flag[idx] = True\n",
    "        "
   ]
  },
  {
   "cell_type": "code",
   "execution_count": 123,
   "metadata": {},
   "outputs": [],
   "source": [
    "batch_size=80\n",
    "dataset=FADataset(train)\n",
    "trainset, validset = random_split(dataset, [0.9, 0.1])\n",
    "train_dl= DataLoader(trainset, shuffle=True, batch_size=batch_size)\n",
    "valid_dl= DataLoader(validset, shuffle=True, batch_size=batch_size)\n",
    "test_dl=DataLoader(test_x,shuffle=False, batch_size=batch_size)"
   ]
  },
  {
   "cell_type": "code",
   "execution_count": 124,
   "metadata": {},
   "outputs": [],
   "source": [
    "class MLP(nn.Module):\n",
    "    def __init__(self, input_dim, num_hidden1, num_hidden2,num_hidden3,num_hidden4,num_hidden5,num_hidden6, output_dim):\n",
    "        super().__init__()\n",
    "        self.model=nn.Sequential(nn.Linear(input_dim,num_hidden1),\n",
    "                                nn.ReLU(True),\n",
    "                                nn.Linear(num_hidden1,num_hidden2),\n",
    "                                nn.ReLU(True),\n",
    "                                nn.Linear(num_hidden2,num_hidden3),\n",
    "                                nn.ReLU(True),\n",
    "                                nn.Linear(num_hidden3,num_hidden4),\n",
    "                                nn.ReLU(True),  \n",
    "                                nn.Linear(num_hidden4,num_hidden5),\n",
    "                                nn.ReLU(True),  \n",
    "                                nn.Linear(num_hidden5,num_hidden6),\n",
    "                                nn.Linear(num_hidden6,output_dim),\n",
    "                                )\n",
    "    def forward(self, x):\n",
    "        return self.model(x)\n"
   ]
  },
  {
   "cell_type": "code",
   "execution_count": 125,
   "metadata": {},
   "outputs": [],
   "source": [
    "model= MLP(input_dim=2, num_hidden1=100,num_hidden2=200,num_hidden3=300,num_hidden4=512,num_hidden5=256,num_hidden6=128, output_dim=1)\n",
    "criterion = nn.MSELoss()\n",
    "optimizer = torch.optim.Adam(model.parameters(), lr=0.0001)"
   ]
  },
  {
   "cell_type": "code",
   "execution_count": 126,
   "metadata": {},
   "outputs": [
    {
     "name": "stdout",
     "output_type": "stream",
     "text": [
      "loss: 1.495776 \n",
      "loss: 0.201273 \n",
      "loss: 0.167767 \n",
      "loss: 0.116052 \n",
      "loss: 0.136443 \n",
      "loss: 0.113442 \n",
      "loss: 0.103523 \n",
      "loss: 0.132939 \n",
      "loss: 0.113273 \n",
      "loss: 0.109854 \n",
      "loss: 0.073306 \n",
      "loss: 0.089180 \n",
      "loss: 0.080919 \n",
      "loss: 0.090724 \n",
      "loss: 0.061782 \n",
      "loss: 0.064503 \n",
      "loss: 0.080805 \n",
      "loss: 0.060232 \n",
      "loss: 0.066926 \n",
      "loss: 0.044417 \n",
      "loss: 0.071651 \n",
      "loss: 0.044536 \n",
      "loss: 0.048827 \n",
      "loss: 0.051528 \n",
      "loss: 0.055397 \n",
      "loss: 0.031975 \n",
      "loss: 0.036510 \n",
      "loss: 0.037536 \n",
      "loss: 0.023830 \n",
      "loss: 0.023254 \n",
      "loss: 0.028160 \n",
      "loss: 0.040798 \n",
      "loss: 0.041904 \n",
      "loss: 0.029360 \n",
      "loss: 0.041406 \n",
      "loss: 0.031268 \n",
      "loss: 0.025708 \n",
      "loss: 0.025147 \n",
      "loss: 0.037070 \n",
      "loss: 0.024652 \n",
      "loss: 0.020387 \n",
      "loss: 0.021848 \n",
      "loss: 0.024335 \n",
      "loss: 0.032401 \n",
      "loss: 0.027631 \n",
      "loss: 0.019894 \n",
      "loss: 0.024852 \n",
      "loss: 0.033490 \n",
      "loss: 0.028904 \n",
      "loss: 0.027585 \n",
      "loss: 0.020706 \n",
      "loss: 0.031513 \n",
      "loss: 0.026888 \n",
      "loss: 0.025260 \n",
      "loss: 0.026181 \n",
      "loss: 0.022972 \n",
      "loss: 0.017736 \n",
      "loss: 0.023167 \n",
      "loss: 0.019731 \n",
      "loss: 0.019758 \n",
      "loss: 0.024836 \n",
      "loss: 0.023579 \n",
      "loss: 0.017094 \n",
      "loss: 0.027258 \n",
      "loss: 0.027854 \n",
      "loss: 0.018894 \n",
      "loss: 0.024694 \n",
      "loss: 0.018107 \n",
      "loss: 0.022473 \n",
      "loss: 0.024662 \n",
      "loss: 0.020143 \n",
      "loss: 0.015075 \n",
      "loss: 0.019219 \n",
      "loss: 0.029162 \n",
      "loss: 0.019855 \n",
      "loss: 0.023378 \n",
      "loss: 0.022308 \n",
      "loss: 0.020122 \n",
      "loss: 0.029799 \n",
      "loss: 0.026789 \n",
      "loss: 0.020568 \n",
      "loss: 0.021828 \n",
      "loss: 0.026679 \n",
      "loss: 0.022170 \n",
      "loss: 0.020314 \n",
      "loss: 0.025431 \n",
      "loss: 0.023305 \n",
      "loss: 0.025152 \n",
      "loss: 0.026515 \n",
      "loss: 0.021204 \n",
      "loss: 0.017309 \n",
      "loss: 0.018320 \n",
      "loss: 0.018335 \n",
      "loss: 0.024183 \n",
      "loss: 0.022992 \n",
      "loss: 0.026047 \n",
      "loss: 0.023888 \n",
      "loss: 0.022785 \n",
      "loss: 0.019597 \n",
      "loss: 0.031879 \n"
     ]
    }
   ],
   "source": [
    "num_epochs = 50\n",
    "losses=[]\n",
    "size = len(train_dl)\n",
    "model.train()\n",
    "for epoch in range(num_epochs):\n",
    "    for batch,(data, target,idx) in enumerate(train_dl):\n",
    "        outputs = model(data)\n",
    "        loss = criterion(outputs.reshape(-1), target.reshape(-1))\n",
    "        optimizer.zero_grad()\n",
    "        loss.backward()\n",
    "        optimizer.step()\n",
    "        if batch % 80 == 0: #每通過batch個數量的資料就輸出一次損失的值\n",
    "            print(f\"loss: {loss.item():>7f} \")\n",
    "            losses.append(loss.item())\n"
   ]
  },
  {
   "cell_type": "code",
   "execution_count": 134,
   "metadata": {},
   "outputs": [
    {
     "data": {
      "text/plain": [
       "0.05562693645246327"
      ]
     },
     "execution_count": 134,
     "metadata": {},
     "output_type": "execute_result"
    }
   ],
   "source": [
    "sum(losses)/len(losses)"
   ]
  },
  {
   "cell_type": "code",
   "execution_count": 135,
   "metadata": {},
   "outputs": [
    {
     "data": {
      "text/plain": [
       "0.015074972994625568"
      ]
     },
     "execution_count": 135,
     "metadata": {},
     "output_type": "execute_result"
    }
   ],
   "source": [
    "min(losses)"
   ]
  },
  {
   "cell_type": "code",
   "execution_count": 136,
   "metadata": {},
   "outputs": [
    {
     "data": {
      "text/plain": [
       "[<matplotlib.lines.Line2D at 0x228e0c2e020>]"
      ]
     },
     "execution_count": 136,
     "metadata": {},
     "output_type": "execute_result"
    },
    {
     "data": {
      "image/png": "[encoded data removed]",
      "text/plain": [
       "<Figure size 640x480 with 1 Axes>"
      ]
     },
     "metadata": {},
     "output_type": "display_data"
    }
   ],
   "source": [
    "plt.plot(losses)"
   ]
  },
  {
   "cell_type": "code",
   "execution_count": 137,
   "metadata": {},
   "outputs": [
    {
     "name": "stdout",
     "output_type": "stream",
     "text": [
      "loss: 0.028168 \n"
     ]
    }
   ],
   "source": [
    "model.eval()\n",
    "for batch,(data, target,idx) in enumerate(valid_dl):\n",
    "    outputs = model(data)\n",
    "    loss = criterion(outputs.reshape(-1), target.reshape(-1))\n",
    "print(f\"loss: {loss.item():>7f} \")"
   ]
  },
  {
   "cell_type": "code",
   "execution_count": 138,
   "metadata": {},
   "outputs": [],
   "source": [
    "model.eval()\n",
    "output=[]\n",
    "for i in range(len(test_x)):\n",
    "    output.append((model(test_x[i])).item())"
   ]
  },
  {
   "cell_type": "code",
   "execution_count": 139,
   "metadata": {},
   "outputs": [
    {
     "data": {
      "text/plain": [
       "0.3327551484107971"
      ]
     },
     "execution_count": 139,
     "metadata": {},
     "output_type": "execute_result"
    }
   ],
   "source": [
    "min(output)"
   ]
  },
  {
   "cell_type": "code",
   "execution_count": 140,
   "metadata": {},
   "outputs": [],
   "source": [
    "sample_submission=pd.read_csv(\"C:/Users/MJ/Desktop/FunctionApproximation/sample_submission.csv\")\n",
    "sample_submission['y']=output\n",
    "sample_submission.to_csv(\"C:/Users/MJ/Desktop/sample_submission.csv\",index=False)"
   ]
  }
 ],
 "metadata": {
  "kernelspec": {
   "display_name": "MJ",
   "language": "python",
   "name": "python3"
  },
  "language_info": {
   "codemirror_mode": {
    "name": "ipython",
    "version": 3
   },
   "file_extension": ".py",
   "mimetype": "text/x-python",
   "name": "python",
   "nbconvert_exporter": "python",
   "pygments_lexer": "ipython3",
   "version": "3.10.6"
  },
  "orig_nbformat": 4
 },
 "nbformat": 4,
 "nbformat_minor": 2
}
