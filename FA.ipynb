{
 "cells": [
  {
   "cell_type": "code",
   "execution_count": 254,
   "metadata": {},
   "outputs": [],
   "source": [
    "import numpy as np \n",
    "import pandas as pd\n",
    "import torch\n",
    "import torch.nn as nn\n",
    "from torch.utils.data import DataLoader,random_split,Dataset\n",
    "import torchvision.transforms as transforms\n",
    "import torchvision.models as models\n",
    "from d2l import torch as d2l\n",
    "import matplotlib.pyplot as plt"
   ]
  },
  {
   "cell_type": "code",
   "execution_count": 255,
   "metadata": {},
   "outputs": [],
   "source": [
    "# train = pd.read_csv('C:/Users/MJ/Desktop/FunctionApproximation/train.csv')\n",
    "# test =pd.read_csv('C:/Users/MJ/Desktop/FunctionApproximation/test.csv')\n",
    "# val_size = int(0.2 * len(train))\n",
    "# train_size=len(train)-val_size\n",
    "# train, valid = random_split(train,[train_size, val_size])"
   ]
  },
  {
   "cell_type": "code",
   "execution_count": 256,
   "metadata": {},
   "outputs": [],
   "source": [
    "cuda = True if torch.cuda.is_available() else False"
   ]
  },
  {
   "cell_type": "code",
   "execution_count": 257,
   "metadata": {},
   "outputs": [],
   "source": [
    "train=pd.read_csv(\"C:/Users/MJ/Desktop/FunctionApproximation/train.csv\")\n",
    "test=pd.read_csv(\"C:/Users/MJ/Desktop/FunctionApproximation/test.csv\")\n",
    "test_x=torch.tensor(test.drop(['id'],axis=1).values,dtype=torch.float32)\n"
   ]
  },
  {
   "cell_type": "code",
   "execution_count": 258,
   "metadata": {},
   "outputs": [],
   "source": [
    "class FADataset(Dataset):\n",
    "    def __init__(self, data):\n",
    "        super().__init__()\n",
    "        self.x=torch.tensor(data.drop(['id','y'],axis=1).values,dtype=torch.float32)\n",
    "        self.y=torch.tensor(data['y'].values,dtype=torch.float32)\n",
    "       \n",
    "    def __len__(self):\n",
    "        return len(self.x)\n",
    "    def __getitem__(self, idx):\n",
    "        data=self.x[idx]\n",
    "        target=self.y[idx]\n",
    "        return data,target,idx\n",
    "\n",
    "    # def update_loss_value(self, idx):\n",
    "    #     self.flag[idx] = True\n",
    "        "
   ]
  },
  {
   "cell_type": "code",
   "execution_count": 259,
   "metadata": {},
   "outputs": [],
   "source": [
    "batch_size=80\n",
    "dataset=FADataset(train)\n",
    "trainset, validset = random_split(dataset, [0.9, 0.1])\n",
    "train_dl= DataLoader(trainset, shuffle=True, batch_size=batch_size)\n",
    "valid_dl= DataLoader(validset, shuffle=True, batch_size=batch_size)\n",
    "test_dl=DataLoader(test_x,shuffle=False, batch_size=batch_size)"
   ]
  },
  {
   "cell_type": "code",
   "execution_count": 260,
   "metadata": {},
   "outputs": [],
   "source": [
    "class MLP(nn.Module):\n",
    "    def __init__(self, input_dim, num_hidden1, num_hidden2,num_hidden3,num_hidden4,num_hidden5,num_hidden6, output_dim):\n",
    "        super().__init__()\n",
    "        self.model=nn.Sequential(nn.Linear(input_dim,num_hidden1),\n",
    "                                nn.ReLU(True),\n",
    "                                nn.Linear(num_hidden1,num_hidden2),\n",
    "                                nn.ReLU(True),\n",
    "                                nn.Linear(num_hidden2,num_hidden3),\n",
    "                                nn.ReLU(True),\n",
    "                                nn.Linear(num_hidden3,num_hidden4),\n",
    "                                nn.ReLU(True),  \n",
    "                                nn.Linear(num_hidden4,num_hidden5),\n",
    "                                nn.ReLU(True),  \n",
    "                                nn.Linear(num_hidden5,num_hidden6),\n",
    "                                nn.Linear(num_hidden6,output_dim)\n",
    "                                )\n",
    "    def forward(self, x):\n",
    "        return self.model(x)\n"
   ]
  },
  {
   "cell_type": "code",
   "execution_count": 261,
   "metadata": {},
   "outputs": [],
   "source": [
    "model= MLP(input_dim=2, num_hidden1=80,num_hidden2=128,num_hidden3=256,num_hidden4=512,num_hidden5=256,num_hidden6=128, output_dim=1)\n",
    "criterion = nn.MSELoss()\n",
    "optimizer = torch.optim.Adam(model.parameters(), lr=0.001)"
   ]
  },
  {
   "cell_type": "code",
   "execution_count": 262,
   "metadata": {},
   "outputs": [
    {
     "name": "stdout",
     "output_type": "stream",
     "text": [
      "loss: 1.154741 \n",
      "loss: 0.098158 \n",
      "loss: 0.106509 \n",
      "loss: 0.072980 \n",
      "loss: 0.066029 \n",
      "loss: 0.046428 \n",
      "loss: 0.055792 \n",
      "loss: 0.047369 \n",
      "loss: 0.052090 \n",
      "loss: 0.045088 \n",
      "loss: 0.031578 \n",
      "loss: 0.025769 \n",
      "loss: 0.032230 \n",
      "loss: 0.037237 \n",
      "loss: 0.024952 \n",
      "loss: 0.024333 \n",
      "loss: 0.028058 \n",
      "loss: 0.022809 \n",
      "loss: 0.021743 \n",
      "loss: 0.028471 \n",
      "loss: 0.030224 \n",
      "loss: 0.034693 \n",
      "loss: 0.028154 \n",
      "loss: 0.026366 \n",
      "loss: 0.032720 \n",
      "loss: 0.018684 \n",
      "loss: 0.025061 \n",
      "loss: 0.029130 \n",
      "loss: 0.024157 \n",
      "loss: 0.023476 \n",
      "loss: 0.024626 \n",
      "loss: 0.031150 \n",
      "loss: 0.029343 \n",
      "loss: 0.026774 \n",
      "loss: 0.026828 \n",
      "loss: 0.023240 \n",
      "loss: 0.019552 \n",
      "loss: 0.019151 \n",
      "loss: 0.027239 \n",
      "loss: 0.024238 \n",
      "loss: 0.019853 \n",
      "loss: 0.026127 \n",
      "loss: 0.023245 \n",
      "loss: 0.021801 \n",
      "loss: 0.019886 \n",
      "loss: 0.026752 \n",
      "loss: 0.026887 \n",
      "loss: 0.030240 \n",
      "loss: 0.026485 \n",
      "loss: 0.029402 \n",
      "loss: 0.018305 \n",
      "loss: 0.020318 \n",
      "loss: 0.027618 \n",
      "loss: 0.027465 \n",
      "loss: 0.026371 \n",
      "loss: 0.018182 \n",
      "loss: 0.027215 \n",
      "loss: 0.024838 \n",
      "loss: 0.020570 \n",
      "loss: 0.019970 \n"
     ]
    }
   ],
   "source": [
    "num_epochs = 30\n",
    "losses=[]\n",
    "outlier_x= []\n",
    "outlier_y= []\n",
    "size = len(train_dl)\n",
    "model.train()\n",
    "for epoch in range(num_epochs):\n",
    "    for batch,(data, target,idx) in enumerate(train_dl):\n",
    "        outputs = model(data)\n",
    "        loss = criterion(outputs.reshape(-1), target.reshape(-1))\n",
    "        optimizer.zero_grad()\n",
    "        loss.backward()\n",
    "        optimizer.step()\n",
    "        if batch % 80 == 0: #每通過batch個數量的資料就輸出一次損失的值\n",
    "            print(f\"loss: {loss.item():>7f} \")\n",
    "            losses.append(loss.item())\n"
   ]
  },
  {
   "cell_type": "code",
   "execution_count": 263,
   "metadata": {},
   "outputs": [
    {
     "data": {
      "text/plain": [
       "[<matplotlib.lines.Line2D at 0x163c1868520>]"
      ]
     },
     "execution_count": 263,
     "metadata": {},
     "output_type": "execute_result"
    },
    {
     "data": {
      "image/png": "[encoded data removed]",
      "text/plain": [
       "<Figure size 640x480 with 1 Axes>"
      ]
     },
     "metadata": {},
     "output_type": "display_data"
    }
   ],
   "source": [
    "plt.plot(losses)"
   ]
  },
  {
   "cell_type": "code",
   "execution_count": 264,
   "metadata": {},
   "outputs": [
    {
     "name": "stdout",
     "output_type": "stream",
     "text": [
      "loss: 0.019887 \n"
     ]
    }
   ],
   "source": [
    "model.eval()\n",
    "for batch,(data, target,idx) in enumerate(valid_dl):\n",
    "    outputs = model(data)\n",
    "    loss = criterion(outputs.reshape(-1), target.reshape(-1))\n",
    "print(f\"loss: {loss.item():>7f} \")"
   ]
  },
  {
   "cell_type": "code",
   "execution_count": 265,
   "metadata": {},
   "outputs": [],
   "source": [
    "model.eval()\n",
    "output=[]\n",
    "for i in range(len(test_x)):\n",
    "    output.append((model(test_x[i])).item())"
   ]
  },
  {
   "cell_type": "code",
   "execution_count": 266,
   "metadata": {},
   "outputs": [
    {
     "data": {
      "text/plain": [
       "0.4194880723953247"
      ]
     },
     "execution_count": 266,
     "metadata": {},
     "output_type": "execute_result"
    }
   ],
   "source": [
    "min(output)"
   ]
  },
  {
   "cell_type": "code",
   "execution_count": 267,
   "metadata": {},
   "outputs": [],
   "source": [
    "sample_submission=pd.read_csv(\"C:/Users/MJ/Desktop/FunctionApproximation/sample_submission.csv\")\n",
    "sample_submission['y']=output\n",
    "sample_submission.to_csv(\"C:/Users/MJ/Desktop/sample_submission.csv\",index=False)"
   ]
  }
 ],
 "metadata": {
  "kernelspec": {
   "display_name": "MJ",
   "language": "python",
   "name": "python3"
  },
  "language_info": {
   "codemirror_mode": {
    "name": "ipython",
    "version": 3
   },
   "file_extension": ".py",
   "mimetype": "text/x-python",
   "name": "python",
   "nbconvert_exporter": "python",
   "pygments_lexer": "ipython3",
   "version": "3.10.6"
  },
  "orig_nbformat": 4
 },
 "nbformat": 4,
 "nbformat_minor": 2
}
