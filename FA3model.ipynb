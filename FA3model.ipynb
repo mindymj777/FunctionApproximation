{
 "cells": [
  {
   "cell_type": "code",
   "execution_count": 2,
   "metadata": {},
   "outputs": [],
   "source": [
    "import numpy as np \n",
    "import pandas as pd\n",
    "import torch\n",
    "import torch.nn as nn\n",
    "from torch.utils.data import DataLoader,random_split,Dataset\n",
    "import torchvision.transforms as transforms\n",
    "import torchvision.models as models\n",
    "from d2l import torch as d2l\n",
    "import matplotlib.pyplot as plt"
   ]
  },
  {
   "cell_type": "code",
   "execution_count": 3,
   "metadata": {},
   "outputs": [],
   "source": [
    "# train = pd.read_csv('C:/Users/MJ/Desktop/FunctionApproximation/train.csv')\n",
    "# test =pd.read_csv('C:/Users/MJ/Desktop/FunctionApproximation/test.csv')\n",
    "# val_size = int(0.2 * len(train))\n",
    "# train_size=len(train)-val_size\n",
    "# train, valid = random_split(train,[train_size, val_size])"
   ]
  },
  {
   "cell_type": "code",
   "execution_count": 4,
   "metadata": {},
   "outputs": [],
   "source": [
    "cuda = True if torch.cuda.is_available() else False"
   ]
  },
  {
   "cell_type": "code",
   "execution_count": 60,
   "metadata": {},
   "outputs": [],
   "source": [
    "train=pd.read_csv(\"C:/Users/MJ/Desktop/FunctionApproximation/train.csv\")\n",
    "test=pd.read_csv(\"C:/Users/MJ/Desktop/FunctionApproximation/test.csv\")\n",
    "test_x=torch.tensor(test.drop(['id'],axis=1).values,dtype=torch.float32)"
   ]
  },
  {
   "cell_type": "code",
   "execution_count": 59,
   "metadata": {},
   "outputs": [],
   "source": [
    "class FADataset(Dataset):\n",
    "    def __init__(self, data):\n",
    "        super().__init__()\n",
    "        self.x=torch.tensor(data.drop(['id','y'],axis=1).values,dtype=torch.float32)\n",
    "        self.y=torch.tensor(data['y'].values,dtype=torch.float32)\n",
    "       \n",
    "    def __len__(self):\n",
    "        return len(self.x)\n",
    "    def __getitem__(self, idx):\n",
    "        data=self.x[idx]\n",
    "        target=self.y[idx]\n",
    "        return data,target,idx\n",
    "\n",
    "    # def update_loss_value(self, idx):\n",
    "    #     self.flag[idx] = True\n",
    "        "
   ]
  },
  {
   "cell_type": "code",
   "execution_count": 95,
   "metadata": {},
   "outputs": [],
   "source": [
    "batch_size=80\n",
    "dataset=FADataset(train)\n",
    "trainset, validset = random_split(dataset, [0.9, 0.1])\n",
    "train_dl= DataLoader(trainset, shuffle=True, batch_size=batch_size)\n",
    "valid_dl= DataLoader(validset, shuffle=True, batch_size=batch_size)\n",
    "test_dl=DataLoader(test_x,shuffle=False, batch_size=batch_size)"
   ]
  },
  {
   "cell_type": "code",
   "execution_count": 96,
   "metadata": {},
   "outputs": [],
   "source": [
    "class MLP(nn.Module):\n",
    "    def __init__(self, input_dim, num_hidden1, num_hidden2,num_hidden3, output_dim):\n",
    "        super().__init__()\n",
    "        self.model=nn.Sequential(nn.Linear(input_dim,num_hidden1),\n",
    "                                 nn.ReLU(True),\n",
    "                                 nn.Linear(num_hidden1,num_hidden2),\n",
    "                                 nn.ReLU(True),\n",
    "                                 nn.Linear(num_hidden2,num_hidden3),\n",
    "                                 nn.ReLU(True),\n",
    "                                 nn.Linear(num_hidden3,output_dim)\n",
    "                                )\n",
    "    def forward(self, x):\n",
    "        return self.model(x)\n"
   ]
  },
  {
   "cell_type": "code",
   "execution_count": 97,
   "metadata": {},
   "outputs": [],
   "source": [
    "model=[]\n",
    "optimizer=[]\n",
    "\n",
    "for i in range(3):\n",
    "    model.append(MLP(input_dim=2, num_hidden1=80,num_hidden2=64,num_hidden3=80, output_dim=1))\n",
    "    optimizer.append(torch.optim.Adam(model[i].parameters(), lr=0.0001))\n",
    "criterion = nn.MSELoss()\n"
   ]
  },
  {
   "cell_type": "code",
   "execution_count": 98,
   "metadata": {},
   "outputs": [
    {
     "name": "stderr",
     "output_type": "stream",
     "text": [
      "c:\\Users\\MJ\\anaconda3\\envs\\MJ\\lib\\site-packages\\torch\\nn\\modules\\loss.py:536: UserWarning: Using a target size (torch.Size([80])) that is different to the input size (torch.Size([80, 1])). This will likely lead to incorrect results due to broadcasting. Please ensure they have the same size.\n",
      "  return F.mse_loss(input, target, reduction=self.reduction)\n"
     ]
    },
    {
     "name": "stdout",
     "output_type": "stream",
     "text": [
      "loss: 1.269960 \n",
      "loss: 1.461578 \n",
      "loss: 1.424307 \n",
      "loss: 0.574789 \n",
      "loss: 0.673505 \n",
      "loss: 0.528802 \n",
      "loss: 0.506577 \n",
      "loss: 0.586171 \n",
      "loss: 0.417844 \n",
      "loss: 0.151131 \n",
      "loss: 0.176663 \n",
      "loss: 0.156599 \n",
      "loss: 0.140954 \n",
      "loss: 0.167019 \n",
      "loss: 0.144040 \n",
      "loss: 0.133306 \n",
      "loss: 0.134750 \n",
      "loss: 0.133660 \n",
      "loss: 0.153314 \n",
      "loss: 0.154227 \n",
      "loss: 0.152734 \n",
      "loss: 0.134100 \n",
      "loss: 0.133599 \n",
      "loss: 0.132975 \n",
      "loss: 0.154533 \n",
      "loss: 0.153245 \n",
      "loss: 0.153573 \n",
      "loss: 0.168619 \n",
      "loss: 0.167277 \n",
      "loss: 0.167720 \n",
      "loss: 0.135137 \n",
      "loss: 0.133340 \n",
      "loss: 0.134015 \n",
      "loss: 0.166891 \n",
      "loss: 0.166000 \n",
      "loss: 0.165847 \n",
      "loss: 0.163164 \n",
      "loss: 0.162618 \n",
      "loss: 0.161828 \n",
      "loss: 0.144605 \n",
      "loss: 0.144051 \n",
      "loss: 0.143970 \n",
      "loss: 0.119228 \n",
      "loss: 0.118496 \n",
      "loss: 0.118261 \n",
      "loss: 0.162449 \n",
      "loss: 0.162650 \n",
      "loss: 0.161279 \n",
      "loss: 0.136645 \n",
      "loss: 0.136264 \n",
      "loss: 0.135922 \n",
      "loss: 0.160245 \n",
      "loss: 0.160276 \n",
      "loss: 0.160016 \n",
      "loss: 0.128729 \n",
      "loss: 0.129142 \n",
      "loss: 0.128435 \n",
      "loss: 0.134447 \n",
      "loss: 0.134765 \n",
      "loss: 0.134273 \n",
      "loss: 0.158605 \n",
      "loss: 0.159086 \n",
      "loss: 0.158571 \n",
      "loss: 0.123914 \n",
      "loss: 0.124434 \n",
      "loss: 0.124143 \n",
      "loss: 0.145981 \n",
      "loss: 0.146604 \n",
      "loss: 0.145813 \n",
      "loss: 0.145313 \n",
      "loss: 0.145276 \n",
      "loss: 0.145376 \n",
      "loss: 0.137364 \n",
      "loss: 0.137524 \n",
      "loss: 0.137392 \n",
      "loss: 0.166680 \n",
      "loss: 0.167147 \n",
      "loss: 0.166776 \n",
      "loss: 0.126471 \n",
      "loss: 0.126649 \n",
      "loss: 0.126450 \n",
      "loss: 0.143134 \n",
      "loss: 0.143908 \n",
      "loss: 0.143136 \n",
      "loss: 0.149438 \n",
      "loss: 0.150323 \n",
      "loss: 0.148916 \n",
      "loss: 0.134484 \n",
      "loss: 0.134436 \n",
      "loss: 0.134334 \n",
      "loss: 0.165311 \n",
      "loss: 0.165553 \n",
      "loss: 0.165378 \n",
      "loss: 0.128860 \n",
      "loss: 0.128935 \n",
      "loss: 0.128881 \n",
      "loss: 0.134689 \n",
      "loss: 0.134991 \n",
      "loss: 0.134664 \n",
      "loss: 0.145563 \n",
      "loss: 0.145883 \n",
      "loss: 0.145468 \n",
      "loss: 0.143128 \n",
      "loss: 0.143279 \n",
      "loss: 0.142590 \n",
      "loss: 0.133601 \n",
      "loss: 0.133652 \n",
      "loss: 0.133709 \n",
      "loss: 0.141091 \n",
      "loss: 0.141378 \n",
      "loss: 0.140827 \n",
      "loss: 0.110672 \n",
      "loss: 0.110638 \n",
      "loss: 0.110569 \n",
      "loss: 0.152404 \n",
      "loss: 0.152583 \n",
      "loss: 0.152407 \n",
      "loss: 0.131010 \n",
      "loss: 0.131060 \n",
      "loss: 0.131052 \n"
     ]
    }
   ],
   "source": [
    "num_epochs = 20\n",
    "losses=[]\n",
    "size = len(train_dl)\n",
    "\n",
    "for epoch in range(num_epochs):\n",
    "    for batch,(data, target,idx) in enumerate(train_dl):\n",
    "        for i in range(3):\n",
    "            model[i].train()\n",
    "            outputs = model[i](data)\n",
    "            loss = criterion(outputs, target)\n",
    "            optimizer[i].zero_grad()\n",
    "            loss.backward()\n",
    "            optimizer[i].step()\n",
    "            if batch % 80 == 0: #每通過batch個數量的資料就輸出一次損失的值\n",
    "                print(f\"loss: {loss.item():>7f} \")\n",
    "                losses.append(loss.item())"
   ]
  },
  {
   "cell_type": "code",
   "execution_count": 99,
   "metadata": {},
   "outputs": [
    {
     "name": "stdout",
     "output_type": "stream",
     "text": [
      "loss: 0.138868 \n",
      "loss: 0.139117 \n",
      "loss: 0.148924 \n",
      "loss: 0.149745 \n",
      "loss: 0.126600 \n",
      "loss: 0.125751 \n",
      "loss: 0.137826 \n",
      "loss: 0.147200 \n",
      "loss: 0.144587 \n",
      "loss: 0.150597 \n"
     ]
    }
   ],
   "source": [
    "model[0].eval()\n",
    "for batch,(data, target,idx) in enumerate(valid_dl):\n",
    "    outputs = (model[0](data)+model[1](data)+model[2](data))/3\n",
    "    loss = criterion(outputs.reshape(-1), target.reshape(-1))\n",
    "    print(f\"loss: {loss.item():>7f} \")"
   ]
  },
  {
   "cell_type": "code",
   "execution_count": 100,
   "metadata": {},
   "outputs": [
    {
     "name": "stdout",
     "output_type": "stream",
     "text": [
      "loss: 0.152027 \n",
      "loss: 0.136518 \n",
      "loss: 0.134721 \n"
     ]
    }
   ],
   "source": [
    "for i in range(3):\n",
    "    model[i].eval()\n",
    "    for batch,(data, target,idx) in enumerate(valid_dl):\n",
    "        outputs = model[i](data)\n",
    "        loss = criterion(outputs.reshape(-1), target.reshape(-1))\n",
    "    print(f\"loss: {loss.item():>7f} \")"
   ]
  },
  {
   "cell_type": "code",
   "execution_count": 101,
   "metadata": {},
   "outputs": [
    {
     "data": {
      "text/plain": [
       "[<matplotlib.lines.Line2D at 0x229136b7dc0>]"
      ]
     },
     "execution_count": 101,
     "metadata": {},
     "output_type": "execute_result"
    },
    {
     "data": {
      "image/png": "[encoded data removed]",
      "text/plain": [
       "<Figure size 640x480 with 1 Axes>"
      ]
     },
     "metadata": {},
     "output_type": "display_data"
    }
   ],
   "source": [
    "plt.plot(losses)"
   ]
  },
  {
   "cell_type": "code",
   "execution_count": 93,
   "metadata": {},
   "outputs": [],
   "source": [
    "model[0].eval()\n",
    "output=[]\n",
    "for data in test_dl:\n",
    "    out = model[0](data)\n"
   ]
  },
  {
   "cell_type": "code",
   "execution_count": 102,
   "metadata": {},
   "outputs": [],
   "source": [
    "model[0].eval()\n",
    "output=[]\n",
    "for i in range(len(test_x)):\n",
    "    output.append((model[0](test_x[i])).item())"
   ]
  },
  {
   "cell_type": "code",
   "execution_count": 104,
   "metadata": {},
   "outputs": [
    {
     "data": {
      "text/plain": [
       "1.0273019075393677"
      ]
     },
     "execution_count": 104,
     "metadata": {},
     "output_type": "execute_result"
    }
   ],
   "source": [
    "min(output)"
   ]
  },
  {
   "cell_type": "code",
   "execution_count": 105,
   "metadata": {},
   "outputs": [
    {
     "data": {
      "text/plain": [
       "0.0262"
      ]
     },
     "execution_count": 105,
     "metadata": {},
     "output_type": "execute_result"
    }
   ],
   "source": [
    "train_y.min()"
   ]
  },
  {
   "cell_type": "code",
   "execution_count": 56,
   "metadata": {},
   "outputs": [],
   "source": [
    "sample_submission=pd.read_csv(\"C:/Users/MJ/Desktop/FunctionApproximation/sample_submission.csv\")\n",
    "sample_submission['y']=output\n",
    "sample_submission.to_csv(\"C:/Users/MJ/Desktop/sample_submission.csv\",index=False)"
   ]
  }
 ],
 "metadata": {
  "kernelspec": {
   "display_name": "MJ",
   "language": "python",
   "name": "python3"
  },
  "language_info": {
   "codemirror_mode": {
    "name": "ipython",
    "version": 3
   },
   "file_extension": ".py",
   "mimetype": "text/x-python",
   "name": "python",
   "nbconvert_exporter": "python",
   "pygments_lexer": "ipython3",
   "version": "3.10.6"
  },
  "orig_nbformat": 4
 },
 "nbformat": 4,
 "nbformat_minor": 2
}
