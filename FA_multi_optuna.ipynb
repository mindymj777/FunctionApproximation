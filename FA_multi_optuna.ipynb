{
 "cells": [
  {
   "cell_type": "code",
   "execution_count": 30,
   "metadata": {},
   "outputs": [],
   "source": [
    "import numpy as np \n",
    "import pandas as pd\n",
    "import torch\n",
    "import torch.nn as nn\n",
    "from torch.utils.data import DataLoader,random_split,Dataset,Subset\n",
    "import torchvision.transforms as transforms\n",
    "import torchvision.models as models\n",
    "import matplotlib.pyplot as plt\n",
    "from sklearn.preprocessing import LabelEncoder\n",
    "import optuna\n",
    "import joblib"
   ]
  },
  {
   "cell_type": "code",
   "execution_count": 31,
   "metadata": {},
   "outputs": [],
   "source": [
    "cuda = True if torch.cuda.is_available() else False"
   ]
  },
  {
   "cell_type": "code",
   "execution_count": 32,
   "metadata": {},
   "outputs": [],
   "source": [
    "train=pd.read_csv(\"C:/Users/MJ/Desktop/FunctionApproximation/train.csv\")\n",
    "test=pd.read_csv(\"C:/Users/MJ/Desktop/FunctionApproximation/test.csv\")"
   ]
  },
  {
   "cell_type": "code",
   "execution_count": 33,
   "metadata": {},
   "outputs": [],
   "source": [
    "class FADataset(Dataset):\n",
    "    def __init__(self, data,train=True):\n",
    "        super().__init__()\n",
    "        if(train):\n",
    "            self.x=data.drop(['id','y'],axis=1).values\n",
    "            self.x=torch.tensor(self.x,dtype=torch.float32)\n",
    "            self.y=torch.tensor(data['y'].values,dtype=torch.float32)\n",
    "        else:\n",
    "            self.x=data.drop(['id'],axis=1).values\n",
    "            self.x=torch.tensor(self.x,dtype=torch.float32)\n",
    "            \n",
    "    def __len__(self):\n",
    "        return len(self.x)\n",
    "\n",
    "    def __getitem__(self, idx):\n",
    "        data=self.x[idx]\n",
    "        target=self.y[idx]\n",
    "        return data,target,idx\n"
   ]
  },
  {
   "cell_type": "code",
   "execution_count": 34,
   "metadata": {},
   "outputs": [],
   "source": [
    "dataset=FADataset(train,train=True)\n",
    "trainset, validset = random_split(dataset, [0.9, 0.1])\n",
    "testset=FADataset(test,train=False)\n",
    "test_dl=DataLoader(testset,shuffle=False, batch_size=80)"
   ]
  },
  {
   "cell_type": "code",
   "execution_count": 102,
   "metadata": {},
   "outputs": [],
   "source": [
    "class MLP(nn.Module):\n",
    "    def __init__(self,params):\n",
    "        super().__init__()\n",
    "        self.model=nn.Sequential(nn.Linear(2,params['num_hidden1']),\n",
    "                                nn.ReLU(True),\n",
    "                                nn.Linear(params['num_hidden1'],params['num_hidden2']),\n",
    "                                nn.ReLU(True),\n",
    "                                nn.Linear(params['num_hidden2'],params['num_hidden3']),\n",
    "                                nn.ReLU(True),\n",
    "                                nn.Linear(params['num_hidden3'],params['num_hidden4']),\n",
    "                                nn.ReLU(True),\n",
    "                                nn.Linear(params['num_hidden4'],params['num_hidden5']),\n",
    "                                nn.ReLU(True),  \n",
    "                                nn.Linear(params['num_hidden5'],params['num_hidden6']),\n",
    "                                nn.Linear(params['num_hidden6'],1)\n",
    "                                )\n",
    "    def forward(self, x):\n",
    "        return self.model(x)\n"
   ]
  },
  {
   "cell_type": "code",
   "execution_count": 103,
   "metadata": {},
   "outputs": [],
   "source": [
    "def train_and_evaluate(params,model,datadl):\n",
    "\n",
    "    optimizer = getattr(torch.optim, params['optimizer'])(model.parameters(), lr= params['learning_rate'])\n",
    "    \n",
    "    criterion = nn.MSELoss()\n",
    "\n",
    "    losses=[]\n",
    "    num_epochs=50\n",
    "    model.train()\n",
    "    for epoch in range(num_epochs):\n",
    "        for batch,(data, target,idx) in enumerate(datadl):\n",
    "            outputs = model(data)\n",
    "            loss = criterion(outputs.reshape(-1), target.reshape(-1))\n",
    "            optimizer.zero_grad()\n",
    "            loss.backward()\n",
    "            optimizer.step()\n",
    "\n",
    "\n",
    "    model.eval()\n",
    "    losses=[]\n",
    "    for batch,(data, target,idx) in enumerate(datadl):\n",
    "        outputs = model(data)\n",
    "        loss = criterion(outputs.reshape(-1), target.reshape(-1))\n",
    "        losses.append(loss.item())\n",
    "    # print(f\"loss: {sum(losses)/len(losses):>7f} \")\n",
    "    loss=sum(losses)/len(losses)\n",
    "    \n",
    "    return model,loss\n"
   ]
  },
  {
   "cell_type": "code",
   "execution_count": 104,
   "metadata": {},
   "outputs": [],
   "source": [
    "\n",
    "def objective(trial):\n",
    "        \n",
    "        params = {\n",
    "\n",
    "            'learning_rate': trial.suggest_float('learning_rate', 1e-5, 1e-1),\n",
    "            'optimizer': trial.suggest_categorical(\"optimizer\", [\"Adam\", \"SGD\"]),\n",
    "            'batch_size': trial.suggest_int(\"batch_size\", 64, 320,step=16),\n",
    "            'num_hidden1': trial.suggest_int(\"num_hidden1\", 50, 500),\n",
    "            'num_hidden2': trial.suggest_int(\"num_hidden2\", 50, 600),\n",
    "            'num_hidden3': trial.suggest_int(\"num_hidden3\", 50, 600),\n",
    "            'num_hidden4': trial.suggest_int(\"num_hidden4\", 50, 600),\n",
    "            'num_hidden5': trial.suggest_int(\"num_hidden5\", 50, 600),\n",
    "            'num_hidden6': trial.suggest_int(\"num_hidden6\", 50, 600)\n",
    "            }\n",
    "        \n",
    "\n",
    "        train_dl= DataLoader(trainset, shuffle=True, batch_size=params['batch_size'])\n",
    "        valid_dl= DataLoader(validset, shuffle=True, batch_size=params['batch_size'])\n",
    "\n",
    "\n",
    "        model= MLP(params)\n",
    "        best_model,loss=train_and_evaluate(params,model,train_dl)\n",
    "      \n",
    "        torch.save(best_model.state_dict(), f\"model_trial_{trial.number}.pth\")\n",
    "    \n",
    "        return loss\n"
   ]
  },
  {
   "cell_type": "code",
   "execution_count": 105,
   "metadata": {},
   "outputs": [],
   "source": [
    "train_dl= DataLoader(trainset, shuffle=True, batch_size=study_alldata.best_params['batch_size'])\n",
    "valid_dl= DataLoader(validset, shuffle=True, batch_size=study_alldata.best_params['batch_size'])\n",
    "criterion = nn.MSELoss()"
   ]
  },
  {
   "cell_type": "code",
   "execution_count": 109,
   "metadata": {},
   "outputs": [
    {
     "name": "stdout",
     "output_type": "stream",
     "text": [
      "model_0 loss= 0.023185842164925165\n",
      "model_1 loss= 0.02315875579627742\n",
      "model_2 loss= 0.02304524197284363\n",
      "model_3 loss= 0.022980503556607045\n",
      "model_4 loss= 0.024481509402394293\n"
     ]
    }
   ],
   "source": [
    "model=[]\n",
    "for i in range(5):\n",
    "    study = optuna.create_study(direction=\"minimize\", sampler=optuna.samplers.TPESampler())\n",
    "    optuna.logging.set_verbosity(optuna.logging.WARNING)\n",
    "    study.optimize(objective, n_trials=30)\n",
    "    print(f\"model_{i} loss=\",study.best_value)\n",
    "    model.append(MLP(study.best_params))\n",
    "    model[i].load_state_dict(torch.load(f\"C:/Users/MJ/Desktop/FunctionApproximation/model_trial_{study.best_trial.number}.pth\"))\n",
    "    torch.save(model[i],f'model_{i}.pth')"
   ]
  },
  {
   "cell_type": "code",
   "execution_count": 110,
   "metadata": {},
   "outputs": [
    {
     "name": "stdout",
     "output_type": "stream",
     "text": [
      "loss: 0.021460 \n",
      "loss: 0.022042 \n",
      "loss: 0.022466 \n",
      "loss: 0.021388 \n",
      "loss: 0.023067 \n"
     ]
    }
   ],
   "source": [
    "for i in range(5):\n",
    "    model[i].eval()\n",
    "    losses=[]\n",
    "    for batch,(data, target,idx) in enumerate(valid_dl):\n",
    "        outputs = model[i](data)\n",
    "        loss = criterion(outputs.reshape(-1), target.reshape(-1))\n",
    "        losses.append(loss.item())\n",
    "    print(f\"loss: {sum(losses)/len(losses):>7f} \")\n",
    "    loss=sum(losses)/len(losses)"
   ]
  },
  {
   "cell_type": "code",
   "execution_count": 127,
   "metadata": {},
   "outputs": [],
   "source": [
    "def objective_en(trial):\n",
    "    a=trial.suggest_float('a',0, 100)\n",
    "    b=trial.suggest_float('b',0, 100)\n",
    "    c=trial.suggest_float('c',0, 100)\n",
    "    d=trial.suggest_float('d',0, 100)\n",
    "    e=trial.suggest_float('e',0, 100)\n",
    "    \n",
    "    losses=[]\n",
    "    \n",
    "    for batch,(data, target,idx) in enumerate(train_dl):\n",
    "        outputs = (a*model[0](data)+b*model[1](data)+c*model[2](data)+d*model[3](data)+e*model[4](data))/(a+b+c+d+e)\n",
    "        loss = criterion(outputs.reshape(-1), target.reshape(-1))\n",
    "        losses.append(loss.item())\n",
    "    # print(f\"loss: {sum(losses)/len(losses):>7f} \")\n",
    "    loss=sum(losses)/len(losses)\n",
    "\n",
    "    return loss\n",
    "\n",
    "study_en = optuna.create_study(direction='minimize')\n",
    "study_en.optimize(objective_en, n_trials=100)\n"
   ]
  },
  {
   "cell_type": "code",
   "execution_count": 129,
   "metadata": {},
   "outputs": [
    {
     "data": {
      "text/plain": [
       "0.022244182217503544"
      ]
     },
     "execution_count": 129,
     "metadata": {},
     "output_type": "execute_result"
    }
   ],
   "source": [
    "study_en.best_value"
   ]
  },
  {
   "cell_type": "code",
   "execution_count": 130,
   "metadata": {},
   "outputs": [],
   "source": [
    "a=study_en.best_params['a']\n",
    "b=study_en.best_params['b']\n",
    "c=study_en.best_params['c']\n",
    "d=study_en.best_params['d']\n",
    "e=study_en.best_params['e']\n",
    "\n",
    "output=[]\n",
    "\n",
    "for i in range(len(testset)):\n",
    "    output.append(((a*model[0](testset.x[i])+b*model[1](testset.x[i])+c*model[2](testset.x[i])+d*model[3](testset.x[i])+e*model[4](testset.x[i]))/(a+b+c+d+e)).item())\n",
    "\n",
    "sample_submission=pd.read_csv(\"C:/Users/MJ/Desktop/FunctionApproximation/sample_submission.csv\")\n",
    "sample_submission['y']=output\n",
    "sample_submission.to_csv(\"C:/Users/MJ/Desktop/sample_submission.csv\",index=False)"
   ]
  },
  {
   "cell_type": "code",
   "execution_count": null,
   "metadata": {},
   "outputs": [],
   "source": [
    "# model_0.eval()\n",
    "\n",
    "# for batch,(data, target,idx) in enumerate(valid_dl):\n",
    "#     outputs = model_0(data)\n",
    "#     loss = criterion(outputs.reshape(-1), target.reshape(-1))\n",
    "# print(f\"loss: {loss.item():>7f} \")"
   ]
  }
 ],
 "metadata": {
  "kernelspec": {
   "display_name": "MJ",
   "language": "python",
   "name": "python3"
  },
  "language_info": {
   "codemirror_mode": {
    "name": "ipython",
    "version": 3
   },
   "file_extension": ".py",
   "mimetype": "text/x-python",
   "name": "python",
   "nbconvert_exporter": "python",
   "pygments_lexer": "ipython3",
   "version": "3.10.6"
  },
  "orig_nbformat": 4
 },
 "nbformat": 4,
 "nbformat_minor": 2
}
