{
 "cells": [
  {
   "cell_type": "code",
   "execution_count": 921,
   "metadata": {},
   "outputs": [],
   "source": [
    "import numpy as np \n",
    "import pandas as pd\n",
    "import torch\n",
    "import torch.nn as nn\n",
    "from torch.utils.data import DataLoader,random_split,Dataset,Subset\n",
    "import torchvision.transforms as transforms\n",
    "import torchvision.models as models\n",
    "import matplotlib.pyplot as plt\n",
    "from sklearn.preprocessing import LabelEncoder\n",
    "import optuna"
   ]
  },
  {
   "cell_type": "code",
   "execution_count": 922,
   "metadata": {},
   "outputs": [],
   "source": [
    "cuda = True if torch.cuda.is_available() else False"
   ]
  },
  {
   "cell_type": "code",
   "execution_count": 923,
   "metadata": {},
   "outputs": [],
   "source": [
    "train=pd.read_csv(\"C:/Users/MJ/Desktop/FunctionApproximation/train.csv\")\n",
    "test=pd.read_csv(\"C:/Users/MJ/Desktop/FunctionApproximation/test.csv\")"
   ]
  },
  {
   "cell_type": "code",
   "execution_count": 924,
   "metadata": {},
   "outputs": [],
   "source": [
    "class FADataset(Dataset):\n",
    "    def __init__(self, data,train=True):\n",
    "        super().__init__()\n",
    "        if(train):\n",
    "            self.x=data.drop(['id','y'],axis=1).values\n",
    "            self.x=torch.tensor(self.x,dtype=torch.float32)\n",
    "            self.y=torch.tensor(data['y'].values,dtype=torch.float32)\n",
    "        else:\n",
    "            self.x=data.drop(['id'],axis=1).values\n",
    "            self.x=torch.tensor(self.x,dtype=torch.float32)\n",
    "            \n",
    "    def __len__(self):\n",
    "        return len(self.x)\n",
    "\n",
    "    def __getitem__(self, idx):\n",
    "        data=self.x[idx]\n",
    "        target=self.y[idx]\n",
    "        return data,target,idx\n"
   ]
  },
  {
   "cell_type": "code",
   "execution_count": 925,
   "metadata": {},
   "outputs": [],
   "source": [
    "dataset=FADataset(train,train=True)\n",
    "trainset, validset = random_split(dataset, [0.9, 0.1])\n",
    "testset=FADataset(test,train=False)\n",
    "test_dl=DataLoader(testset,shuffle=False, batch_size=80)"
   ]
  },
  {
   "cell_type": "code",
   "execution_count": 934,
   "metadata": {},
   "outputs": [],
   "source": [
    "class MLP(nn.Module):\n",
    "    def __init__(self,params):\n",
    "        super().__init__()\n",
    "        self.model=nn.Sequential(nn.Linear(2,params['num_hidden1']),\n",
    "                                nn.Linear(params['num_hidden1'],params['num_hidden2']),\n",
    "                                nn.ReLU(True),\n",
    "                                nn.Linear(params['num_hidden2'],params['num_hidden3']),\n",
    "                                nn.ReLU(True),\n",
    "                                nn.Linear(params['num_hidden3'],params['num_hidden4']),\n",
    "                                nn.ReLU(True),\n",
    "                                nn.Linear(params['num_hidden4'],params['num_hidden5']),\n",
    "                                nn.ReLU(True),  \n",
    "                                nn.Linear(params['num_hidden5'],params['num_hidden6']),\n",
    "                                nn.Linear(params['num_hidden6'],1)\n",
    "                                )\n",
    "    def forward(self, x):\n",
    "        return self.model(x)\n"
   ]
  },
  {
   "cell_type": "code",
   "execution_count": 935,
   "metadata": {},
   "outputs": [],
   "source": [
    "def train_and_evaluate(params,model,datadl):\n",
    "\n",
    "    optimizer = getattr(torch.optim, params['optimizer'])(model.parameters(), lr= params['learning_rate'])\n",
    "    \n",
    "\n",
    "    criterion = nn.MSELoss()\n",
    "\n",
    "    losses=[]\n",
    "    num_epochs=50\n",
    "    model.train()\n",
    "    for epoch in range(num_epochs):\n",
    "        for batch,(data, target,idx) in enumerate(datadl):\n",
    "            outputs = model(data)\n",
    "            loss = criterion(outputs.reshape(-1), target.reshape(-1))\n",
    "            optimizer.zero_grad()\n",
    "            loss.backward()\n",
    "            optimizer.step()\n",
    "\n",
    "\n",
    "    model.eval()\n",
    "    losses=[]\n",
    "    for batch,(data, target,idx) in enumerate(datadl):\n",
    "        outputs = model(data)\n",
    "        loss = criterion(outputs.reshape(-1), target.reshape(-1))\n",
    "        losses.append(loss.item())\n",
    "    print(f\"loss: {sum(losses)/len(losses):>7f} \")\n",
    "    loss=sum(losses)/len(losses)\n",
    "    \n",
    "    return model,loss\n"
   ]
  },
  {
   "cell_type": "code",
   "execution_count": 947,
   "metadata": {},
   "outputs": [
    {
     "name": "stderr",
     "output_type": "stream",
     "text": [
      "\u001b[32m[I 2023-05-02 19:35:42,954]\u001b[0m A new study created in memory with name: no-name-a0c46c65-d09c-48aa-941e-0262404756c6\u001b[0m\n",
      "\u001b[32m[I 2023-05-02 19:36:03,994]\u001b[0m Trial 0 finished with value: 0.02784346676328116 and parameters: {'learning_rate': 0.0439737744752616, 'optimizer': 'SGD', 'batch_size': 80, 'num_hidden1': 445, 'num_hidden2': 590, 'num_hidden3': 471, 'num_hidden4': 328, 'num_hidden5': 518, 'num_hidden6': 248}. Best is trial 0 with value: 0.02784346676328116.\u001b[0m\n"
     ]
    },
    {
     "name": "stdout",
     "output_type": "stream",
     "text": [
      "loss: 0.027843 \n"
     ]
    },
    {
     "name": "stderr",
     "output_type": "stream",
     "text": [
      "\u001b[32m[I 2023-05-02 19:36:31,592]\u001b[0m Trial 1 finished with value: 0.17537788725816286 and parameters: {'learning_rate': 0.05861657070288599, 'optimizer': 'Adam', 'batch_size': 112, 'num_hidden1': 179, 'num_hidden2': 369, 'num_hidden3': 474, 'num_hidden4': 137, 'num_hidden5': 315, 'num_hidden6': 344}. Best is trial 0 with value: 0.02784346676328116.\u001b[0m\n"
     ]
    },
    {
     "name": "stdout",
     "output_type": "stream",
     "text": [
      "loss: 0.175378 \n"
     ]
    },
    {
     "name": "stderr",
     "output_type": "stream",
     "text": [
      "\u001b[32m[I 2023-05-02 19:37:04,340]\u001b[0m Trial 2 finished with value: 3.5431608645121258 and parameters: {'learning_rate': 0.07433492974991665, 'optimizer': 'Adam', 'batch_size': 96, 'num_hidden1': 314, 'num_hidden2': 163, 'num_hidden3': 525, 'num_hidden4': 443, 'num_hidden5': 204, 'num_hidden6': 192}. Best is trial 0 with value: 0.02784346676328116.\u001b[0m\n"
     ]
    },
    {
     "name": "stdout",
     "output_type": "stream",
     "text": [
      "loss: 3.543161 \n"
     ]
    },
    {
     "name": "stderr",
     "output_type": "stream",
     "text": [
      "\u001b[32m[I 2023-05-02 19:37:28,629]\u001b[0m Trial 3 finished with value: 0.026746348142623902 and parameters: {'learning_rate': 0.010666786246877466, 'optimizer': 'Adam', 'batch_size': 144, 'num_hidden1': 457, 'num_hidden2': 345, 'num_hidden3': 340, 'num_hidden4': 190, 'num_hidden5': 577, 'num_hidden6': 202}. Best is trial 3 with value: 0.026746348142623902.\u001b[0m\n"
     ]
    },
    {
     "name": "stdout",
     "output_type": "stream",
     "text": [
      "loss: 0.026746 \n"
     ]
    },
    {
     "name": "stderr",
     "output_type": "stream",
     "text": [
      "\u001b[32m[I 2023-05-02 19:37:39,364]\u001b[0m Trial 4 finished with value: 0.09135994546372316 and parameters: {'learning_rate': 0.029497287457972376, 'optimizer': 'SGD', 'batch_size': 256, 'num_hidden1': 336, 'num_hidden2': 594, 'num_hidden3': 438, 'num_hidden4': 389, 'num_hidden5': 140, 'num_hidden6': 147}. Best is trial 3 with value: 0.026746348142623902.\u001b[0m\n"
     ]
    },
    {
     "name": "stdout",
     "output_type": "stream",
     "text": [
      "loss: 0.091360 \n"
     ]
    },
    {
     "name": "stderr",
     "output_type": "stream",
     "text": [
      "\u001b[32m[I 2023-05-02 19:37:52,656]\u001b[0m Trial 5 finished with value: 0.11968481793999672 and parameters: {'learning_rate': 0.02491409599838631, 'optimizer': 'SGD', 'batch_size': 144, 'num_hidden1': 68, 'num_hidden2': 392, 'num_hidden3': 302, 'num_hidden4': 566, 'num_hidden5': 472, 'num_hidden6': 258}. Best is trial 3 with value: 0.026746348142623902.\u001b[0m\n"
     ]
    },
    {
     "name": "stdout",
     "output_type": "stream",
     "text": [
      "loss: 0.119685 \n"
     ]
    },
    {
     "name": "stderr",
     "output_type": "stream",
     "text": [
      "\u001b[32m[I 2023-05-02 19:38:11,529]\u001b[0m Trial 6 finished with value: 0.1453957884776883 and parameters: {'learning_rate': 0.04398875709451457, 'optimizer': 'Adam', 'batch_size': 176, 'num_hidden1': 179, 'num_hidden2': 528, 'num_hidden3': 233, 'num_hidden4': 400, 'num_hidden5': 207, 'num_hidden6': 475}. Best is trial 3 with value: 0.026746348142623902.\u001b[0m\n"
     ]
    },
    {
     "name": "stdout",
     "output_type": "stream",
     "text": [
      "loss: 0.145396 \n"
     ]
    },
    {
     "name": "stderr",
     "output_type": "stream",
     "text": [
      "\u001b[32m[I 2023-05-02 19:38:22,925]\u001b[0m Trial 7 finished with value: 0.034231927938165915 and parameters: {'learning_rate': 0.042021637691345724, 'optimizer': 'SGD', 'batch_size': 64, 'num_hidden1': 128, 'num_hidden2': 140, 'num_hidden3': 329, 'num_hidden4': 304, 'num_hidden5': 210, 'num_hidden6': 346}. Best is trial 3 with value: 0.026746348142623902.\u001b[0m\n"
     ]
    },
    {
     "name": "stdout",
     "output_type": "stream",
     "text": [
      "loss: 0.034232 \n"
     ]
    },
    {
     "name": "stderr",
     "output_type": "stream",
     "text": [
      "\u001b[32m[I 2023-05-02 19:38:31,093]\u001b[0m Trial 8 finished with value: 0.04709841956089183 and parameters: {'learning_rate': 0.05185292859248808, 'optimizer': 'SGD', 'batch_size': 176, 'num_hidden1': 497, 'num_hidden2': 411, 'num_hidden3': 110, 'num_hidden4': 321, 'num_hidden5': 119, 'num_hidden6': 398}. Best is trial 3 with value: 0.026746348142623902.\u001b[0m\n"
     ]
    },
    {
     "name": "stdout",
     "output_type": "stream",
     "text": [
      "loss: 0.047098 \n"
     ]
    },
    {
     "name": "stderr",
     "output_type": "stream",
     "text": [
      "\u001b[32m[I 2023-05-02 19:38:43,251]\u001b[0m Trial 9 finished with value: 0.09815003542285977 and parameters: {'learning_rate': 0.028012478281144625, 'optimizer': 'SGD', 'batch_size': 224, 'num_hidden1': 80, 'num_hidden2': 472, 'num_hidden3': 256, 'num_hidden4': 568, 'num_hidden5': 481, 'num_hidden6': 426}. Best is trial 3 with value: 0.026746348142623902.\u001b[0m\n"
     ]
    },
    {
     "name": "stdout",
     "output_type": "stream",
     "text": [
      "loss: 0.098150 \n"
     ]
    },
    {
     "name": "stderr",
     "output_type": "stream",
     "text": [
      "\u001b[32m[I 2023-05-02 19:38:50,719]\u001b[0m Trial 10 finished with value: 0.02349743425198223 and parameters: {'learning_rate': 0.0008280625643997466, 'optimizer': 'Adam', 'batch_size': 320, 'num_hidden1': 387, 'num_hidden2': 262, 'num_hidden3': 79, 'num_hidden4': 132, 'num_hidden5': 592, 'num_hidden6': 70}. Best is trial 10 with value: 0.02349743425198223.\u001b[0m\n"
     ]
    },
    {
     "name": "stdout",
     "output_type": "stream",
     "text": [
      "loss: 0.023497 \n"
     ]
    },
    {
     "name": "stderr",
     "output_type": "stream",
     "text": [
      "\u001b[32m[I 2023-05-02 19:38:57,893]\u001b[0m Trial 11 finished with value: 0.022742727609432262 and parameters: {'learning_rate': 0.0009657832255545234, 'optimizer': 'Adam', 'batch_size': 320, 'num_hidden1': 398, 'num_hidden2': 243, 'num_hidden3': 60, 'num_hidden4': 85, 'num_hidden5': 592, 'num_hidden6': 62}. Best is trial 11 with value: 0.022742727609432262.\u001b[0m\n"
     ]
    },
    {
     "name": "stdout",
     "output_type": "stream",
     "text": [
      "loss: 0.022743 \n"
     ]
    },
    {
     "name": "stderr",
     "output_type": "stream",
     "text": [
      "\u001b[32m[I 2023-05-02 19:39:04,942]\u001b[0m Trial 12 finished with value: 0.023571457092960674 and parameters: {'learning_rate': 0.0017529187519086044, 'optimizer': 'Adam', 'batch_size': 304, 'num_hidden1': 381, 'num_hidden2': 245, 'num_hidden3': 82, 'num_hidden4': 50, 'num_hidden5': 600, 'num_hidden6': 58}. Best is trial 11 with value: 0.022742727609432262.\u001b[0m\n"
     ]
    },
    {
     "name": "stdout",
     "output_type": "stream",
     "text": [
      "loss: 0.023571 \n"
     ]
    },
    {
     "name": "stderr",
     "output_type": "stream",
     "text": [
      "\u001b[32m[I 2023-05-02 19:39:11,852]\u001b[0m Trial 13 finished with value: 0.022901651813932087 and parameters: {'learning_rate': 0.0002904179642266965, 'optimizer': 'Adam', 'batch_size': 320, 'num_hidden1': 383, 'num_hidden2': 250, 'num_hidden3': 158, 'num_hidden4': 58, 'num_hidden5': 369, 'num_hidden6': 57}. Best is trial 11 with value: 0.022742727609432262.\u001b[0m\n"
     ]
    },
    {
     "name": "stdout",
     "output_type": "stream",
     "text": [
      "loss: 0.022902 \n"
     ]
    },
    {
     "name": "stderr",
     "output_type": "stream",
     "text": [
      "\u001b[32m[I 2023-05-02 19:39:22,800]\u001b[0m Trial 14 finished with value: 0.1298086036134649 and parameters: {'learning_rate': 0.015249845437742663, 'optimizer': 'Adam', 'batch_size': 272, 'num_hidden1': 258, 'num_hidden2': 232, 'num_hidden3': 176, 'num_hidden4': 79, 'num_hidden5': 406, 'num_hidden6': 594}. Best is trial 11 with value: 0.022742727609432262.\u001b[0m\n"
     ]
    },
    {
     "name": "stdout",
     "output_type": "stream",
     "text": [
      "loss: 0.129809 \n"
     ]
    },
    {
     "name": "stderr",
     "output_type": "stream",
     "text": [
      "\u001b[32m[I 2023-05-02 19:39:31,897]\u001b[0m Trial 15 finished with value: 0.028333533182740213 and parameters: {'learning_rate': 0.015427484610682978, 'optimizer': 'Adam', 'batch_size': 288, 'num_hidden1': 260, 'num_hidden2': 295, 'num_hidden3': 166, 'num_hidden4': 217, 'num_hidden5': 357, 'num_hidden6': 80}. Best is trial 11 with value: 0.022742727609432262.\u001b[0m\n"
     ]
    },
    {
     "name": "stdout",
     "output_type": "stream",
     "text": [
      "loss: 0.028334 \n"
     ]
    },
    {
     "name": "stderr",
     "output_type": "stream",
     "text": [
      "\u001b[32m[I 2023-05-02 19:39:40,617]\u001b[0m Trial 16 finished with value: 0.14462321003278097 and parameters: {'learning_rate': 0.09644333828189593, 'optimizer': 'Adam', 'batch_size': 240, 'num_hidden1': 391, 'num_hidden2': 83, 'num_hidden3': 157, 'num_hidden4': 223, 'num_hidden5': 311, 'num_hidden6': 121}. Best is trial 11 with value: 0.022742727609432262.\u001b[0m\n"
     ]
    },
    {
     "name": "stdout",
     "output_type": "stream",
     "text": [
      "loss: 0.144623 \n"
     ]
    },
    {
     "name": "stderr",
     "output_type": "stream",
     "text": [
      "\u001b[32m[I 2023-05-02 19:39:50,092]\u001b[0m Trial 17 finished with value: 0.027318532214216564 and parameters: {'learning_rate': 0.0024896785656097, 'optimizer': 'Adam', 'batch_size': 320, 'num_hidden1': 326, 'num_hidden2': 182, 'num_hidden3': 599, 'num_hidden4': 114, 'num_hidden5': 409, 'num_hidden6': 136}. Best is trial 11 with value: 0.022742727609432262.\u001b[0m\n"
     ]
    },
    {
     "name": "stdout",
     "output_type": "stream",
     "text": [
      "loss: 0.027319 \n"
     ]
    },
    {
     "name": "stderr",
     "output_type": "stream",
     "text": [
      "\u001b[32m[I 2023-05-02 19:40:00,073]\u001b[0m Trial 18 finished with value: 0.12441698419196265 and parameters: {'learning_rate': 0.01377393877673228, 'optimizer': 'Adam', 'batch_size': 208, 'num_hidden1': 432, 'num_hidden2': 54, 'num_hidden3': 128, 'num_hidden4': 177, 'num_hidden5': 281, 'num_hidden6': 272}. Best is trial 11 with value: 0.022742727609432262.\u001b[0m\n"
     ]
    },
    {
     "name": "stdout",
     "output_type": "stream",
     "text": [
      "loss: 0.124417 \n"
     ]
    },
    {
     "name": "stderr",
     "output_type": "stream",
     "text": [
      "\u001b[32m[I 2023-05-02 19:40:08,174]\u001b[0m Trial 19 finished with value: 0.05307540325102983 and parameters: {'learning_rate': 0.023087405484645527, 'optimizer': 'Adam', 'batch_size': 272, 'num_hidden1': 489, 'num_hidden2': 307, 'num_hidden3': 52, 'num_hidden4': 255, 'num_hidden5': 70, 'num_hidden6': 194}. Best is trial 11 with value: 0.022742727609432262.\u001b[0m\n"
     ]
    },
    {
     "name": "stdout",
     "output_type": "stream",
     "text": [
      "loss: 0.053075 \n"
     ]
    },
    {
     "name": "stderr",
     "output_type": "stream",
     "text": [
      "\u001b[32m[I 2023-05-02 19:40:19,528]\u001b[0m Trial 20 finished with value: 0.03531818069517612 and parameters: {'learning_rate': 0.008112709169241856, 'optimizer': 'Adam', 'batch_size': 288, 'num_hidden1': 286, 'num_hidden2': 206, 'num_hidden3': 218, 'num_hidden4': 60, 'num_hidden5': 510, 'num_hidden6': 528}. Best is trial 11 with value: 0.022742727609432262.\u001b[0m\n"
     ]
    },
    {
     "name": "stdout",
     "output_type": "stream",
     "text": [
      "loss: 0.035318 \n"
     ]
    },
    {
     "name": "stderr",
     "output_type": "stream",
     "text": [
      "\u001b[32m[I 2023-05-02 19:40:27,177]\u001b[0m Trial 21 finished with value: 0.02618133163322573 and parameters: {'learning_rate': 0.00154249475239473, 'optimizer': 'Adam', 'batch_size': 320, 'num_hidden1': 383, 'num_hidden2': 281, 'num_hidden3': 55, 'num_hidden4': 130, 'num_hidden5': 561, 'num_hidden6': 87}. Best is trial 11 with value: 0.022742727609432262.\u001b[0m\n"
     ]
    },
    {
     "name": "stdout",
     "output_type": "stream",
     "text": [
      "loss: 0.026181 \n"
     ]
    },
    {
     "name": "stderr",
     "output_type": "stream",
     "text": [
      "\u001b[32m[I 2023-05-02 19:40:35,089]\u001b[0m Trial 22 finished with value: 0.025976720711459286 and parameters: {'learning_rate': 0.002548935426718394, 'optimizer': 'Adam', 'batch_size': 320, 'num_hidden1': 405, 'num_hidden2': 255, 'num_hidden3': 121, 'num_hidden4': 108, 'num_hidden5': 445, 'num_hidden6': 59}. Best is trial 11 with value: 0.022742727609432262.\u001b[0m\n"
     ]
    },
    {
     "name": "stdout",
     "output_type": "stream",
     "text": [
      "loss: 0.025977 \n"
     ]
    },
    {
     "name": "stderr",
     "output_type": "stream",
     "text": [
      "\u001b[32m[I 2023-05-02 19:40:43,171]\u001b[0m Trial 23 finished with value: 0.039149428308010104 and parameters: {'learning_rate': 0.01978909906221913, 'optimizer': 'Adam', 'batch_size': 288, 'num_hidden1': 354, 'num_hidden2': 120, 'num_hidden3': 97, 'num_hidden4': 158, 'num_hidden5': 535, 'num_hidden6': 114}. Best is trial 11 with value: 0.022742727609432262.\u001b[0m\n"
     ]
    },
    {
     "name": "stdout",
     "output_type": "stream",
     "text": [
      "loss: 0.039149 \n"
     ]
    },
    {
     "name": "stderr",
     "output_type": "stream",
     "text": [
      "\u001b[32m[I 2023-05-02 19:40:53,651]\u001b[0m Trial 24 finished with value: 0.039694039215301645 and parameters: {'learning_rate': 0.00905384428854343, 'optimizer': 'Adam', 'batch_size': 256, 'num_hidden1': 411, 'num_hidden2': 215, 'num_hidden3': 183, 'num_hidden4': 93, 'num_hidden5': 600, 'num_hidden6': 167}. Best is trial 11 with value: 0.022742727609432262.\u001b[0m\n"
     ]
    },
    {
     "name": "stdout",
     "output_type": "stream",
     "text": [
      "loss: 0.039694 \n"
     ]
    },
    {
     "name": "stderr",
     "output_type": "stream",
     "text": [
      "\u001b[32m[I 2023-05-02 19:41:04,309]\u001b[0m Trial 25 finished with value: 0.029181615527098376 and parameters: {'learning_rate': 0.00023406033580505858, 'optimizer': 'Adam', 'batch_size': 304, 'num_hidden1': 364, 'num_hidden2': 340, 'num_hidden3': 282, 'num_hidden4': 245, 'num_hidden5': 373, 'num_hidden6': 54}. Best is trial 11 with value: 0.022742727609432262.\u001b[0m\n"
     ]
    },
    {
     "name": "stdout",
     "output_type": "stream",
     "text": [
      "loss: 0.029182 \n"
     ]
    },
    {
     "name": "stderr",
     "output_type": "stream",
     "text": [
      "\u001b[32m[I 2023-05-02 19:41:12,367]\u001b[0m Trial 26 finished with value: 0.05134707575906878 and parameters: {'learning_rate': 0.03192217015148486, 'optimizer': 'Adam', 'batch_size': 320, 'num_hidden1': 222, 'num_hidden2': 267, 'num_hidden3': 58, 'num_hidden4': 165, 'num_hidden5': 544, 'num_hidden6': 110}. Best is trial 11 with value: 0.022742727609432262.\u001b[0m\n"
     ]
    },
    {
     "name": "stdout",
     "output_type": "stream",
     "text": [
      "loss: 0.051347 \n"
     ]
    },
    {
     "name": "stderr",
     "output_type": "stream",
     "text": [
      "\u001b[32m[I 2023-05-02 19:41:23,221]\u001b[0m Trial 27 finished with value: 0.05399983466185372 and parameters: {'learning_rate': 0.010254677728098183, 'optimizer': 'Adam', 'batch_size': 256, 'num_hidden1': 300, 'num_hidden2': 437, 'num_hidden3': 138, 'num_hidden4': 56, 'num_hidden5': 457, 'num_hidden6': 225}. Best is trial 11 with value: 0.022742727609432262.\u001b[0m\n"
     ]
    },
    {
     "name": "stdout",
     "output_type": "stream",
     "text": [
      "loss: 0.054000 \n"
     ]
    },
    {
     "name": "stderr",
     "output_type": "stream",
     "text": [
      "\u001b[32m[I 2023-05-02 19:41:32,791]\u001b[0m Trial 28 finished with value: 0.14545544112722078 and parameters: {'learning_rate': 0.022261712534747437, 'optimizer': 'Adam', 'batch_size': 304, 'num_hidden1': 429, 'num_hidden2': 191, 'num_hidden3': 383, 'num_hidden4': 99, 'num_hidden5': 278, 'num_hidden6': 288}. Best is trial 11 with value: 0.022742727609432262.\u001b[0m\n"
     ]
    },
    {
     "name": "stdout",
     "output_type": "stream",
     "text": [
      "loss: 0.145455 \n"
     ]
    },
    {
     "name": "stderr",
     "output_type": "stream",
     "text": [
      "\u001b[32m[I 2023-05-02 19:41:40,554]\u001b[0m Trial 29 finished with value: 0.10375757763783137 and parameters: {'learning_rate': 0.01809282833988313, 'optimizer': 'SGD', 'batch_size': 224, 'num_hidden1': 457, 'num_hidden2': 124, 'num_hidden3': 209, 'num_hidden4': 291, 'num_hidden5': 503, 'num_hidden6': 163}. Best is trial 11 with value: 0.022742727609432262.\u001b[0m\n"
     ]
    },
    {
     "name": "stdout",
     "output_type": "stream",
     "text": [
      "loss: 0.103758 \n"
     ]
    }
   ],
   "source": [
    "\n",
    "def objective(trial):\n",
    "        \n",
    "        params = {\n",
    "\n",
    "            'learning_rate': trial.suggest_float('learning_rate', 1e-5, 1e-1),\n",
    "            'optimizer': trial.suggest_categorical(\"optimizer\", [\"Adam\", \"SGD\"]),\n",
    "            'batch_size': trial.suggest_int(\"batch_size\", 64, 320,step=16),\n",
    "            'num_hidden1': trial.suggest_int(\"num_hidden1\", 50, 500),\n",
    "            'num_hidden2': trial.suggest_int(\"num_hidden2\", 50, 600),\n",
    "            'num_hidden3': trial.suggest_int(\"num_hidden3\", 50, 600),\n",
    "            'num_hidden4': trial.suggest_int(\"num_hidden4\", 50, 600),\n",
    "            'num_hidden5': trial.suggest_int(\"num_hidden5\", 50, 600),\n",
    "            'num_hidden6': trial.suggest_int(\"num_hidden6\", 50, 600)\n",
    "            }\n",
    "        \n",
    "\n",
    "        train_dl= DataLoader(trainset, shuffle=True, batch_size=params['batch_size'])\n",
    "        valid_dl= DataLoader(validset, shuffle=True, batch_size=params['batch_size'])\n",
    "\n",
    "\n",
    "        model= MLP(params)\n",
    "        best_model,loss=train_and_evaluate(params,model,train_dl)\n",
    "      \n",
    "        torch.save(best_model.state_dict(), f\"model_0_trial_{trial.number}.pth\")\n",
    "    \n",
    "        return loss\n",
    "    \n",
    "\n",
    "study = optuna.create_study(direction=\"minimize\", sampler=optuna.samplers.TPESampler())\n",
    "study.optimize(objective, n_trials=30)"
   ]
  },
  {
   "cell_type": "code",
   "execution_count": 948,
   "metadata": {},
   "outputs": [
    {
     "name": "stdout",
     "output_type": "stream",
     "text": [
      "loss: 0.024060 \n"
     ]
    }
   ],
   "source": [
    "model_0= MLP(study.best_params)\n",
    "model_0.load_state_dict(torch.load(\"C:/Users/MJ/Desktop/FunctionApproximation/model_0_trial_11.pth\"))\n",
    "model_0.eval()\n",
    "losses=[]\n",
    "for batch,(data, target,idx) in enumerate(valid_dl):\n",
    "    outputs = model_0(data)\n",
    "    loss = criterion(outputs.reshape(-1), target.reshape(-1))\n",
    "    losses.append(loss.item())\n",
    "print(f\"loss: {sum(losses)/len(losses):>7f} \")\n",
    "loss=sum(losses)/len(losses)\n",
    "\n"
   ]
  },
  {
   "cell_type": "code",
   "execution_count": 950,
   "metadata": {},
   "outputs": [
    {
     "name": "stdout",
     "output_type": "stream",
     "text": [
      "loss: 0.023443 \n"
     ]
    }
   ],
   "source": [
    "second_params={'learning_rate': 0.0008280625643997466, \n",
    "                'optimizer': 'Adam', \n",
    "                'batch_size': 320, \n",
    "                'num_hidden1': 387, \n",
    "                'num_hidden2': 262, \n",
    "                'num_hidden3': 79, \n",
    "                'num_hidden4': 132, \n",
    "                'num_hidden5': 592, \n",
    "                'num_hidden6': 70}\n",
    "\n",
    "model_1= MLP(second_params)\n",
    "model_1.load_state_dict(torch.load(\"C:/Users/MJ/Desktop/FunctionApproximation/model_0_trial_10.pth\"))\n",
    "model_1.eval()\n",
    "losses=[]\n",
    "for batch,(data, target,idx) in enumerate(valid_dl):\n",
    "    outputs = model_1(data)\n",
    "    loss = criterion(outputs.reshape(-1), target.reshape(-1))\n",
    "    losses.append(loss.item())\n",
    "print(f\"loss: {sum(losses)/len(losses):>7f} \")\n",
    "loss=sum(losses)/len(losses)\n"
   ]
  },
  {
   "cell_type": "code",
   "execution_count": 956,
   "metadata": {},
   "outputs": [],
   "source": [
    "def objective_en(trial):\n",
    "    a=trial.suggest_float('a',0, 10)\n",
    "    b=trial.suggest_float('b',0, 10)\n",
    "\n",
    "\n",
    "    losses=[]\n",
    "    for batch,(data, target,idx) in enumerate(valid_dl):\n",
    "        outputs = (a*model_0(data)+b*model_1(data))/(a+b)\n",
    "        loss = criterion(outputs.reshape(-1), target.reshape(-1))\n",
    "        losses.append(loss.item())\n",
    "    # print(f\"loss: {sum(losses)/len(losses):>7f} \")\n",
    "    loss=sum(losses)/len(losses)\n",
    "\n",
    "\n",
    "\n",
    "    return loss\n",
    "\n",
    "study_en = optuna.create_study(direction='minimize')\n",
    "\n",
    "study_en.optimize(objective_en, n_trials=25)"
   ]
  },
  {
   "cell_type": "code",
   "execution_count": 959,
   "metadata": {},
   "outputs": [],
   "source": [
    "a=study_en.best_params['a']\n",
    "b=study_en.best_params['b']"
   ]
  },
  {
   "cell_type": "code",
   "execution_count": 960,
   "metadata": {},
   "outputs": [],
   "source": [
    "model_0.eval()\n",
    "output=[]\n",
    "for i in range(len(testset)):\n",
    "    output.append(((a*model_0(testset.x[i])+b*model_1(testset.x[i]))/(a+b)).item())\n",
    "\n",
    "sample_submission=pd.read_csv(\"C:/Users/MJ/Desktop/FunctionApproximation/sample_submission.csv\")\n",
    "sample_submission['y']=output\n",
    "sample_submission.to_csv(\"C:/Users/MJ/Desktop/sample_submission.csv\",index=False)"
   ]
  },
  {
   "cell_type": "code",
   "execution_count": 939,
   "metadata": {},
   "outputs": [
    {
     "name": "stdout",
     "output_type": "stream",
     "text": [
      "loss: 0.026304 \n"
     ]
    }
   ],
   "source": [
    "model_0.eval()\n",
    "\n",
    "for batch,(data, target,idx) in enumerate(valid_dl):\n",
    "    outputs = model_0(data)\n",
    "    loss = criterion(outputs.reshape(-1), target.reshape(-1))\n",
    "print(f\"loss: {loss.item():>7f} \")"
   ]
  },
  {
   "cell_type": "code",
   "execution_count": 940,
   "metadata": {},
   "outputs": [],
   "source": [
    "model_0.eval()\n",
    "indexF=[]\n",
    "indexT=[]\n",
    "for i in range(len(trainset)):\n",
    "    outputs = model_0(trainset.dataset.x[i])\n",
    "    loss = criterion(outputs,trainset.dataset.y[i].reshape(-1))\n",
    "    if(loss>0.05):\n",
    "        indexF.append(i)\n",
    "    else:\n",
    "        indexT.append(i)"
   ]
  },
  {
   "cell_type": "code",
   "execution_count": 941,
   "metadata": {},
   "outputs": [],
   "source": [
    "Fdataset=torch.utils.data.Subset(trainset, indexF)\n",
    "Tdataset=torch.utils.data.Subset(trainset, indexT)\n",
    "Fdl=DataLoader(Fdataset, shuffle=True, batch_size=batch_size)\n",
    "Tdl=DataLoader(Tdataset, shuffle=True, batch_size=batch_size)"
   ]
  },
  {
   "cell_type": "code",
   "execution_count": 942,
   "metadata": {},
   "outputs": [
    {
     "data": {
      "text/plain": [
       "950"
      ]
     },
     "execution_count": 942,
     "metadata": {},
     "output_type": "execute_result"
    }
   ],
   "source": [
    "len(Fdl.dataset)"
   ]
  },
  {
   "cell_type": "code",
   "execution_count": 944,
   "metadata": {},
   "outputs": [
    {
     "name": "stderr",
     "output_type": "stream",
     "text": [
      "\u001b[32m[I 2023-05-02 19:01:29,467]\u001b[0m A new study created in memory with name: no-name-87e75915-82ad-4ea8-b747-7b1489600129\u001b[0m\n",
      "\u001b[32m[I 2023-05-02 19:01:43,184]\u001b[0m Trial 0 finished with value: 0.058144922123143546 and parameters: {'learning_rate': 0.05374124154482045, 'optimizer': 'SGD', 'batch_size': 192, 'num_hidden1': 214, 'num_hidden2': 582, 'num_hidden3': 578, 'num_hidden4': 205, 'num_hidden5': 577, 'num_hidden6': 84, 'threshold': 0.42203550238953014}. Best is trial 0 with value: 0.058144922123143546.\u001b[0m\n"
     ]
    },
    {
     "name": "stdout",
     "output_type": "stream",
     "text": [
      "loss: 0.058145 \n"
     ]
    },
    {
     "name": "stderr",
     "output_type": "stream",
     "text": [
      "\u001b[32m[I 2023-05-02 19:02:03,325]\u001b[0m Trial 1 finished with value: 0.1733101440424269 and parameters: {'learning_rate': 0.05947035732137346, 'optimizer': 'Adam', 'batch_size': 160, 'num_hidden1': 270, 'num_hidden2': 522, 'num_hidden3': 475, 'num_hidden4': 52, 'num_hidden5': 228, 'num_hidden6': 197, 'threshold': 0.09424444331087886}. Best is trial 0 with value: 0.058144922123143546.\u001b[0m\n"
     ]
    },
    {
     "name": "stdout",
     "output_type": "stream",
     "text": [
      "loss: 0.173310 \n"
     ]
    },
    {
     "name": "stderr",
     "output_type": "stream",
     "text": [
      "\u001b[32m[I 2023-05-02 19:02:27,387]\u001b[0m Trial 2 finished with value: 0.03079753652215004 and parameters: {'learning_rate': 0.005117201830603615, 'optimizer': 'Adam', 'batch_size': 144, 'num_hidden1': 159, 'num_hidden2': 595, 'num_hidden3': 297, 'num_hidden4': 234, 'num_hidden5': 354, 'num_hidden6': 372, 'threshold': 0.4924604709576808}. Best is trial 2 with value: 0.03079753652215004.\u001b[0m\n"
     ]
    },
    {
     "name": "stdout",
     "output_type": "stream",
     "text": [
      "loss: 0.030798 \n"
     ]
    },
    {
     "name": "stderr",
     "output_type": "stream",
     "text": [
      "\u001b[32m[I 2023-05-02 19:02:44,603]\u001b[0m Trial 3 finished with value: 0.1467100203037262 and parameters: {'learning_rate': 0.060538423453840556, 'optimizer': 'Adam', 'batch_size': 240, 'num_hidden1': 334, 'num_hidden2': 366, 'num_hidden3': 420, 'num_hidden4': 400, 'num_hidden5': 211, 'num_hidden6': 405, 'threshold': 0.2602707499586872}. Best is trial 2 with value: 0.03079753652215004.\u001b[0m\n"
     ]
    },
    {
     "name": "stdout",
     "output_type": "stream",
     "text": [
      "loss: 0.146710 \n"
     ]
    },
    {
     "name": "stderr",
     "output_type": "stream",
     "text": [
      "\u001b[32m[I 2023-05-02 19:02:52,508]\u001b[0m Trial 4 finished with value: 0.08774252282455564 and parameters: {'learning_rate': 0.03971797744056713, 'optimizer': 'SGD', 'batch_size': 160, 'num_hidden1': 209, 'num_hidden2': 93, 'num_hidden3': 251, 'num_hidden4': 507, 'num_hidden5': 103, 'num_hidden6': 393, 'threshold': 0.05412410192535122}. Best is trial 2 with value: 0.03079753652215004.\u001b[0m\n"
     ]
    },
    {
     "name": "stdout",
     "output_type": "stream",
     "text": [
      "loss: 0.087743 \n"
     ]
    },
    {
     "name": "stderr",
     "output_type": "stream",
     "text": [
      "\u001b[32m[I 2023-05-02 19:03:07,400]\u001b[0m Trial 5 finished with value: 0.09941448690369725 and parameters: {'learning_rate': 0.009793496797513578, 'optimizer': 'Adam', 'batch_size': 224, 'num_hidden1': 67, 'num_hidden2': 319, 'num_hidden3': 379, 'num_hidden4': 161, 'num_hidden5': 570, 'num_hidden6': 197, 'threshold': 0.10562609308171526}. Best is trial 2 with value: 0.03079753652215004.\u001b[0m\n"
     ]
    },
    {
     "name": "stdout",
     "output_type": "stream",
     "text": [
      "loss: 0.099414 \n"
     ]
    },
    {
     "name": "stderr",
     "output_type": "stream",
     "text": [
      "\u001b[32m[I 2023-05-02 19:03:15,714]\u001b[0m Trial 6 finished with value: 0.10504870270860606 and parameters: {'learning_rate': 0.01983782426514191, 'optimizer': 'SGD', 'batch_size': 176, 'num_hidden1': 499, 'num_hidden2': 276, 'num_hidden3': 300, 'num_hidden4': 197, 'num_hidden5': 450, 'num_hidden6': 371, 'threshold': 0.023622300446985274}. Best is trial 2 with value: 0.03079753652215004.\u001b[0m\n"
     ]
    },
    {
     "name": "stdout",
     "output_type": "stream",
     "text": [
      "loss: 0.105049 \n"
     ]
    },
    {
     "name": "stderr",
     "output_type": "stream",
     "text": [
      "\u001b[32m[I 2023-05-02 19:03:25,181]\u001b[0m Trial 7 finished with value: 0.14331242108815595 and parameters: {'learning_rate': 0.0019163238160893933, 'optimizer': 'SGD', 'batch_size': 192, 'num_hidden1': 140, 'num_hidden2': 408, 'num_hidden3': 337, 'num_hidden4': 480, 'num_hidden5': 54, 'num_hidden6': 567, 'threshold': 0.37329557059376145}. Best is trial 2 with value: 0.03079753652215004.\u001b[0m\n"
     ]
    },
    {
     "name": "stdout",
     "output_type": "stream",
     "text": [
      "loss: 0.143312 \n"
     ]
    },
    {
     "name": "stderr",
     "output_type": "stream",
     "text": [
      "\u001b[32m[I 2023-05-02 19:03:39,254]\u001b[0m Trial 8 finished with value: 11.287990901781166 and parameters: {'learning_rate': 0.09713821532354706, 'optimizer': 'Adam', 'batch_size': 320, 'num_hidden1': 261, 'num_hidden2': 440, 'num_hidden3': 557, 'num_hidden4': 219, 'num_hidden5': 240, 'num_hidden6': 587, 'threshold': 0.28974672364421755}. Best is trial 2 with value: 0.03079753652215004.\u001b[0m\n"
     ]
    },
    {
     "name": "stdout",
     "output_type": "stream",
     "text": [
      "loss: 11.287991 \n"
     ]
    },
    {
     "name": "stderr",
     "output_type": "stream",
     "text": [
      "\u001b[32m[I 2023-05-02 19:04:16,283]\u001b[0m Trial 9 finished with value: 0.18183753276998932 and parameters: {'learning_rate': 0.04767988816531134, 'optimizer': 'Adam', 'batch_size': 96, 'num_hidden1': 460, 'num_hidden2': 375, 'num_hidden3': 499, 'num_hidden4': 291, 'num_hidden5': 303, 'num_hidden6': 314, 'threshold': 0.13502810110534955}. Best is trial 2 with value: 0.03079753652215004.\u001b[0m\n"
     ]
    },
    {
     "name": "stdout",
     "output_type": "stream",
     "text": [
      "loss: 0.181838 \n"
     ]
    },
    {
     "name": "stderr",
     "output_type": "stream",
     "text": [
      "\u001b[32m[I 2023-05-02 19:05:12,590]\u001b[0m Trial 10 finished with value: 0.1455365766202454 and parameters: {'learning_rate': 0.024073177527590788, 'optimizer': 'Adam', 'batch_size': 64, 'num_hidden1': 370, 'num_hidden2': 176, 'num_hidden3': 123, 'num_hidden4': 598, 'num_hidden5': 441, 'num_hidden6': 481, 'threshold': 0.49298296864377206}. Best is trial 2 with value: 0.03079753652215004.\u001b[0m\n"
     ]
    },
    {
     "name": "stdout",
     "output_type": "stream",
     "text": [
      "loss: 0.145537 \n"
     ]
    },
    {
     "name": "stderr",
     "output_type": "stream",
     "text": [
      "\u001b[32m[I 2023-05-02 19:05:25,118]\u001b[0m Trial 11 finished with value: 0.07715049993533354 and parameters: {'learning_rate': 0.03318301636405598, 'optimizer': 'SGD', 'batch_size': 112, 'num_hidden1': 151, 'num_hidden2': 595, 'num_hidden3': 200, 'num_hidden4': 310, 'num_hidden5': 597, 'num_hidden6': 75, 'threshold': 0.4940803980752814}. Best is trial 2 with value: 0.03079753652215004.\u001b[0m\n"
     ]
    },
    {
     "name": "stdout",
     "output_type": "stream",
     "text": [
      "loss: 0.077150 \n"
     ]
    },
    {
     "name": "stderr",
     "output_type": "stream",
     "text": [
      "\u001b[32m[I 2023-05-02 19:05:35,611]\u001b[0m Trial 12 finished with value: 0.1440591773596303 and parameters: {'learning_rate': 0.0032618228059580544, 'optimizer': 'SGD', 'batch_size': 256, 'num_hidden1': 53, 'num_hidden2': 575, 'num_hidden3': 584, 'num_hidden4': 105, 'num_hidden5': 458, 'num_hidden6': 52, 'threshold': 0.4260850672276222}. Best is trial 2 with value: 0.03079753652215004.\u001b[0m\n"
     ]
    },
    {
     "name": "stdout",
     "output_type": "stream",
     "text": [
      "loss: 0.144059 \n"
     ]
    },
    {
     "name": "stderr",
     "output_type": "stream",
     "text": [
      "\u001b[32m[I 2023-05-02 19:05:46,003]\u001b[0m Trial 13 finished with value: 0.042972141255935035 and parameters: {'learning_rate': 0.06009169104319036, 'optimizer': 'SGD', 'batch_size': 128, 'num_hidden1': 167, 'num_hidden2': 501, 'num_hidden3': 63, 'num_hidden4': 256, 'num_hidden5': 373, 'num_hidden6': 268, 'threshold': 0.37671821633075453}. Best is trial 2 with value: 0.03079753652215004.\u001b[0m\n"
     ]
    },
    {
     "name": "stdout",
     "output_type": "stream",
     "text": [
      "loss: 0.042972 \n"
     ]
    },
    {
     "name": "stderr",
     "output_type": "stream",
     "text": [
      "\u001b[32m[I 2023-05-02 19:05:56,691]\u001b[0m Trial 14 finished with value: 0.03657748674352964 and parameters: {'learning_rate': 0.07275517894976827, 'optimizer': 'SGD', 'batch_size': 128, 'num_hidden1': 124, 'num_hidden2': 490, 'num_hidden3': 87, 'num_hidden4': 372, 'num_hidden5': 359, 'num_hidden6': 241, 'threshold': 0.3401045182021872}. Best is trial 2 with value: 0.03079753652215004.\u001b[0m\n"
     ]
    },
    {
     "name": "stdout",
     "output_type": "stream",
     "text": [
      "loss: 0.036577 \n"
     ]
    },
    {
     "name": "stderr",
     "output_type": "stream",
     "text": [
      "\u001b[32m[I 2023-05-02 19:06:40,760]\u001b[0m Trial 15 finished with value: 0.1454380880546781 and parameters: {'learning_rate': 0.07622085568647886, 'optimizer': 'Adam', 'batch_size': 64, 'num_hidden1': 109, 'num_hidden2': 480, 'num_hidden3': 174, 'num_hidden4': 392, 'num_hidden5': 346, 'num_hidden6': 193, 'threshold': 0.32188775382521095}. Best is trial 2 with value: 0.03079753652215004.\u001b[0m\n"
     ]
    },
    {
     "name": "stdout",
     "output_type": "stream",
     "text": [
      "loss: 0.145438 \n"
     ]
    },
    {
     "name": "stderr",
     "output_type": "stream",
     "text": [
      "\u001b[32m[I 2023-05-02 19:07:05,114]\u001b[0m Trial 16 finished with value: 0.15209771901891941 and parameters: {'learning_rate': 0.07251649809212699, 'optimizer': 'Adam', 'batch_size': 128, 'num_hidden1': 203, 'num_hidden2': 253, 'num_hidden3': 69, 'num_hidden4': 382, 'num_hidden5': 398, 'num_hidden6': 468, 'threshold': 0.22796213245211472}. Best is trial 2 with value: 0.03079753652215004.\u001b[0m\n"
     ]
    },
    {
     "name": "stdout",
     "output_type": "stream",
     "text": [
      "loss: 0.152098 \n"
     ]
    },
    {
     "name": "stderr",
     "output_type": "stream",
     "text": [
      "\u001b[32m[I 2023-05-02 19:07:16,066]\u001b[0m Trial 17 finished with value: 0.08826584592461587 and parameters: {'learning_rate': 0.020403800944439707, 'optimizer': 'SGD', 'batch_size': 144, 'num_hidden1': 108, 'num_hidden2': 538, 'num_hidden3': 252, 'num_hidden4': 359, 'num_hidden5': 288, 'num_hidden6': 270, 'threshold': 0.19312846963745744}. Best is trial 2 with value: 0.03079753652215004.\u001b[0m\n"
     ]
    },
    {
     "name": "stdout",
     "output_type": "stream",
     "text": [
      "loss: 0.088266 \n"
     ]
    },
    {
     "name": "stderr",
     "output_type": "stream",
     "text": [
      "\u001b[32m[I 2023-05-02 19:07:30,358]\u001b[0m Trial 18 finished with value: 0.049445813819766045 and parameters: {'learning_rate': 0.03539064990970828, 'optimizer': 'SGD', 'batch_size': 96, 'num_hidden1': 324, 'num_hidden2': 451, 'num_hidden3': 183, 'num_hidden4': 463, 'num_hidden5': 517, 'num_hidden6': 150, 'threshold': 0.34323417832298775}. Best is trial 2 with value: 0.03079753652215004.\u001b[0m\n"
     ]
    },
    {
     "name": "stdout",
     "output_type": "stream",
     "text": [
      "loss: 0.049446 \n"
     ]
    },
    {
     "name": "stderr",
     "output_type": "stream",
     "text": [
      "\u001b[32m[I 2023-05-02 19:07:40,253]\u001b[0m Trial 19 finished with value: 0.031620693653821946 and parameters: {'learning_rate': 0.0118837417054935, 'optimizer': 'Adam', 'batch_size': 288, 'num_hidden1': 97, 'num_hidden2': 530, 'num_hidden3': 118, 'num_hidden4': 147, 'num_hidden5': 165, 'num_hidden6': 298, 'threshold': 0.45672050232532224}. Best is trial 2 with value: 0.03079753652215004.\u001b[0m\n"
     ]
    },
    {
     "name": "stdout",
     "output_type": "stream",
     "text": [
      "loss: 0.031621 \n"
     ]
    },
    {
     "name": "stderr",
     "output_type": "stream",
     "text": [
      "\u001b[32m[I 2023-05-02 19:07:49,317]\u001b[0m Trial 20 finished with value: 0.025799656610773956 and parameters: {'learning_rate': 0.013842530446799294, 'optimizer': 'Adam', 'batch_size': 320, 'num_hidden1': 82, 'num_hidden2': 548, 'num_hidden3': 140, 'num_hidden4': 123, 'num_hidden5': 145, 'num_hidden6': 331, 'threshold': 0.4466123167640274}. Best is trial 20 with value: 0.025799656610773956.\u001b[0m\n"
     ]
    },
    {
     "name": "stdout",
     "output_type": "stream",
     "text": [
      "loss: 0.025800 \n"
     ]
    },
    {
     "name": "stderr",
     "output_type": "stream",
     "text": [
      "\u001b[32m[I 2023-05-02 19:07:58,041]\u001b[0m Trial 21 finished with value: 0.03176272579509279 and parameters: {'learning_rate': 0.01320239009643779, 'optimizer': 'Adam', 'batch_size': 320, 'num_hidden1': 88, 'num_hidden2': 542, 'num_hidden3': 125, 'num_hidden4': 134, 'num_hidden5': 128, 'num_hidden6': 332, 'threshold': 0.4415815308568162}. Best is trial 20 with value: 0.025799656610773956.\u001b[0m\n"
     ]
    },
    {
     "name": "stdout",
     "output_type": "stream",
     "text": [
      "loss: 0.031763 \n"
     ]
    },
    {
     "name": "stderr",
     "output_type": "stream",
     "text": [
      "\u001b[32m[I 2023-05-02 19:08:07,103]\u001b[0m Trial 22 finished with value: 0.07211351737380028 and parameters: {'learning_rate': 3.686874845614842e-05, 'optimizer': 'Adam', 'batch_size': 288, 'num_hidden1': 50, 'num_hidden2': 541, 'num_hidden3': 243, 'num_hidden4': 64, 'num_hidden5': 154, 'num_hidden6': 450, 'threshold': 0.4979376235004477}. Best is trial 20 with value: 0.025799656610773956.\u001b[0m\n"
     ]
    },
    {
     "name": "stdout",
     "output_type": "stream",
     "text": [
      "loss: 0.072114 \n"
     ]
    },
    {
     "name": "stderr",
     "output_type": "stream",
     "text": [
      "\u001b[32m[I 2023-05-02 19:08:17,500]\u001b[0m Trial 23 finished with value: 0.03381907239556312 and parameters: {'learning_rate': 0.011735318623435693, 'optimizer': 'Adam', 'batch_size': 288, 'num_hidden1': 173, 'num_hidden2': 588, 'num_hidden3': 135, 'num_hidden4': 117, 'num_hidden5': 153, 'num_hidden6': 332, 'threshold': 0.4525131008088158}. Best is trial 20 with value: 0.025799656610773956.\u001b[0m\n"
     ]
    },
    {
     "name": "stdout",
     "output_type": "stream",
     "text": [
      "loss: 0.033819 \n"
     ]
    },
    {
     "name": "stderr",
     "output_type": "stream",
     "text": [
      "\u001b[32m[I 2023-05-02 19:08:30,106]\u001b[0m Trial 24 finished with value: 0.08968444734811783 and parameters: {'learning_rate': 0.026215653538846046, 'optimizer': 'Adam', 'batch_size': 288, 'num_hidden1': 92, 'num_hidden2': 463, 'num_hidden3': 305, 'num_hidden4': 254, 'num_hidden5': 193, 'num_hidden6': 529, 'threshold': 0.3932880096576212}. Best is trial 20 with value: 0.025799656610773956.\u001b[0m\n"
     ]
    },
    {
     "name": "stdout",
     "output_type": "stream",
     "text": [
      "loss: 0.089684 \n"
     ]
    },
    {
     "name": "stderr",
     "output_type": "stream",
     "text": [
      "\u001b[32m[I 2023-05-02 19:08:42,485]\u001b[0m Trial 25 finished with value: 0.027638982912456547 and parameters: {'learning_rate': 0.010793859957989893, 'optimizer': 'Adam', 'batch_size': 272, 'num_hidden1': 182, 'num_hidden2': 426, 'num_hidden3': 215, 'num_hidden4': 170, 'num_hidden5': 278, 'num_hidden6': 294, 'threshold': 0.4622898784390007}. Best is trial 20 with value: 0.025799656610773956.\u001b[0m\n"
     ]
    },
    {
     "name": "stdout",
     "output_type": "stream",
     "text": [
      "loss: 0.027639 \n"
     ]
    },
    {
     "name": "stderr",
     "output_type": "stream",
     "text": [
      "\u001b[32m[I 2023-05-02 19:08:55,438]\u001b[0m Trial 26 finished with value: 0.025836917668067175 and parameters: {'learning_rate': 0.008041534600759253, 'optimizer': 'Adam', 'batch_size': 256, 'num_hidden1': 190, 'num_hidden2': 396, 'num_hidden3': 213, 'num_hidden4': 178, 'num_hidden5': 277, 'num_hidden6': 366, 'threshold': 0.4013710135998059}. Best is trial 20 with value: 0.025799656610773956.\u001b[0m\n"
     ]
    },
    {
     "name": "stdout",
     "output_type": "stream",
     "text": [
      "loss: 0.025837 \n"
     ]
    },
    {
     "name": "stderr",
     "output_type": "stream",
     "text": [
      "\u001b[32m[I 2023-05-02 19:09:09,194]\u001b[0m Trial 27 finished with value: 0.12382462595043511 and parameters: {'learning_rate': 0.017738777149090373, 'optimizer': 'Adam', 'batch_size': 256, 'num_hidden1': 236, 'num_hidden2': 404, 'num_hidden3': 229, 'num_hidden4': 91, 'num_hidden5': 274, 'num_hidden6': 422, 'threshold': 0.4034061767320648}. Best is trial 20 with value: 0.025799656610773956.\u001b[0m\n"
     ]
    },
    {
     "name": "stdout",
     "output_type": "stream",
     "text": [
      "loss: 0.123825 \n"
     ]
    },
    {
     "name": "stderr",
     "output_type": "stream",
     "text": [
      "\u001b[32m[I 2023-05-02 19:09:22,943]\u001b[0m Trial 28 finished with value: 0.026583027715484302 and parameters: {'learning_rate': 0.009760861050813946, 'optimizer': 'Adam', 'batch_size': 224, 'num_hidden1': 315, 'num_hidden2': 336, 'num_hidden3': 162, 'num_hidden4': 162, 'num_hidden5': 261, 'num_hidden6': 357, 'threshold': 0.3787683460429532}. Best is trial 20 with value: 0.025799656610773956.\u001b[0m\n"
     ]
    },
    {
     "name": "stdout",
     "output_type": "stream",
     "text": [
      "loss: 0.026583 \n"
     ]
    },
    {
     "name": "stderr",
     "output_type": "stream",
     "text": [
      "\u001b[32m[I 2023-05-02 19:09:35,004]\u001b[0m Trial 29 finished with value: 0.14686594000368408 and parameters: {'learning_rate': 0.024302929029594807, 'optimizer': 'Adam', 'batch_size': 224, 'num_hidden1': 311, 'num_hidden2': 202, 'num_hidden3': 163, 'num_hidden4': 191, 'num_hidden5': 97, 'num_hidden6': 352, 'threshold': 0.41615282773366286}. Best is trial 20 with value: 0.025799656610773956.\u001b[0m\n"
     ]
    },
    {
     "name": "stdout",
     "output_type": "stream",
     "text": [
      "loss: 0.146866 \n"
     ]
    },
    {
     "name": "stderr",
     "output_type": "stream",
     "text": [
      "\u001b[32m[I 2023-05-02 19:09:49,756]\u001b[0m Trial 30 finished with value: 665243.06875 and parameters: {'learning_rate': 0.029057009343021425, 'optimizer': 'Adam', 'batch_size': 208, 'num_hidden1': 391, 'num_hidden2': 333, 'num_hidden3': 159, 'num_hidden4': 84, 'num_hidden5': 241, 'num_hidden6': 422, 'threshold': 0.3695467070052129}. Best is trial 20 with value: 0.025799656610773956.\u001b[0m\n"
     ]
    },
    {
     "name": "stdout",
     "output_type": "stream",
     "text": [
      "loss: 665243.068750 \n"
     ]
    },
    {
     "name": "stderr",
     "output_type": "stream",
     "text": [
      "\u001b[32m[I 2023-05-02 19:10:02,482]\u001b[0m Trial 31 finished with value: 0.0257851570716192 and parameters: {'learning_rate': 0.006322950016419324, 'optimizer': 'Adam', 'batch_size': 256, 'num_hidden1': 240, 'num_hidden2': 299, 'num_hidden3': 206, 'num_hidden4': 179, 'num_hidden5': 272, 'num_hidden6': 277, 'threshold': 0.45199912243293267}. Best is trial 31 with value: 0.0257851570716192.\u001b[0m\n"
     ]
    },
    {
     "name": "stdout",
     "output_type": "stream",
     "text": [
      "loss: 0.025785 \n"
     ]
    },
    {
     "name": "stderr",
     "output_type": "stream",
     "text": [
      "\u001b[32m[I 2023-05-02 19:10:16,633]\u001b[0m Trial 32 finished with value: 0.028853397257626055 and parameters: {'learning_rate': 0.016036969652066795, 'optimizer': 'Adam', 'batch_size': 240, 'num_hidden1': 292, 'num_hidden2': 283, 'num_hidden3': 271, 'num_hidden4': 177, 'num_hidden5': 309, 'num_hidden6': 244, 'threshold': 0.41253237827415234}. Best is trial 31 with value: 0.0257851570716192.\u001b[0m\n"
     ]
    },
    {
     "name": "stdout",
     "output_type": "stream",
     "text": [
      "loss: 0.028853 \n"
     ]
    },
    {
     "name": "stderr",
     "output_type": "stream",
     "text": [
      "\u001b[32m[I 2023-05-02 19:10:30,103]\u001b[0m Trial 33 finished with value: 0.027157932413475853 and parameters: {'learning_rate': 0.0054774435607596456, 'optimizer': 'Adam', 'batch_size': 208, 'num_hidden1': 236, 'num_hidden2': 226, 'num_hidden3': 101, 'num_hidden4': 264, 'num_hidden5': 185, 'num_hidden6': 365, 'threshold': 0.4438729824683242}. Best is trial 31 with value: 0.0257851570716192.\u001b[0m\n"
     ]
    },
    {
     "name": "stdout",
     "output_type": "stream",
     "text": [
      "loss: 0.027158 \n"
     ]
    },
    {
     "name": "stderr",
     "output_type": "stream",
     "text": [
      "\u001b[32m[I 2023-05-02 19:10:40,386]\u001b[0m Trial 34 finished with value: 0.03814664180390537 and parameters: {'learning_rate': 0.006008730853414652, 'optimizer': 'Adam', 'batch_size': 304, 'num_hidden1': 358, 'num_hidden2': 313, 'num_hidden3': 195, 'num_hidden4': 55, 'num_hidden5': 245, 'num_hidden6': 245, 'threshold': 0.3958457020479409}. Best is trial 31 with value: 0.0257851570716192.\u001b[0m\n"
     ]
    },
    {
     "name": "stdout",
     "output_type": "stream",
     "text": [
      "loss: 0.038147 \n"
     ]
    },
    {
     "name": "stderr",
     "output_type": "stream",
     "text": [
      "\u001b[32m[I 2023-05-02 19:10:51,002]\u001b[0m Trial 35 finished with value: 0.02351267738588925 and parameters: {'learning_rate': 0.00037367877160425673, 'optimizer': 'Adam', 'batch_size': 256, 'num_hidden1': 268, 'num_hidden2': 358, 'num_hidden3': 51, 'num_hidden4': 224, 'num_hidden5': 213, 'num_hidden6': 340, 'threshold': 0.46322314947281024}. Best is trial 35 with value: 0.02351267738588925.\u001b[0m\n"
     ]
    },
    {
     "name": "stdout",
     "output_type": "stream",
     "text": [
      "loss: 0.023513 \n"
     ]
    },
    {
     "name": "stderr",
     "output_type": "stream",
     "text": [
      "\u001b[32m[I 2023-05-02 19:11:02,765]\u001b[0m Trial 36 finished with value: 0.0282768903235937 and parameters: {'learning_rate': 0.00043399321700714373, 'optimizer': 'Adam', 'batch_size': 256, 'num_hidden1': 260, 'num_hidden2': 359, 'num_hidden3': 84, 'num_hidden4': 225, 'num_hidden5': 223, 'num_hidden6': 137, 'threshold': 0.4675884436863589}. Best is trial 35 with value: 0.02351267738588925.\u001b[0m\n"
     ]
    },
    {
     "name": "stdout",
     "output_type": "stream",
     "text": [
      "loss: 0.028277 \n"
     ]
    },
    {
     "name": "stderr",
     "output_type": "stream",
     "text": [
      "\u001b[32m[I 2023-05-02 19:11:13,764]\u001b[0m Trial 37 finished with value: 0.14571719533867306 and parameters: {'learning_rate': 0.006882223853764348, 'optimizer': 'Adam', 'batch_size': 272, 'num_hidden1': 229, 'num_hidden2': 154, 'num_hidden3': 51, 'num_hidden4': 335, 'num_hidden5': 211, 'num_hidden6': 388, 'threshold': 0.4683164964476559}. Best is trial 35 with value: 0.02351267738588925.\u001b[0m\n"
     ]
    },
    {
     "name": "stdout",
     "output_type": "stream",
     "text": [
      "loss: 0.145717 \n"
     ]
    },
    {
     "name": "stderr",
     "output_type": "stream",
     "text": [
      "\u001b[32m[I 2023-05-02 19:11:23,099]\u001b[0m Trial 38 finished with value: 0.03551953875770172 and parameters: {'learning_rate': 0.016465656865394675, 'optimizer': 'Adam', 'batch_size': 304, 'num_hidden1': 285, 'num_hidden2': 383, 'num_hidden3': 140, 'num_hidden4': 131, 'num_hidden5': 85, 'num_hidden6': 208, 'threshold': 0.4276631100273842}. Best is trial 35 with value: 0.02351267738588925.\u001b[0m\n"
     ]
    },
    {
     "name": "stdout",
     "output_type": "stream",
     "text": [
      "loss: 0.035520 \n"
     ]
    },
    {
     "name": "stderr",
     "output_type": "stream",
     "text": [
      "\u001b[32m[I 2023-05-02 19:11:35,891]\u001b[0m Trial 39 finished with value: 0.02829332643498977 and parameters: {'learning_rate': 0.006755961778403258, 'optimizer': 'Adam', 'batch_size': 240, 'num_hidden1': 198, 'num_hidden2': 114, 'num_hidden3': 344, 'num_hidden4': 216, 'num_hidden5': 324, 'num_hidden6': 278, 'threshold': 0.4738358237542755}. Best is trial 35 with value: 0.02351267738588925.\u001b[0m\n"
     ]
    },
    {
     "name": "stdout",
     "output_type": "stream",
     "text": [
      "loss: 0.028293 \n"
     ]
    },
    {
     "name": "stderr",
     "output_type": "stream",
     "text": [
      "\u001b[32m[I 2023-05-02 19:11:53,051]\u001b[0m Trial 40 finished with value: 0.03753638973361567 and parameters: {'learning_rate': 0.020406198668201814, 'optimizer': 'Adam', 'batch_size': 192, 'num_hidden1': 257, 'num_hidden2': 292, 'num_hidden3': 395, 'num_hidden4': 285, 'num_hidden5': 122, 'num_hidden6': 329, 'threshold': 0.42859885740684}. Best is trial 35 with value: 0.02351267738588925.\u001b[0m\n"
     ]
    },
    {
     "name": "stdout",
     "output_type": "stream",
     "text": [
      "loss: 0.037536 \n"
     ]
    },
    {
     "name": "stderr",
     "output_type": "stream",
     "text": [
      "\u001b[32m[I 2023-05-02 19:12:07,161]\u001b[0m Trial 41 finished with value: 0.030165730326464683 and parameters: {'learning_rate': 0.009409350734892935, 'optimizer': 'Adam', 'batch_size': 224, 'num_hidden1': 305, 'num_hidden2': 343, 'num_hidden3': 150, 'num_hidden4': 156, 'num_hidden5': 255, 'num_hidden6': 361, 'threshold': 0.43655452398812983}. Best is trial 35 with value: 0.02351267738588925.\u001b[0m\n"
     ]
    },
    {
     "name": "stdout",
     "output_type": "stream",
     "text": [
      "loss: 0.030166 \n"
     ]
    },
    {
     "name": "stderr",
     "output_type": "stream",
     "text": [
      "\u001b[32m[I 2023-05-02 19:12:18,726]\u001b[0m Trial 42 finished with value: 0.02918803478004756 and parameters: {'learning_rate': 0.014684323158462504, 'optimizer': 'Adam', 'batch_size': 272, 'num_hidden1': 355, 'num_hidden2': 245, 'num_hidden3': 211, 'num_hidden4': 186, 'num_hidden5': 178, 'num_hidden6': 404, 'threshold': 0.47445271357257524}. Best is trial 35 with value: 0.02351267738588925.\u001b[0m\n"
     ]
    },
    {
     "name": "stdout",
     "output_type": "stream",
     "text": [
      "loss: 0.029188 \n"
     ]
    },
    {
     "name": "stderr",
     "output_type": "stream",
     "text": [
      "\u001b[32m[I 2023-05-02 19:12:34,945]\u001b[0m Trial 43 finished with value: 0.02795636866773878 and parameters: {'learning_rate': 0.0040291226634001686, 'optimizer': 'Adam', 'batch_size': 208, 'num_hidden1': 391, 'num_hidden2': 396, 'num_hidden3': 263, 'num_hidden4': 207, 'num_hidden5': 207, 'num_hidden6': 311, 'threshold': 0.3871906398348659}. Best is trial 35 with value: 0.02351267738588925.\u001b[0m\n"
     ]
    },
    {
     "name": "stdout",
     "output_type": "stream",
     "text": [
      "loss: 0.027956 \n"
     ]
    },
    {
     "name": "stderr",
     "output_type": "stream",
     "text": [
      "\u001b[32m[I 2023-05-02 19:12:49,662]\u001b[0m Trial 44 finished with value: 0.02879102750704056 and parameters: {'learning_rate': 0.009529796383580418, 'optimizer': 'Adam', 'batch_size': 176, 'num_hidden1': 221, 'num_hidden2': 304, 'num_hidden3': 106, 'num_hidden4': 116, 'num_hidden5': 264, 'num_hidden6': 344, 'threshold': 0.4251543847927537}. Best is trial 35 with value: 0.02351267738588925.\u001b[0m\n"
     ]
    },
    {
     "name": "stdout",
     "output_type": "stream",
     "text": [
      "loss: 0.028791 \n"
     ]
    },
    {
     "name": "stderr",
     "output_type": "stream",
     "text": [
      "\u001b[32m[I 2023-05-02 19:13:06,096]\u001b[0m Trial 45 finished with value: 0.023807160556316376 and parameters: {'learning_rate': 0.00021910677619813024, 'optimizer': 'Adam', 'batch_size': 240, 'num_hidden1': 274, 'num_hidden2': 349, 'num_hidden3': 455, 'num_hidden4': 240, 'num_hidden5': 308, 'num_hidden6': 373, 'threshold': 0.37116936964233954}. Best is trial 35 with value: 0.02351267738588925.\u001b[0m\n"
     ]
    },
    {
     "name": "stdout",
     "output_type": "stream",
     "text": [
      "loss: 0.023807 \n"
     ]
    },
    {
     "name": "stderr",
     "output_type": "stream",
     "text": [
      "\u001b[32m[I 2023-05-02 19:13:24,183]\u001b[0m Trial 46 finished with value: 0.022797896713018417 and parameters: {'learning_rate': 0.0010871984773423516, 'optimizer': 'Adam', 'batch_size': 240, 'num_hidden1': 271, 'num_hidden2': 421, 'num_hidden3': 469, 'num_hidden4': 251, 'num_hidden5': 333, 'num_hidden6': 389, 'threshold': 0.4100985478902937}. Best is trial 46 with value: 0.022797896713018417.\u001b[0m\n"
     ]
    },
    {
     "name": "stdout",
     "output_type": "stream",
     "text": [
      "loss: 0.022798 \n"
     ]
    },
    {
     "name": "stderr",
     "output_type": "stream",
     "text": [
      "\u001b[32m[I 2023-05-02 19:13:43,011]\u001b[0m Trial 47 finished with value: 0.022604281020661195 and parameters: {'learning_rate': 0.0010045325848174543, 'optimizer': 'Adam', 'batch_size': 240, 'num_hidden1': 278, 'num_hidden2': 427, 'num_hidden3': 478, 'num_hidden4': 239, 'num_hidden5': 397, 'num_hidden6': 515, 'threshold': 0.49791745320615466}. Best is trial 47 with value: 0.022604281020661195.\u001b[0m\n"
     ]
    },
    {
     "name": "stdout",
     "output_type": "stream",
     "text": [
      "loss: 0.022604 \n"
     ]
    },
    {
     "name": "stderr",
     "output_type": "stream",
     "text": [
      "\u001b[32m[I 2023-05-02 19:14:01,838]\u001b[0m Trial 48 finished with value: 0.023346836616595586 and parameters: {'learning_rate': 0.0009804865529363508, 'optimizer': 'Adam', 'batch_size': 240, 'num_hidden1': 278, 'num_hidden2': 423, 'num_hidden3': 478, 'num_hidden4': 238, 'num_hidden5': 406, 'num_hidden6': 561, 'threshold': 0.47847795006905863}. Best is trial 47 with value: 0.022604281020661195.\u001b[0m\n"
     ]
    },
    {
     "name": "stdout",
     "output_type": "stream",
     "text": [
      "loss: 0.023347 \n"
     ]
    },
    {
     "name": "stderr",
     "output_type": "stream",
     "text": [
      "\u001b[32m[I 2023-05-02 19:14:19,246]\u001b[0m Trial 49 finished with value: 0.022707294300198556 and parameters: {'learning_rate': 7.244392645357108e-05, 'optimizer': 'Adam', 'batch_size': 240, 'num_hidden1': 277, 'num_hidden2': 421, 'num_hidden3': 454, 'num_hidden4': 294, 'num_hidden5': 430, 'num_hidden6': 519, 'threshold': 0.4976498351980524}. Best is trial 47 with value: 0.022604281020661195.\u001b[0m\n"
     ]
    },
    {
     "name": "stdout",
     "output_type": "stream",
     "text": [
      "loss: 0.022707 \n"
     ]
    },
    {
     "name": "stderr",
     "output_type": "stream",
     "text": [
      "\u001b[32m[I 2023-05-02 19:14:34,099]\u001b[0m Trial 50 finished with value: 0.14045215979581926 and parameters: {'learning_rate': 0.002645441801038695, 'optimizer': 'SGD', 'batch_size': 176, 'num_hidden1': 335, 'num_hidden2': 432, 'num_hidden3': 535, 'num_hidden4': 320, 'num_hidden5': 419, 'num_hidden6': 527, 'threshold': 0.4999953685165344}. Best is trial 47 with value: 0.022604281020661195.\u001b[0m\n"
     ]
    },
    {
     "name": "stdout",
     "output_type": "stream",
     "text": [
      "loss: 0.140452 \n"
     ]
    },
    {
     "name": "stderr",
     "output_type": "stream",
     "text": [
      "\u001b[32m[I 2023-05-02 19:14:52,145]\u001b[0m Trial 51 finished with value: 0.025250100468595823 and parameters: {'learning_rate': 0.0002880552966217076, 'optimizer': 'Adam', 'batch_size': 240, 'num_hidden1': 272, 'num_hidden2': 365, 'num_hidden3': 448, 'num_hidden4': 291, 'num_hidden5': 418, 'num_hidden6': 544, 'threshold': 0.4810052613431257}. Best is trial 47 with value: 0.022604281020661195.\u001b[0m\n"
     ]
    },
    {
     "name": "stdout",
     "output_type": "stream",
     "text": [
      "loss: 0.025250 \n"
     ]
    },
    {
     "name": "stderr",
     "output_type": "stream",
     "text": [
      "\u001b[32m[I 2023-05-02 19:15:14,113]\u001b[0m Trial 52 finished with value: 0.028485429224868616 and parameters: {'learning_rate': 0.002349331643690877, 'optimizer': 'Adam', 'batch_size': 240, 'num_hidden1': 289, 'num_hidden2': 420, 'num_hidden3': 489, 'num_hidden4': 243, 'num_hidden5': 485, 'num_hidden6': 589, 'threshold': 0.48129609306052323}. Best is trial 47 with value: 0.022604281020661195.\u001b[0m\n"
     ]
    },
    {
     "name": "stdout",
     "output_type": "stream",
     "text": [
      "loss: 0.028485 \n"
     ]
    },
    {
     "name": "stderr",
     "output_type": "stream",
     "text": [
      "\u001b[32m[I 2023-05-02 19:15:33,331]\u001b[0m Trial 53 finished with value: 0.024121760306033222 and parameters: {'learning_rate': 0.0002150026678522872, 'optimizer': 'Adam', 'batch_size': 224, 'num_hidden1': 251, 'num_hidden2': 468, 'num_hidden3': 451, 'num_hidden4': 273, 'num_hidden5': 395, 'num_hidden6': 495, 'threshold': 0.4996823473459877}. Best is trial 47 with value: 0.022604281020661195.\u001b[0m\n"
     ]
    },
    {
     "name": "stdout",
     "output_type": "stream",
     "text": [
      "loss: 0.024122 \n"
     ]
    },
    {
     "name": "stderr",
     "output_type": "stream",
     "text": [
      "\u001b[32m[I 2023-05-02 19:15:59,786]\u001b[0m Trial 54 finished with value: 0.02454399675326912 and parameters: {'learning_rate': 0.00433485094994376, 'optimizer': 'Adam', 'batch_size': 192, 'num_hidden1': 276, 'num_hidden2': 512, 'num_hidden3': 543, 'num_hidden4': 233, 'num_hidden5': 373, 'num_hidden6': 564, 'threshold': 0.4785881113375061}. Best is trial 47 with value: 0.022604281020661195.\u001b[0m\n"
     ]
    },
    {
     "name": "stdout",
     "output_type": "stream",
     "text": [
      "loss: 0.024544 \n"
     ]
    },
    {
     "name": "stderr",
     "output_type": "stream",
     "text": [
      "\u001b[32m[I 2023-05-02 19:16:24,145]\u001b[0m Trial 55 finished with value: 0.025304846412369183 and parameters: {'learning_rate': 0.0037126795187792825, 'optimizer': 'Adam', 'batch_size': 208, 'num_hidden1': 338, 'num_hidden2': 451, 'num_hidden3': 505, 'num_hidden4': 341, 'num_hidden5': 473, 'num_hidden6': 501, 'threshold': 0.44716065039499353}. Best is trial 47 with value: 0.022604281020661195.\u001b[0m\n"
     ]
    },
    {
     "name": "stdout",
     "output_type": "stream",
     "text": [
      "loss: 0.025305 \n"
     ]
    },
    {
     "name": "stderr",
     "output_type": "stream",
     "text": [
      "\u001b[32m[I 2023-05-02 19:16:35,793]\u001b[0m Trial 56 finished with value: 0.11862717693050702 and parameters: {'learning_rate': 0.012699885805875421, 'optimizer': 'SGD', 'batch_size': 240, 'num_hidden1': 215, 'num_hidden2': 378, 'num_hidden3': 416, 'num_hidden4': 312, 'num_hidden5': 346, 'num_hidden6': 448, 'threshold': 0.4604066816952278}. Best is trial 47 with value: 0.022604281020661195.\u001b[0m\n"
     ]
    },
    {
     "name": "stdout",
     "output_type": "stream",
     "text": [
      "loss: 0.118627 \n"
     ]
    },
    {
     "name": "stderr",
     "output_type": "stream",
     "text": [
      "\u001b[32m[I 2023-05-02 19:16:56,383]\u001b[0m Trial 57 finished with value: 0.14429978639991195 and parameters: {'learning_rate': 0.01963718467763194, 'optimizer': 'Adam', 'batch_size': 272, 'num_hidden1': 302, 'num_hidden2': 416, 'num_hidden3': 461, 'num_hidden4': 241, 'num_hidden5': 521, 'num_hidden6': 571, 'threshold': 0.48355345405510136}. Best is trial 47 with value: 0.022604281020661195.\u001b[0m\n"
     ]
    },
    {
     "name": "stdout",
     "output_type": "stream",
     "text": [
      "loss: 0.144300 \n"
     ]
    },
    {
     "name": "stderr",
     "output_type": "stream",
     "text": [
      "\u001b[32m[I 2023-05-02 19:17:20,651]\u001b[0m Trial 58 finished with value: 0.02876346456733617 and parameters: {'learning_rate': 0.008836392114180802, 'optimizer': 'Adam', 'batch_size': 224, 'num_hidden1': 274, 'num_hidden2': 489, 'num_hidden3': 516, 'num_hidden4': 436, 'num_hidden5': 438, 'num_hidden6': 515, 'threshold': 0.41875993126571576}. Best is trial 47 with value: 0.022604281020661195.\u001b[0m\n"
     ]
    },
    {
     "name": "stdout",
     "output_type": "stream",
     "text": [
      "loss: 0.028763 \n"
     ]
    },
    {
     "name": "stderr",
     "output_type": "stream",
     "text": [
      "\u001b[32m[I 2023-05-02 19:17:37,131]\u001b[0m Trial 59 finished with value: 0.023670924344548473 and parameters: {'learning_rate': 0.00033549862873953786, 'optimizer': 'Adam', 'batch_size': 272, 'num_hidden1': 252, 'num_hidden2': 358, 'num_hidden3': 429, 'num_hidden4': 281, 'num_hidden5': 383, 'num_hidden6': 461, 'threshold': 0.3600736425216913}. Best is trial 47 with value: 0.022604281020661195.\u001b[0m\n"
     ]
    },
    {
     "name": "stdout",
     "output_type": "stream",
     "text": [
      "loss: 0.023671 \n"
     ]
    },
    {
     "name": "stderr",
     "output_type": "stream",
     "text": [
      "\u001b[32m[I 2023-05-02 19:17:50,218]\u001b[0m Trial 60 finished with value: 0.13827186488899693 and parameters: {'learning_rate': 0.004466235048571253, 'optimizer': 'SGD', 'batch_size': 256, 'num_hidden1': 245, 'num_hidden2': 442, 'num_hidden3': 429, 'num_hidden4': 356, 'num_hidden5': 383, 'num_hidden6': 466, 'threshold': 0.4412304878241408}. Best is trial 47 with value: 0.022604281020661195.\u001b[0m\n"
     ]
    },
    {
     "name": "stdout",
     "output_type": "stream",
     "text": [
      "loss: 0.138272 \n"
     ]
    },
    {
     "name": "stderr",
     "output_type": "stream",
     "text": [
      "\u001b[32m[I 2023-05-02 19:18:05,730]\u001b[0m Trial 61 finished with value: 0.02250126852757401 and parameters: {'learning_rate': 0.00013538936113961626, 'optimizer': 'Adam', 'batch_size': 272, 'num_hidden1': 263, 'num_hidden2': 360, 'num_hidden3': 479, 'num_hidden4': 291, 'num_hidden5': 326, 'num_hidden6': 434, 'threshold': 0.3587759749135811}. Best is trial 61 with value: 0.02250126852757401.\u001b[0m\n"
     ]
    },
    {
     "name": "stdout",
     "output_type": "stream",
     "text": [
      "loss: 0.022501 \n"
     ]
    },
    {
     "name": "stderr",
     "output_type": "stream",
     "text": [
      "\u001b[32m[I 2023-05-02 19:18:23,897]\u001b[0m Trial 62 finished with value: 0.0278336009769528 and parameters: {'learning_rate': 0.0037326807169751237, 'optimizer': 'Adam', 'batch_size': 272, 'num_hidden1': 292, 'num_hidden2': 396, 'num_hidden3': 572, 'num_hidden4': 280, 'num_hidden5': 332, 'num_hidden6': 446, 'threshold': 0.35325282435277144}. Best is trial 61 with value: 0.02250126852757401.\u001b[0m\n"
     ]
    },
    {
     "name": "stdout",
     "output_type": "stream",
     "text": [
      "loss: 0.027834 \n"
     ]
    },
    {
     "name": "stderr",
     "output_type": "stream",
     "text": [
      "\u001b[32m[I 2023-05-02 19:18:43,332]\u001b[0m Trial 63 finished with value: 0.03329040187186208 and parameters: {'learning_rate': 0.007972016397210308, 'optimizer': 'Adam', 'batch_size': 256, 'num_hidden1': 326, 'num_hidden2': 378, 'num_hidden3': 480, 'num_hidden4': 295, 'num_hidden5': 411, 'num_hidden6': 550, 'threshold': 0.3206202349192878}. Best is trial 61 with value: 0.02250126852757401.\u001b[0m\n"
     ]
    },
    {
     "name": "stdout",
     "output_type": "stream",
     "text": [
      "loss: 0.033290 \n"
     ]
    },
    {
     "name": "stderr",
     "output_type": "stream",
     "text": [
      "\u001b[32m[I 2023-05-02 19:18:55,867]\u001b[0m Trial 64 finished with value: 0.1293647401034832 and parameters: {'learning_rate': 0.014133012609509386, 'optimizer': 'Adam', 'batch_size': 304, 'num_hidden1': 257, 'num_hidden2': 51, 'num_hidden3': 366, 'num_hidden4': 259, 'num_hidden5': 360, 'num_hidden6': 424, 'threshold': 0.4083585830600358}. Best is trial 61 with value: 0.02250126852757401.\u001b[0m\n"
     ]
    },
    {
     "name": "stdout",
     "output_type": "stream",
     "text": [
      "loss: 0.129365 \n"
     ]
    },
    {
     "name": "stderr",
     "output_type": "stream",
     "text": [
      "\u001b[32m[I 2023-05-02 19:19:12,783]\u001b[0m Trial 65 finished with value: 0.034169309884309766 and parameters: {'learning_rate': 0.011185273489833926, 'optimizer': 'Adam', 'batch_size': 288, 'num_hidden1': 213, 'num_hidden2': 469, 'num_hidden3': 429, 'num_hidden4': 305, 'num_hidden5': 328, 'num_hidden6': 490, 'threshold': 0.4583923408230303}. Best is trial 61 with value: 0.02250126852757401.\u001b[0m\n"
     ]
    },
    {
     "name": "stdout",
     "output_type": "stream",
     "text": [
      "loss: 0.034169 \n"
     ]
    },
    {
     "name": "stderr",
     "output_type": "stream",
     "text": [
      "\u001b[32m[I 2023-05-02 19:19:29,933]\u001b[0m Trial 66 finished with value: 0.024906082837669936 and parameters: {'learning_rate': 0.0033077525087878332, 'optimizer': 'Adam', 'batch_size': 272, 'num_hidden1': 260, 'num_hidden2': 410, 'num_hidden3': 401, 'num_hidden4': 213, 'num_hidden5': 438, 'num_hidden6': 472, 'threshold': 0.48846728580212373}. Best is trial 61 with value: 0.02250126852757401.\u001b[0m\n"
     ]
    },
    {
     "name": "stdout",
     "output_type": "stream",
     "text": [
      "loss: 0.024906 \n"
     ]
    },
    {
     "name": "stderr",
     "output_type": "stream",
     "text": [
      "\u001b[32m[I 2023-05-02 19:19:49,444]\u001b[0m Trial 67 finished with value: 0.03749584368076818 and parameters: {'learning_rate': 0.006991472152900236, 'optimizer': 'Adam', 'batch_size': 256, 'num_hidden1': 300, 'num_hidden2': 440, 'num_hidden3': 515, 'num_hidden4': 271, 'num_hidden5': 394, 'num_hidden6': 511, 'threshold': 0.4344731705974879}. Best is trial 61 with value: 0.02250126852757401.\u001b[0m\n"
     ]
    },
    {
     "name": "stdout",
     "output_type": "stream",
     "text": [
      "loss: 0.037496 \n"
     ]
    },
    {
     "name": "stderr",
     "output_type": "stream",
     "text": [
      "\u001b[32m[I 2023-05-02 19:20:07,544]\u001b[0m Trial 68 finished with value: 0.022457837561766305 and parameters: {'learning_rate': 0.0002901408598684864, 'optimizer': 'Adam', 'batch_size': 240, 'num_hidden1': 227, 'num_hidden2': 319, 'num_hidden3': 492, 'num_hidden4': 406, 'num_hidden5': 295, 'num_hidden6': 598, 'threshold': 0.46160798736511227}. Best is trial 68 with value: 0.022457837561766305.\u001b[0m\n"
     ]
    },
    {
     "name": "stdout",
     "output_type": "stream",
     "text": [
      "loss: 0.022458 \n"
     ]
    },
    {
     "name": "stderr",
     "output_type": "stream",
     "text": [
      "\u001b[32m[I 2023-05-02 19:20:28,690]\u001b[0m Trial 69 finished with value: 0.027968830118576687 and parameters: {'learning_rate': 0.012751940667332484, 'optimizer': 'Adam', 'batch_size': 224, 'num_hidden1': 227, 'num_hidden2': 322, 'num_hidden3': 470, 'num_hidden4': 535, 'num_hidden5': 289, 'num_hidden6': 574, 'threshold': 0.46274684072614064}. Best is trial 68 with value: 0.022457837561766305.\u001b[0m\n"
     ]
    },
    {
     "name": "stdout",
     "output_type": "stream",
     "text": [
      "loss: 0.027969 \n"
     ]
    },
    {
     "name": "stderr",
     "output_type": "stream",
     "text": [
      "\u001b[32m[I 2023-05-02 19:20:48,744]\u001b[0m Trial 70 finished with value: 0.05218377870817979 and parameters: {'learning_rate': 0.009746172074198825, 'optimizer': 'Adam', 'batch_size': 240, 'num_hidden1': 148, 'num_hidden2': 390, 'num_hidden3': 493, 'num_hidden4': 368, 'num_hidden5': 362, 'num_hidden6': 596, 'threshold': 0.4860136086043311}. Best is trial 68 with value: 0.022457837561766305.\u001b[0m\n"
     ]
    },
    {
     "name": "stdout",
     "output_type": "stream",
     "text": [
      "loss: 0.052184 \n"
     ]
    },
    {
     "name": "stderr",
     "output_type": "stream",
     "text": [
      "\u001b[32m[I 2023-05-02 19:21:07,912]\u001b[0m Trial 71 finished with value: 0.024844013861027258 and parameters: {'learning_rate': 0.00038131058932274397, 'optimizer': 'Adam', 'batch_size': 256, 'num_hidden1': 241, 'num_hidden2': 352, 'num_hidden3': 531, 'num_hidden4': 337, 'num_hidden5': 461, 'num_hidden6': 542, 'threshold': 0.4994839218578896}. Best is trial 68 with value: 0.022457837561766305.\u001b[0m\n"
     ]
    },
    {
     "name": "stdout",
     "output_type": "stream",
     "text": [
      "loss: 0.024844 \n"
     ]
    },
    {
     "name": "stderr",
     "output_type": "stream",
     "text": [
      "\u001b[32m[I 2023-05-02 19:21:24,701]\u001b[0m Trial 72 finished with value: 0.026091396118755692 and parameters: {'learning_rate': 0.0028037938073776805, 'optimizer': 'Adam', 'batch_size': 272, 'num_hidden1': 284, 'num_hidden2': 268, 'num_hidden3': 438, 'num_hidden4': 431, 'num_hidden5': 372, 'num_hidden6': 432, 'threshold': 0.45113516383438806}. Best is trial 68 with value: 0.022457837561766305.\u001b[0m\n"
     ]
    },
    {
     "name": "stdout",
     "output_type": "stream",
     "text": [
      "loss: 0.026091 \n"
     ]
    },
    {
     "name": "stderr",
     "output_type": "stream",
     "text": [
      "\u001b[32m[I 2023-05-02 19:21:40,152]\u001b[0m Trial 73 finished with value: 0.031020650044083595 and parameters: {'learning_rate': 0.00683709225906445, 'optimizer': 'Adam', 'batch_size': 288, 'num_hidden1': 203, 'num_hidden2': 364, 'num_hidden3': 473, 'num_hidden4': 200, 'num_hidden5': 493, 'num_hidden6': 393, 'threshold': 0.41491637280473537}. Best is trial 68 with value: 0.022457837561766305.\u001b[0m\n"
     ]
    },
    {
     "name": "stdout",
     "output_type": "stream",
     "text": [
      "loss: 0.031021 \n"
     ]
    },
    {
     "name": "stderr",
     "output_type": "stream",
     "text": [
      "\u001b[32m[I 2023-05-02 19:21:58,983]\u001b[0m Trial 74 finished with value: 0.14448651697101264 and parameters: {'learning_rate': 0.0054380784529648885, 'optimizer': 'Adam', 'batch_size': 256, 'num_hidden1': 317, 'num_hidden2': 336, 'num_hidden3': 598, 'num_hidden4': 256, 'num_hidden5': 344, 'num_hidden6': 530, 'threshold': 0.47109166085802046}. Best is trial 68 with value: 0.022457837561766305.\u001b[0m\n"
     ]
    },
    {
     "name": "stdout",
     "output_type": "stream",
     "text": [
      "loss: 0.144487 \n"
     ]
    },
    {
     "name": "stderr",
     "output_type": "stream",
     "text": [
      "\u001b[32m[I 2023-05-02 19:22:18,151]\u001b[0m Trial 75 finished with value: 0.023304382897913457 and parameters: {'learning_rate': 0.0001968506632085505, 'optimizer': 'Adam', 'batch_size': 240, 'num_hidden1': 266, 'num_hidden2': 415, 'num_hidden3': 519, 'num_hidden4': 303, 'num_hidden5': 408, 'num_hidden6': 554, 'threshold': 0.3994142255503553}. Best is trial 68 with value: 0.022457837561766305.\u001b[0m\n"
     ]
    },
    {
     "name": "stdout",
     "output_type": "stream",
     "text": [
      "loss: 0.023304 \n"
     ]
    },
    {
     "name": "stderr",
     "output_type": "stream",
     "text": [
      "\u001b[32m[I 2023-05-02 19:22:41,790]\u001b[0m Trial 76 finished with value: 0.02415289937385491 and parameters: {'learning_rate': 0.0030255802913363937, 'optimizer': 'Adam', 'batch_size': 208, 'num_hidden1': 266, 'num_hidden2': 455, 'num_hidden3': 555, 'num_hidden4': 399, 'num_hidden5': 292, 'num_hidden6': 552, 'threshold': 0.3866093722283183}. Best is trial 68 with value: 0.022457837561766305.\u001b[0m\n"
     ]
    },
    {
     "name": "stdout",
     "output_type": "stream",
     "text": [
      "loss: 0.024153 \n"
     ]
    },
    {
     "name": "stderr",
     "output_type": "stream",
     "text": [
      "\u001b[32m[I 2023-05-02 19:22:56,453]\u001b[0m Trial 77 finished with value: 0.12042049467563629 and parameters: {'learning_rate': 0.01077462240100569, 'optimizer': 'SGD', 'batch_size': 240, 'num_hidden1': 230, 'num_hidden2': 424, 'num_hidden3': 522, 'num_hidden4': 300, 'num_hidden5': 427, 'num_hidden6': 579, 'threshold': 0.4019815530162049}. Best is trial 68 with value: 0.022457837561766305.\u001b[0m\n"
     ]
    },
    {
     "name": "stdout",
     "output_type": "stream",
     "text": [
      "loss: 0.120420 \n"
     ]
    },
    {
     "name": "stderr",
     "output_type": "stream",
     "text": [
      "\u001b[32m[I 2023-05-02 19:23:17,906]\u001b[0m Trial 78 finished with value: 0.028938454096064423 and parameters: {'learning_rate': 0.006342133853843385, 'optimizer': 'Adam', 'batch_size': 224, 'num_hidden1': 282, 'num_hidden2': 407, 'num_hidden3': 502, 'num_hidden4': 325, 'num_hidden5': 318, 'num_hidden6': 598, 'threshold': 0.43467763914436525}. Best is trial 68 with value: 0.022457837561766305.\u001b[0m\n"
     ]
    },
    {
     "name": "stdout",
     "output_type": "stream",
     "text": [
      "loss: 0.028938 \n"
     ]
    },
    {
     "name": "stderr",
     "output_type": "stream",
     "text": [
      "\u001b[32m[I 2023-05-02 19:23:39,630]\u001b[0m Trial 79 finished with value: 0.034715673948327704 and parameters: {'learning_rate': 0.015850110108756827, 'optimizer': 'Adam', 'batch_size': 240, 'num_hidden1': 178, 'num_hidden2': 477, 'num_hidden3': 481, 'num_hidden4': 352, 'num_hidden5': 405, 'num_hidden6': 565, 'threshold': 0.4565107964415073}. Best is trial 68 with value: 0.022457837561766305.\u001b[0m\n"
     ]
    },
    {
     "name": "stdout",
     "output_type": "stream",
     "text": [
      "loss: 0.034716 \n"
     ]
    },
    {
     "name": "stderr",
     "output_type": "stream",
     "text": [
      "\u001b[32m[I 2023-05-02 19:24:09,476]\u001b[0m Trial 80 finished with value: 0.03234309777617454 and parameters: {'learning_rate': 0.008109734757742125, 'optimizer': 'Adam', 'batch_size': 208, 'num_hidden1': 299, 'num_hidden2': 500, 'num_hidden3': 554, 'num_hidden4': 225, 'num_hidden5': 546, 'num_hidden6': 522, 'threshold': 0.42501222440537284}. Best is trial 68 with value: 0.022457837561766305.\u001b[0m\n"
     ]
    },
    {
     "name": "stdout",
     "output_type": "stream",
     "text": [
      "loss: 0.032343 \n"
     ]
    },
    {
     "name": "stderr",
     "output_type": "stream",
     "text": [
      "\u001b[32m[I 2023-05-02 19:24:28,649]\u001b[0m Trial 81 finished with value: 0.02726091650025598 and parameters: {'learning_rate': 0.0017687796891787417, 'optimizer': 'Adam', 'batch_size': 256, 'num_hidden1': 252, 'num_hidden2': 375, 'num_hidden3': 411, 'num_hidden4': 279, 'num_hidden5': 377, 'num_hidden6': 482, 'threshold': 0.36115217658816495}. Best is trial 68 with value: 0.022457837561766305.\u001b[0m\n"
     ]
    },
    {
     "name": "stdout",
     "output_type": "stream",
     "text": [
      "loss: 0.027261 \n"
     ]
    },
    {
     "name": "stderr",
     "output_type": "stream",
     "text": [
      "\u001b[32m[I 2023-05-02 19:24:44,942]\u001b[0m Trial 82 finished with value: 0.023048429715412634 and parameters: {'learning_rate': 0.0005364582973936783, 'optimizer': 'Adam', 'batch_size': 272, 'num_hidden1': 266, 'num_hidden2': 327, 'num_hidden3': 465, 'num_hidden4': 246, 'num_hidden5': 453, 'num_hidden6': 407, 'threshold': 0.3911213874634356}. Best is trial 68 with value: 0.022457837561766305.\u001b[0m\n"
     ]
    },
    {
     "name": "stdout",
     "output_type": "stream",
     "text": [
      "loss: 0.023048 \n"
     ]
    },
    {
     "name": "stderr",
     "output_type": "stream",
     "text": [
      "\u001b[32m[I 2023-05-02 19:25:00,737]\u001b[0m Trial 83 finished with value: 0.03423815056681633 and parameters: {'learning_rate': 0.005233830301397423, 'optimizer': 'Adam', 'batch_size': 288, 'num_hidden1': 266, 'num_hidden2': 265, 'num_hidden3': 504, 'num_hidden4': 257, 'num_hidden5': 465, 'num_hidden6': 403, 'threshold': 0.39066823975365905}. Best is trial 68 with value: 0.022457837561766305.\u001b[0m\n"
     ]
    },
    {
     "name": "stdout",
     "output_type": "stream",
     "text": [
      "loss: 0.034238 \n"
     ]
    },
    {
     "name": "stderr",
     "output_type": "stream",
     "text": [
      "\u001b[32m[I 2023-05-02 19:25:21,422]\u001b[0m Trial 84 finished with value: 0.02776869640996059 and parameters: {'learning_rate': 0.002206531128920291, 'optimizer': 'Adam', 'batch_size': 240, 'num_hidden1': 240, 'num_hidden2': 311, 'num_hidden3': 465, 'num_hidden4': 503, 'num_hidden5': 439, 'num_hidden6': 375, 'threshold': 0.4059869294150287}. Best is trial 68 with value: 0.022457837561766305.\u001b[0m\n"
     ]
    },
    {
     "name": "stdout",
     "output_type": "stream",
     "text": [
      "loss: 0.027769 \n"
     ]
    },
    {
     "name": "stderr",
     "output_type": "stream",
     "text": [
      "\u001b[32m[I 2023-05-02 19:25:40,259]\u001b[0m Trial 85 finished with value: 0.022372110605691418 and parameters: {'learning_rate': 0.00020676780807848732, 'optimizer': 'Adam', 'batch_size': 224, 'num_hidden1': 497, 'num_hidden2': 322, 'num_hidden3': 376, 'num_hidden4': 245, 'num_hidden5': 449, 'num_hidden6': 537, 'threshold': 0.38197333231148045}. Best is trial 85 with value: 0.022372110605691418.\u001b[0m\n"
     ]
    },
    {
     "name": "stdout",
     "output_type": "stream",
     "text": [
      "loss: 0.022372 \n"
     ]
    },
    {
     "name": "stderr",
     "output_type": "stream",
     "text": [
      "\u001b[32m[I 2023-05-02 19:26:01,350]\u001b[0m Trial 86 finished with value: 0.02485357890978004 and parameters: {'learning_rate': 0.004909764619660831, 'optimizer': 'Adam', 'batch_size': 224, 'num_hidden1': 468, 'num_hidden2': 289, 'num_hidden3': 373, 'num_hidden4': 243, 'num_hidden5': 501, 'num_hidden6': 510, 'threshold': 0.3808789777989382}. Best is trial 85 with value: 0.022372110605691418.\u001b[0m\n"
     ]
    },
    {
     "name": "stdout",
     "output_type": "stream",
     "text": [
      "loss: 0.024854 \n"
     ]
    },
    {
     "name": "stderr",
     "output_type": "stream",
     "text": [
      "\u001b[32m[I 2023-05-02 19:26:23,160]\u001b[0m Trial 87 finished with value: 0.04636170240965756 and parameters: {'learning_rate': 0.011471205237791176, 'optimizer': 'Adam', 'batch_size': 224, 'num_hidden1': 422, 'num_hidden2': 333, 'num_hidden3': 443, 'num_hidden4': 317, 'num_hidden5': 450, 'num_hidden6': 535, 'threshold': 0.4143095066587678}. Best is trial 85 with value: 0.022372110605691418.\u001b[0m\n"
     ]
    },
    {
     "name": "stdout",
     "output_type": "stream",
     "text": [
      "loss: 0.046362 \n"
     ]
    },
    {
     "name": "stderr",
     "output_type": "stream",
     "text": [
      "\u001b[32m[I 2023-05-02 19:26:43,435]\u001b[0m Trial 88 finished with value: 0.10970956732829412 and parameters: {'learning_rate': 0.008967628361269684, 'optimizer': 'Adam', 'batch_size': 240, 'num_hidden1': 162, 'num_hidden2': 322, 'num_hidden3': 484, 'num_hidden4': 199, 'num_hidden5': 477, 'num_hidden6': 557, 'threshold': 0.3918044174933659}. Best is trial 85 with value: 0.022372110605691418.\u001b[0m\n"
     ]
    },
    {
     "name": "stdout",
     "output_type": "stream",
     "text": [
      "loss: 0.109710 \n"
     ]
    },
    {
     "name": "stderr",
     "output_type": "stream",
     "text": [
      "\u001b[32m[I 2023-05-02 19:27:06,233]\u001b[0m Trial 89 finished with value: 0.023713463819340655 and parameters: {'learning_rate': 0.001687509916524713, 'optimizer': 'Adam', 'batch_size': 192, 'num_hidden1': 442, 'num_hidden2': 433, 'num_hidden3': 319, 'num_hidden4': 269, 'num_hidden5': 430, 'num_hidden6': 579, 'threshold': 0.4403062853189284}. Best is trial 85 with value: 0.022372110605691418.\u001b[0m\n"
     ]
    },
    {
     "name": "stdout",
     "output_type": "stream",
     "text": [
      "loss: 0.023713 \n"
     ]
    },
    {
     "name": "stderr",
     "output_type": "stream",
     "text": [
      "\u001b[32m[I 2023-05-02 19:27:19,787]\u001b[0m Trial 90 finished with value: 0.13766703073467526 and parameters: {'learning_rate': 0.00514350085734693, 'optimizer': 'SGD', 'batch_size': 208, 'num_hidden1': 483, 'num_hidden2': 401, 'num_hidden3': 394, 'num_hidden4': 249, 'num_hidden5': 452, 'num_hidden6': 501, 'threshold': 0.3770441101870312}. Best is trial 85 with value: 0.022372110605691418.\u001b[0m\n"
     ]
    },
    {
     "name": "stdout",
     "output_type": "stream",
     "text": [
      "loss: 0.137667 \n"
     ]
    },
    {
     "name": "stderr",
     "output_type": "stream",
     "text": [
      "\u001b[32m[I 2023-05-02 19:27:35,232]\u001b[0m Trial 91 finished with value: 0.025019669841075766 and parameters: {'learning_rate': 0.0015111487772638205, 'optimizer': 'Adam', 'batch_size': 256, 'num_hidden1': 190, 'num_hidden2': 343, 'num_hidden3': 287, 'num_hidden4': 228, 'num_hidden5': 403, 'num_hidden6': 343, 'threshold': 0.4670914855344315}. Best is trial 85 with value: 0.022372110605691418.\u001b[0m\n"
     ]
    },
    {
     "name": "stdout",
     "output_type": "stream",
     "text": [
      "loss: 0.025020 \n"
     ]
    },
    {
     "name": "stderr",
     "output_type": "stream",
     "text": [
      "\u001b[32m[I 2023-05-02 19:27:50,117]\u001b[0m Trial 92 finished with value: 0.023909971863031388 and parameters: {'learning_rate': 0.00013845536840212418, 'optimizer': 'Adam', 'batch_size': 240, 'num_hidden1': 278, 'num_hidden2': 306, 'num_hidden3': 457, 'num_hidden4': 221, 'num_hidden5': 340, 'num_hidden6': 383, 'threshold': 0.4744386237577155}. Best is trial 85 with value: 0.022372110605691418.\u001b[0m\n"
     ]
    },
    {
     "name": "stdout",
     "output_type": "stream",
     "text": [
      "loss: 0.023910 \n"
     ]
    },
    {
     "name": "stderr",
     "output_type": "stream",
     "text": [
      "\u001b[32m[I 2023-05-02 19:28:08,038]\u001b[0m Trial 93 finished with value: 0.025424450842870608 and parameters: {'learning_rate': 0.0076367646045805825, 'optimizer': 'Adam', 'batch_size': 272, 'num_hidden1': 220, 'num_hidden2': 420, 'num_hidden3': 492, 'num_hidden4': 306, 'num_hidden5': 420, 'num_hidden6': 415, 'threshold': 0.4872338635885032}. Best is trial 85 with value: 0.022372110605691418.\u001b[0m\n"
     ]
    },
    {
     "name": "stdout",
     "output_type": "stream",
     "text": [
      "loss: 0.025424 \n"
     ]
    },
    {
     "name": "stderr",
     "output_type": "stream",
     "text": [
      "\u001b[32m[I 2023-05-02 19:28:24,585]\u001b[0m Trial 94 finished with value: 0.14074790940202517 and parameters: {'learning_rate': 0.003154770008765672, 'optimizer': 'Adam', 'batch_size': 256, 'num_hidden1': 348, 'num_hidden2': 372, 'num_hidden3': 360, 'num_hidden4': 212, 'num_hidden5': 390, 'num_hidden6': 437, 'threshold': 0.4914794480580042}. Best is trial 85 with value: 0.022372110605691418.\u001b[0m\n"
     ]
    },
    {
     "name": "stdout",
     "output_type": "stream",
     "text": [
      "loss: 0.140748 \n"
     ]
    },
    {
     "name": "stderr",
     "output_type": "stream",
     "text": [
      "\u001b[32m[I 2023-05-02 19:28:41,465]\u001b[0m Trial 95 finished with value: 0.022749881260097027 and parameters: {'learning_rate': 6.206512635070397e-05, 'optimizer': 'Adam', 'batch_size': 240, 'num_hidden1': 314, 'num_hidden2': 386, 'num_hidden3': 513, 'num_hidden4': 290, 'num_hidden5': 225, 'num_hidden6': 584, 'threshold': 0.44847472216984574}. Best is trial 85 with value: 0.022372110605691418.\u001b[0m\n"
     ]
    },
    {
     "name": "stdout",
     "output_type": "stream",
     "text": [
      "loss: 0.022750 \n"
     ]
    },
    {
     "name": "stderr",
     "output_type": "stream",
     "text": [
      "\u001b[32m[I 2023-05-02 19:29:03,553]\u001b[0m Trial 96 finished with value: 0.03438862655876261 and parameters: {'learning_rate': 0.005068477059155758, 'optimizer': 'Adam', 'batch_size': 224, 'num_hidden1': 382, 'num_hidden2': 388, 'num_hidden3': 527, 'num_hidden4': 288, 'num_hidden5': 301, 'num_hidden6': 584, 'threshold': 0.4250600959528673}. Best is trial 85 with value: 0.022372110605691418.\u001b[0m\n"
     ]
    },
    {
     "name": "stdout",
     "output_type": "stream",
     "text": [
      "loss: 0.034389 \n"
     ]
    },
    {
     "name": "stderr",
     "output_type": "stream",
     "text": [
      "\u001b[32m[I 2023-05-02 19:29:27,429]\u001b[0m Trial 97 finished with value: 0.02570168301463127 and parameters: {'learning_rate': 0.002566356361266608, 'optimizer': 'Adam', 'batch_size': 240, 'num_hidden1': 308, 'num_hidden2': 453, 'num_hidden3': 541, 'num_hidden4': 327, 'num_hidden5': 355, 'num_hidden6': 561, 'threshold': 0.4497262957341523}. Best is trial 85 with value: 0.022372110605691418.\u001b[0m\n"
     ]
    },
    {
     "name": "stdout",
     "output_type": "stream",
     "text": [
      "loss: 0.025702 \n"
     ]
    },
    {
     "name": "stderr",
     "output_type": "stream",
     "text": [
      "\u001b[32m[I 2023-05-02 19:30:14,077]\u001b[0m Trial 98 finished with value: 0.029209880717098714 and parameters: {'learning_rate': 0.00771988720231155, 'optimizer': 'Adam', 'batch_size': 80, 'num_hidden1': 322, 'num_hidden2': 436, 'num_hidden3': 471, 'num_hidden4': 265, 'num_hidden5': 233, 'num_hidden6': 543, 'threshold': 0.4016266943172981}. Best is trial 85 with value: 0.022372110605691418.\u001b[0m\n"
     ]
    },
    {
     "name": "stdout",
     "output_type": "stream",
     "text": [
      "loss: 0.029210 \n"
     ]
    },
    {
     "name": "stderr",
     "output_type": "stream",
     "text": [
      "\u001b[32m[I 2023-05-02 19:30:39,258]\u001b[0m Trial 99 finished with value: 0.10754392183188236 and parameters: {'learning_rate': 0.01381309236777491, 'optimizer': 'Adam', 'batch_size': 224, 'num_hidden1': 298, 'num_hidden2': 409, 'num_hidden3': 506, 'num_hidden4': 420, 'num_hidden5': 413, 'num_hidden6': 590, 'threshold': 0.43712857545723466}. Best is trial 85 with value: 0.022372110605691418.\u001b[0m\n"
     ]
    },
    {
     "name": "stdout",
     "output_type": "stream",
     "text": [
      "loss: 0.107544 \n"
     ]
    }
   ],
   "source": [
    "def objective(trial):\n",
    "        \n",
    "        params = {\n",
    "\n",
    "            'learning_rate': trial.suggest_float('learning_rate', 1e-5, 1e-1),\n",
    "            'optimizer': trial.suggest_categorical(\"optimizer\", [\"Adam\", \"SGD\"]),\n",
    "            'batch_size': trial.suggest_int(\"batch_size\", 64, 320,step=16),\n",
    "            'num_hidden1': trial.suggest_int(\"num_hidden1\", 50, 500),\n",
    "            'num_hidden2': trial.suggest_int(\"num_hidden2\", 50, 600),\n",
    "            'num_hidden3': trial.suggest_int(\"num_hidden3\", 50, 600),\n",
    "            'num_hidden4': trial.suggest_int(\"num_hidden4\", 50, 600),\n",
    "            'num_hidden5': trial.suggest_int(\"num_hidden5\", 50, 600),\n",
    "            'num_hidden6': trial.suggest_int(\"num_hidden6\", 50, 600),\n",
    "            'threshold':trial.suggest_float('threshold', 1e-3, 0.5),\n",
    "            }\n",
    "        \n",
    "\n",
    "        train_dl= DataLoader(trainset, shuffle=True, batch_size=params['batch_size'])\n",
    "        valid_dl= DataLoader(validset, shuffle=True, batch_size=params['batch_size'])\n",
    "\n",
    "        model_0.eval()\n",
    "        \n",
    "        indexT=[]\n",
    "        for i in range(len(trainset)):\n",
    "            outputs = model_0(trainset.dataset.x[i])\n",
    "            loss = criterion(outputs,trainset.dataset.y[i].reshape(-1))\n",
    "            if(loss<params['threshold']):\n",
    "                indexT.append(i)\n",
    "        \n",
    "        Tdataset=torch.utils.data.Subset(trainset, indexT)\n",
    "        \n",
    "        Tdl=DataLoader(Tdataset, shuffle=True, batch_size=params['batch_size'])\n",
    "      \n",
    "        model= MLP(params)\n",
    "        best_model,loss=train_and_evaluate(params,model,Tdl)\n",
    "      \n",
    "        torch.save(best_model.state_dict(), f\"model_trial_{trial.number}.pth\")\n",
    "    \n",
    "        return loss\n",
    "    \n",
    "\n",
    "study = optuna.create_study(direction=\"minimize\", sampler=optuna.samplers.TPESampler())\n",
    "study.optimize(objective, n_trials=50)"
   ]
  },
  {
   "cell_type": "code",
   "execution_count": null,
   "metadata": {},
   "outputs": [],
   "source": [
    "# display(optuna.visualization.plot_param_importances(study))\n",
    "# display(optuna.visualization.plot_parallel_coordinate(study))\n",
    "# display(optuna.visualization.plot_optimization_history(study))"
   ]
  },
  {
   "cell_type": "code",
   "execution_count": 945,
   "metadata": {},
   "outputs": [
    {
     "name": "stdout",
     "output_type": "stream",
     "text": [
      "loss: 0.023143 \n"
     ]
    }
   ],
   "source": [
    "model_op= MLP(study.best_params)\n",
    "model_op.load_state_dict(torch.load(\"C:/Users/MJ/Desktop/FunctionApproximation/model_trial_85.pth\"))\n",
    "model_op.eval()\n",
    "losses=[]\n",
    "for batch,(data, target,idx) in enumerate(valid_dl):\n",
    "    outputs = model_op(data)\n",
    "    loss = criterion(outputs.reshape(-1), target.reshape(-1))\n",
    "    losses.append(loss.item())\n",
    "print(f\"loss: {sum(losses)/len(losses):>7f} \")\n",
    "loss=sum(losses)/len(losses)\n",
    "\n"
   ]
  },
  {
   "cell_type": "code",
   "execution_count": null,
   "metadata": {},
   "outputs": [],
   "source": [
    "# def objective_en(trial):\n",
    "#     a=trial.suggest_float('a',0, 10)\n",
    "#     b=trial.suggest_float('b',0, 10)\n",
    "\n",
    "\n",
    "#     losses=[]\n",
    "#     for batch,(data, target,idx) in enumerate(valid_dl):\n",
    "#         outputs = (a*model_op(data)+b*model_sec(data))/(a+b)\n",
    "#         loss = criterion(outputs.reshape(-1), target.reshape(-1))\n",
    "#         losses.append(loss.item())\n",
    "#     print(f\"loss: {sum(losses)/len(losses):>7f} \")\n",
    "#     loss=sum(losses)/len(losses)\n",
    "\n",
    "\n",
    "\n",
    "#     return loss\n",
    "\n",
    "# study_en = optuna.create_study(direction='minimize')\n",
    "# optuna.logging.set_verbosity(optuna.logging.WARNING)\n",
    "# study_en.optimize(objective_en, n_trials=25)"
   ]
  },
  {
   "cell_type": "code",
   "execution_count": 946,
   "metadata": {},
   "outputs": [],
   "source": [
    "model_op.eval()\n",
    "output=[]\n",
    "for i in range(len(testset)):\n",
    "    output.append((model_op(testset.x[i])).item())\n",
    "\n",
    "sample_submission=pd.read_csv(\"C:/Users/MJ/Desktop/FunctionApproximation/sample_submission.csv\")\n",
    "sample_submission['y']=output\n",
    "sample_submission.to_csv(\"C:/Users/MJ/Desktop/sample_submission.csv\",index=False)"
   ]
  }
 ],
 "metadata": {
  "kernelspec": {
   "display_name": "MJ",
   "language": "python",
   "name": "python3"
  },
  "language_info": {
   "codemirror_mode": {
    "name": "ipython",
    "version": 3
   },
   "file_extension": ".py",
   "mimetype": "text/x-python",
   "name": "python",
   "nbconvert_exporter": "python",
   "pygments_lexer": "ipython3",
   "version": "3.10.6"
  },
  "orig_nbformat": 4
 },
 "nbformat": 4,
 "nbformat_minor": 2
}
