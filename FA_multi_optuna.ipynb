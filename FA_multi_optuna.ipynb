{
 "cells": [
  {
   "cell_type": "code",
   "execution_count": 30,
   "metadata": {},
   "outputs": [],
   "source": [
    "import numpy as np \n",
    "import pandas as pd\n",
    "import torch\n",
    "import torch.nn as nn\n",
    "from torch.utils.data import DataLoader,random_split,Dataset,Subset\n",
    "import torchvision.transforms as transforms\n",
    "import torchvision.models as models\n",
    "import matplotlib.pyplot as plt\n",
    "from sklearn.preprocessing import LabelEncoder\n",
    "import optuna\n",
    "import joblib"
   ]
  },
  {
   "attachments": {},
   "cell_type": "markdown",
   "metadata": {},
   "source": [
    "讀取檔案"
   ]
  },
  {
   "cell_type": "code",
   "execution_count": 32,
   "metadata": {},
   "outputs": [],
   "source": [
    "train=pd.read_csv(\"C:/Users/MJ/Desktop/FunctionApproximation/train.csv\")\n",
    "test=pd.read_csv(\"C:/Users/MJ/Desktop/FunctionApproximation/test.csv\")"
   ]
  },
  {
   "attachments": {},
   "cell_type": "markdown",
   "metadata": {},
   "source": [
    "建立Dataset Class"
   ]
  },
  {
   "cell_type": "code",
   "execution_count": 33,
   "metadata": {},
   "outputs": [],
   "source": [
    "class FADataset(Dataset):\n",
    "    def __init__(self, data,train=True):\n",
    "        super().__init__()\n",
    "        if(train):\n",
    "            self.x=data.drop(['id','y'],axis=1).values\n",
    "            self.x=torch.tensor(self.x,dtype=torch.float32)\n",
    "            self.y=torch.tensor(data['y'].values,dtype=torch.float32)\n",
    "        else:\n",
    "            self.x=data.drop(['id'],axis=1).values\n",
    "            self.x=torch.tensor(self.x,dtype=torch.float32)\n",
    "            \n",
    "    def __len__(self):\n",
    "        return len(self.x)\n",
    "\n",
    "    def __getitem__(self, idx):\n",
    "        data=self.x[idx]\n",
    "        target=self.y[idx]\n",
    "        return data,target,idx\n"
   ]
  },
  {
   "cell_type": "code",
   "execution_count": 131,
   "metadata": {},
   "outputs": [],
   "source": [
    "dataset=FADataset(train,train=True)\n",
    "trainset, validset = random_split(dataset, [0.9, 0.1])\n",
    "testset=FADataset(test,train=False)\n",
    "test_dl=DataLoader(testset,shuffle=False, batch_size=80)"
   ]
  },
  {
   "attachments": {},
   "cell_type": "markdown",
   "metadata": {},
   "source": [
    "建立MLP Class"
   ]
  },
  {
   "cell_type": "code",
   "execution_count": 132,
   "metadata": {},
   "outputs": [],
   "source": [
    "class MLP(nn.Module):\n",
    "    def __init__(self,params):\n",
    "        super().__init__()\n",
    "        self.model=nn.Sequential(nn.Linear(2,params['num_hidden1']),\n",
    "                                nn.ReLU(True),\n",
    "                                nn.Linear(params['num_hidden1'],params['num_hidden2']),\n",
    "                                nn.ReLU(True),\n",
    "                                nn.Linear(params['num_hidden2'],params['num_hidden3']),\n",
    "                                nn.ReLU(True),\n",
    "                                nn.Linear(params['num_hidden3'],params['num_hidden4']),\n",
    "                                nn.ReLU(True),\n",
    "                                nn.Linear(params['num_hidden4'],params['num_hidden5']),\n",
    "                                nn.ReLU(True),  \n",
    "                                nn.Linear(params['num_hidden5'],params['num_hidden6']),\n",
    "                                nn.Linear(params['num_hidden6'],1)\n",
    "                                )\n",
    "    def forward(self, x):\n",
    "        return self.model(x)\n"
   ]
  },
  {
   "attachments": {},
   "cell_type": "markdown",
   "metadata": {},
   "source": [
    "Train and evaluate model"
   ]
  },
  {
   "cell_type": "code",
   "execution_count": 103,
   "metadata": {},
   "outputs": [],
   "source": [
    "def train_and_evaluate(params,model,datadl):\n",
    "\n",
    "    optimizer = getattr(torch.optim, params['optimizer'])(model.parameters(), lr= params['learning_rate'])\n",
    "    criterion = nn.MSELoss()\n",
    "\n",
    "    losses=[]\n",
    "    num_epochs=50\n",
    "    model.train()\n",
    "    for epoch in range(num_epochs):\n",
    "        for batch,(data, target,idx) in enumerate(datadl):\n",
    "            outputs = model(data)\n",
    "            loss = criterion(outputs.reshape(-1), target.reshape(-1))\n",
    "            optimizer.zero_grad()\n",
    "            loss.backward()\n",
    "            optimizer.step()\n",
    "\n",
    "\n",
    "    model.eval()\n",
    "    losses=[]\n",
    "    for batch,(data, target,idx) in enumerate(datadl):\n",
    "        outputs = model(data)\n",
    "        loss = criterion(outputs.reshape(-1), target.reshape(-1))\n",
    "        losses.append(loss.item())\n",
    "    # print(f\"loss: {sum(losses)/len(losses):>7f} \")\n",
    "    loss=sum(losses)/len(losses)\n",
    "    \n",
    "    return model,loss\n"
   ]
  },
  {
   "attachments": {},
   "cell_type": "markdown",
   "metadata": {},
   "source": [
    "使用optuna選取較佳的參數"
   ]
  },
  {
   "cell_type": "code",
   "execution_count": 104,
   "metadata": {},
   "outputs": [],
   "source": [
    "\n",
    "def objective(trial):\n",
    "        \n",
    "        params = {\n",
    "\n",
    "            'learning_rate': trial.suggest_float('learning_rate', 1e-5, 1e-1),\n",
    "            'optimizer': trial.suggest_categorical(\"optimizer\", [\"Adam\", \"SGD\"]),\n",
    "            'batch_size': trial.suggest_int(\"batch_size\", 64, 320,step=16),\n",
    "            'num_hidden1': trial.suggest_int(\"num_hidden1\", 50, 500),\n",
    "            'num_hidden2': trial.suggest_int(\"num_hidden2\", 50, 600),\n",
    "            'num_hidden3': trial.suggest_int(\"num_hidden3\", 50, 600),\n",
    "            'num_hidden4': trial.suggest_int(\"num_hidden4\", 50, 600),\n",
    "            'num_hidden5': trial.suggest_int(\"num_hidden5\", 50, 600),\n",
    "            'num_hidden6': trial.suggest_int(\"num_hidden6\", 50, 600)\n",
    "            }\n",
    "        \n",
    "        train_dl= DataLoader(trainset, shuffle=True, batch_size=params['batch_size'])\n",
    "        valid_dl= DataLoader(validset, shuffle=True, batch_size=params['batch_size'])\n",
    "\n",
    "        model= MLP(params)\n",
    "        best_model,loss=train_and_evaluate(params,model,train_dl)\n",
    "      \n",
    "        torch.save(best_model.state_dict(), f\"model_trial_{trial.number}.pth\")\n",
    "    \n",
    "        return loss\n"
   ]
  },
  {
   "attachments": {},
   "cell_type": "markdown",
   "metadata": {},
   "source": [
    "利用optuna選出來的參數建立模型"
   ]
  },
  {
   "cell_type": "code",
   "execution_count": 105,
   "metadata": {},
   "outputs": [],
   "source": [
    "train_dl= DataLoader(trainset, shuffle=True, batch_size=study_alldata.best_params['batch_size'])\n",
    "valid_dl= DataLoader(validset, shuffle=True, batch_size=study_alldata.best_params['batch_size'])\n",
    "criterion = nn.MSELoss()"
   ]
  },
  {
   "cell_type": "code",
   "execution_count": 133,
   "metadata": {},
   "outputs": [
    {
     "name": "stdout",
     "output_type": "stream",
     "text": [
      "model_0 loss= 0.022552061745006104\n",
      "model_1 loss= 0.02433023564517498\n",
      "model_2 loss= 0.023560093057652314\n",
      "model_3 loss= 0.02435948667426904\n",
      "model_4 loss= 0.02350031938403845\n",
      "model_5 loss= 0.023195896688848736\n",
      "model_6 loss= 0.02258224644493766\n",
      "model_7 loss= 0.02255336705433286\n"
     ]
    }
   ],
   "source": [
    "model=[]\n",
    "for i in range(8):\n",
    "    study = optuna.create_study(direction=\"minimize\", sampler=optuna.samplers.TPESampler())\n",
    "    optuna.logging.set_verbosity(optuna.logging.WARNING)\n",
    "    study.optimize(objective, n_trials=30)\n",
    "    print(f\"model_{i} loss=\",study.best_value)\n",
    "    model.append(MLP(study.best_params))\n",
    "    model[i].load_state_dict(torch.load(f\"C:/Users/MJ/Desktop/FunctionApproximation/model_trial_{study.best_trial.number}.pth\"))\n",
    "    torch.save(model[i],f'model_{i}.pth')"
   ]
  },
  {
   "attachments": {},
   "cell_type": "markdown",
   "metadata": {},
   "source": [
    "Load model"
   ]
  },
  {
   "cell_type": "code",
   "execution_count": null,
   "metadata": {},
   "outputs": [],
   "source": [
    "# model=[]\n",
    "# for i in range(5):\n",
    "#     model.append(torch.load(f\"C:/Users/MJ/Desktop/FunctionApproximation/model_{i}.pth\"))"
   ]
  },
  {
   "attachments": {},
   "cell_type": "markdown",
   "metadata": {},
   "source": [
    "8個模型分別對於validation dataset 的表現"
   ]
  },
  {
   "cell_type": "code",
   "execution_count": 135,
   "metadata": {},
   "outputs": [
    {
     "name": "stdout",
     "output_type": "stream",
     "text": [
      "loss: 0.020341 \n",
      "loss: 0.021502 \n",
      "loss: 0.021000 \n",
      "loss: 0.022430 \n",
      "loss: 0.020994 \n",
      "loss: 0.021126 \n",
      "loss: 0.019786 \n",
      "loss: 0.020275 \n"
     ]
    }
   ],
   "source": [
    "for i in range(8):\n",
    "    model[i].eval()\n",
    "    losses=[]\n",
    "    for batch,(data, target,idx) in enumerate(valid_dl):\n",
    "        outputs = model[i](data)\n",
    "        loss = criterion(outputs.reshape(-1), target.reshape(-1))\n",
    "        losses.append(loss.item())\n",
    "    print(f\"loss: {sum(losses)/len(losses):>7f} \")\n",
    "    loss=sum(losses)/len(losses)"
   ]
  },
  {
   "attachments": {},
   "cell_type": "markdown",
   "metadata": {},
   "source": [
    "使用optuna尋找8個模型較佳的權重值"
   ]
  },
  {
   "cell_type": "code",
   "execution_count": 149,
   "metadata": {},
   "outputs": [],
   "source": [
    "def objective_en(trial):\n",
    "  \n",
    "    a=trial.suggest_float('a',0, 100)\n",
    "    b=trial.suggest_float('b',0, 100)\n",
    "    c=trial.suggest_float('c',0, 100)\n",
    "    d=trial.suggest_float('d',0, 100)\n",
    "    e=trial.suggest_float('e',0, 100)\n",
    "    f=trial.suggest_float('f',0, 100)\n",
    "    g=trial.suggest_float('g',0, 100)\n",
    "    h=trial.suggest_float('h',0, 100)\n",
    "    \n",
    "    losses=[]\n",
    "    \n",
    "    for batch,(data, target,idx) in enumerate(train_dl):\n",
    "        outputs = (a*model[0](data)+b*model[1](data)+c*model[2](data)+d*model[3](data)+e*model[4](data)+e*model[4](data)+f*model[5](data)+g*model[6](data)+h*model[7](data))/(a+b+c+d+e+g+h)\n",
    "        loss = criterion(outputs.reshape(-1), target.reshape(-1))\n",
    "        losses.append(loss.item())\n",
    "    # print(f\"loss: {sum(losses)/len(losses):>7f} \")\n",
    "    loss=sum(losses)/len(losses)\n",
    "\n",
    "    return loss\n",
    "\n",
    "study_en = optuna.create_study(direction='minimize')\n",
    "study_en.optimize(objective_en, n_trials=100)\n"
   ]
  },
  {
   "cell_type": "code",
   "execution_count": 153,
   "metadata": {},
   "outputs": [
    {
     "data": {
      "text/plain": [
       "0.0221860954884143"
      ]
     },
     "execution_count": 153,
     "metadata": {},
     "output_type": "execute_result"
    }
   ],
   "source": [
    "study_en.best_value"
   ]
  },
  {
   "attachments": {},
   "cell_type": "markdown",
   "metadata": {},
   "source": [
    "使用optuna選出來的權重預測 test data"
   ]
  },
  {
   "cell_type": "code",
   "execution_count": 156,
   "metadata": {},
   "outputs": [],
   "source": [
    "a=study_en.best_params['a']\n",
    "b=study_en.best_params['b']\n",
    "c=study_en.best_params['c']\n",
    "d=study_en.best_params['d']\n",
    "e=study_en.best_params['e']\n",
    "e=study_en.best_params['e']\n",
    "f=study_en.best_params['f']\n",
    "g=study_en.best_params['g']\n",
    "h=study_en.best_params['h']\n",
    "\n",
    "\n",
    "for i in range(len(testset)):\n",
    "    output.append(((a*model[0](testset.x[i])+b*model[1](testset.x[i])+c*model[2](testset.x[i])+d*model[3](testset.x[i])+e*model[4](testset.x[i])+f*model[5](testset.x[i])+g*model[6](testset.x[i])+h*model[7](testset.x[i]))/(a+b+c+d+e+g+h)).item())\n",
    "\n"
   ]
  },
  {
   "cell_type": "markdown",
   "metadata": {},
   "source": [
    "將test data預測結果存取成 sample_submission.csv"
   ]
  },
  {
   "cell_type": "code",
   "execution_count": 157,
   "metadata": {},
   "outputs": [],
   "source": [
    "sample_submission=pd.read_csv(\"C:/Users/MJ/Desktop/FunctionApproximation/sample_submission.csv\")\n",
    "sample_submission['y']=output\n",
    "sample_submission.to_csv(\"C:/Users/MJ/Desktop/sample_submission.csv\",index=False)"
   ]
  },
  {
   "cell_type": "markdown",
   "metadata": {},
   "source": [
    "將loss值較大的當成noise data後去除再訓練模型(但此方法loss值大於使用ensemble learning，因此不採用)"
   ]
  },
  {
   "cell_type": "code",
   "execution_count": null,
   "metadata": {},
   "outputs": [],
   "source": [
    "# model=[]\n",
    "# optimizer=[]\n",
    "\n",
    "# for i in range(3):\n",
    "#     model.append(MLP(input_dim=2, num_hidden1=380,num_hidden2=155,num_hidden3=22,num_hidden4=467,num_hidden5=27,num_hidden6=130, output_dim=1))\n",
    "#     optimizer.append(torch.optim.SGD(model[i].parameters(), lr=0.08115999290485583))\n",
    "# criterion = nn.MSELoss()"
   ]
  },
  {
   "cell_type": "code",
   "execution_count": null,
   "metadata": {},
   "outputs": [],
   "source": [
    "# model[0].eval()\n",
    "# indexF=[]\n",
    "# indexT=[]\n",
    "# for i in range(len(trainset)):\n",
    "#     outputs = model[0](trainset.dataset.x[i])\n",
    "#     loss = criterion(outputs,trainset.dataset.y[i].reshape(1))\n",
    "#     if(loss<0.08):           #將loss值大於0.08的去除\n",
    "#         indexT.append(i)"
   ]
  },
  {
   "cell_type": "code",
   "execution_count": null,
   "metadata": {},
   "outputs": [],
   "source": [
    "# Tdataset=torch.utils.data.Subset(trainset, indexT)\n",
    "# Tdl=DataLoader(Tdataset, shuffle=True, batch_size=batch_size)\n",
    "\n",
    "\n",
    "# num_epochs = 80\n",
    "# size = len(Tdl)\n",
    "# model[1].train()\n",
    "# for epoch in range(num_epochs):\n",
    "#     for batch,(data, target,idx) in enumerate(Tdl):\n",
    "#         outputs = model[1](data)\n",
    "#         loss = criterion(outputs.reshape(-1), target.reshape(-1))\n",
    "#         optimizer[1].zero_grad()\n",
    "#         loss.backward()\n",
    "#         optimizer[1].step()\n",
    "#         if batch % 80 == 0: \n",
    "#             print(f\"loss: {loss.item():>7f} \")\n",
    "#             losses.append(loss.item())"
   ]
  }
 ],
 "metadata": {
  "kernelspec": {
   "display_name": "MJ",
   "language": "python",
   "name": "python3"
  },
  "language_info": {
   "codemirror_mode": {
    "name": "ipython",
    "version": 3
   },
   "file_extension": ".py",
   "mimetype": "text/x-python",
   "name": "python",
   "nbconvert_exporter": "python",
   "pygments_lexer": "ipython3",
   "version": "3.10.6"
  },
  "orig_nbformat": 4
 },
 "nbformat": 4,
 "nbformat_minor": 2
}
